{
 "cells": [
  {
   "cell_type": "code",
   "execution_count": 95,
   "source": [
    "using RigidBodyDynamics\n",
    "using LinearAlgebra\n",
    "using StaticArrays\n",
    "using MeshCat\n",
    "using MeshCatMechanisms\n",
    "using MechanismGeometries\n",
    "\n",
    "include(\"/home/hkolano/onr-dynamics-julia/simulate_with_ext_forces.jl\")\n",
    "println(\"Libraries imported.\")"
   ],
   "outputs": [
    {
     "output_type": "stream",
     "name": "stdout",
     "text": [
      "Libraries imported.\n"
     ]
    }
   ],
   "metadata": {}
  },
  {
   "cell_type": "code",
   "execution_count": 96,
   "source": [
    "# ------------------------------------------------------------------------\n",
    "#                            MODEL DEFINITION\n",
    "# ------------------------------------------------------------------------\n",
    "# Define paths to the URDF files\n",
    "src_dir = dirname(pathof(RigidBodyDynamics))\n",
    "urdf_file_alpha = joinpath(src_dir, \"..\", \"..\", \"..\", \"..\", \"..\", \"onr-dynamics-julia\", \"URDFs\", \"alphaArmFixedJaws.urdf\")\n",
    "urdf_file_water = joinpath(src_dir, \"..\", \"..\", \"..\", \"..\", \"..\", \"onr-dynamics-julia\", \"URDFs\", \"alphaArmWater.urdf\")\n",
    "mechanism_alpha = parse_urdf(urdf_file_alpha)\n",
    "mechanism_water = parse_urdf(urdf_file_water; gravity = [0.0, 0.0, 0.0])\n",
    "\n",
    "# Create visuals of the URDFs\n",
    "visuals = URDFVisuals(urdf_file_alpha)\n",
    "water_vis = URDFVisuals(urdf_file_water)\n",
    "mvis_alpha = MechanismVisualizer(mechanism_alpha, URDFVisuals(urdf_file_alpha))\n",
    "mvis_water = MechanismVisualizer(mechanism_water, URDFVisuals(urdf_file_water))\n",
    "\n",
    "# Name the joints of the mechanisms\n",
    "base_joint, shoulder_joint, elbow_joint, wrist_joint = joints(mechanism_alpha)\n",
    "base_j_water, shoulder_j_water, elbow_j_water, wrist_j_water = joints(mechanism_water)\n",
    "\n",
    "println(\"URDFs parsed. Visualizers ready. \\n\")"
   ],
   "outputs": [
    {
     "output_type": "stream",
     "name": "stderr",
     "text": [
      "┌ Info: MeshCat server started. You can open the visualizer by visiting the following URL in your browser:\n",
      "│ http://localhost:8720\n",
      "└ @ MeshCat /home/hkolano/.julia/packages/MeshCat/nXUuG/src/visualizer.jl:69\n",
      "┌ Info: MeshCat server started. You can open the visualizer by visiting the following URL in your browser:\n",
      "│ http://localhost:8721\n",
      "└ @ MeshCat /home/hkolano/.julia/packages/MeshCat/nXUuG/src/visualizer.jl:69\n"
     ]
    },
    {
     "output_type": "stream",
     "name": "stdout",
     "text": [
      "URDFs parsed. Visualizers ready. \n",
      "\n"
     ]
    }
   ],
   "metadata": {}
  },
  {
   "cell_type": "code",
   "execution_count": 97,
   "source": [
    "# ------------------------------------------------------------------------\n",
    "#                          INITIAL CONDITIONS\n",
    "# ------------------------------------------------------------------------\n",
    "function impose_alpha_state_on_water(state_alpha, state_water)\n",
    "    \"\"\"\n",
    "    Take the current state (configuration and velocity) of the alpha arm and impose it on the water mechanism state.\n",
    "    \"\"\"\n",
    "    set_configuration!(state_water, base_j_water, configuration(state_alpha, base_joint))\n",
    "    set_configuration!(state_water, shoulder_j_water, configuration(state_alpha, shoulder_joint))\n",
    "    set_configuration!(state_water, elbow_j_water, configuration(state_alpha, elbow_joint))\n",
    "    set_configuration!(state_water, wrist_j_water, configuration(state_alpha, wrist_joint))\n",
    "    set_velocity!(state_water, base_j_water, velocity(state_alpha, base_joint))\n",
    "    set_velocity!(state_water, shoulder_j_water, velocity(state_alpha, shoulder_joint))\n",
    "    set_velocity!(state_water, elbow_j_water, velocity(state_alpha, elbow_joint))\n",
    "    set_velocity!(state_water, wrist_j_water, velocity(state_alpha, wrist_joint))\n",
    "end;\n",
    "\n",
    "function impose_alpha_desacc_on_water(des_acc, des_acc_water)\n",
    "    des_acc_water[base_j_water][1] = des_acc[base_joint][1]\n",
    "    des_acc_water[shoulder_j_water][1] = des_acc[shoulder_joint][1]\n",
    "    des_acc_water[elbow_j_water][1] = des_acc[elbow_joint][1]\n",
    "    des_acc_water[wrist_j_water][1] = des_acc[wrist_joint][1]\n",
    "end;\n",
    "\n",
    "# Initialize state of alpha arm\n",
    "state_alpha = MechanismState(mechanism_alpha)\n",
    "zero!(state_alpha)\n",
    "# set_configuration!(state, base_joint, 0.0)\n",
    "# set_configuration!(state, shoulder_joint, -.27079)\n",
    "# set_configuration!(state, elbow_joint, 3.1415/2+1.3)\n",
    "# set_configuration!(state, wrist_joint, 0.5)\n",
    "\n",
    "# Initialize state of water arm\n",
    "state_water = MechanismState(mechanism_water)\n",
    "# Make water state = arm state\n",
    "impose_alpha_state_on_water(state_alpha, state_water)\n",
    "# state_water_no_vel = deepcopy(state_water)\n",
    "\n",
    "des_acc = similar(velocity(state_alpha))\n",
    "des_acc[base_joint][1] = 0.5\n",
    "des_acc[shoulder_joint][1] = 0.\n",
    "des_acc[elbow_joint][1] = 0.\n",
    "des_acc[wrist_joint][1] = 0.\n",
    "\n",
    "des_acc_water = similar(velocity(state_water))\n",
    "impose_alpha_desacc_on_water(des_acc, des_acc_water)"
   ],
   "outputs": [
    {
     "output_type": "execute_result",
     "data": {
      "text/plain": [
       "0.0"
      ]
     },
     "metadata": {},
     "execution_count": 97
    }
   ],
   "metadata": {}
  },
  {
   "cell_type": "code",
   "execution_count": 98,
   "source": [
    "# ------------------------------------------------------------------------\n",
    "#                              CONTROLLER\n",
    "# ------------------------------------------------------------------------\n",
    "\n",
    "function simple_control!(torques::AbstractVector, t, state_alpha::MechanismState)\n",
    "    # Calculate inverse dynamics of alpha arm\n",
    "    tau = inverse_dynamics(state_alpha, des_acc)\n",
    "    # Find dynamic terms for water model\n",
    "    impose_alpha_state_on_water(state_alpha, state_water)\n",
    "    tau_water = inverse_dynamics(state_water, des_acc_water)\n",
    "\n",
    "    # Set torques accordingly (controller)\n",
    "    torques[velocity_range(state_alpha, base_joint)] .= tau[base_joint][1]\n",
    "    torques[velocity_range(state_alpha, shoulder_joint)] .= tau[shoulder_joint][1]\n",
    "    torques[velocity_range(state_alpha, elbow_joint)] .= tau[elbow_joint][1]\n",
    "    torques[velocity_range(state_alpha, wrist_joint)] .= tau[wrist_joint][1]\n",
    "end;"
   ],
   "outputs": [],
   "metadata": {}
  },
  {
   "cell_type": "code",
   "execution_count": 105,
   "source": [
    "# ------------------------------------------------------------------------\n",
    "#                      HYDRODYNAMICS CALCULATOR\n",
    "# ------------------------------------------------------------------------\n",
    "function hydro_calc!(hydro_wrenches::Dict, t, state_alpha::MechanismState)\n",
    "    base_frame = root_frame(mechanism_alpha)\n",
    "    wrench_test = Wrench(default_frame(findbody(mechanism_alpha, \"r5m_shoulder_link\")), [1.0, 0.0, 0.0], [0.0, 0.0, 0.0])\n",
    "    \n",
    "    hydro_wrenches = Dict{BodyID, Wrench}(\n",
    "        BodyID(findbody(mechanism_alpha, \"r5m_shoulder_link\")) => transform(state_alpha, wrench_test, base_frame)\n",
    "    )\n",
    "end;"
   ],
   "outputs": [],
   "metadata": {}
  },
  {
   "cell_type": "code",
   "execution_count": 142,
   "source": [
    "base_frame = root_frame(mechanism_alpha)\n",
    "shoulder_frame = default_frame(findbody(mechanism_alpha, \"r5m_shoulder_link\"))\n",
    "shoulder_ID = BodyID(findbody(mechanism_alpha, \"r5m_shoulder_link\"))\n",
    "\n",
    "linear = FreeVector3D(base_frame, [0.0, 0.0, 1.0])\n",
    "angular = FreeVector3D(base_frame, [0.0, 0.0, 0.0])\n",
    "\n",
    "wrench_2 = Wrench(linear, angular)\n",
    "# wrench_transformed = transform(state_alpha, wrench_test, base_frame)\n",
    "\n",
    "# hydro_wrenches = Dict()\n",
    "# hydro_wrenches(shoulder_ID) => wrench_test\n",
    "println(typeof(default_frame(findbody(mechanism_alpha, \"r5m_shoulder_link\"))))\n",
    "println(typeof(wrench_2))\n",
    "\n",
    "hydro_wrenches = Dict()\n",
    "hydro_wrenches[shoulder_ID] = wrench_2\n",
    "\n",
    "# hydro_wrenches = Dict{BodyID, Wrench}(\n",
    "#     BodyID(findbody(mechanism_alpha, \"r5m_shoulder_link\")) => transform(state_alpha, wrench_test, base_frame)\n",
    "# )"
   ],
   "outputs": [
    {
     "output_type": "stream",
     "name": "stdout",
     "text": [
      "CartesianFrame3D\n",
      "Wrench{Float64}\n"
     ]
    },
    {
     "output_type": "execute_result",
     "data": {
      "text/plain": [
       "Wrench expressed in \"world\":\n",
       "angular: [0.0, 0.0, 1.0], linear: [0.0, 0.0, 0.0]"
      ]
     },
     "metadata": {},
     "execution_count": 142
    }
   ],
   "metadata": {}
  },
  {
   "cell_type": "code",
   "execution_count": 106,
   "source": [
    "# ------------------------------------------------------------------------\n",
    "#                              SIMULATION\n",
    "# ------------------------------------------------------------------------\n",
    "final_time = 1.5\n",
    "ts, qs, vs = simulate_with_ext_forces(state_alpha, final_time, hydro_calc!, simple_control!; Δt = 1e-2)\n",
    "\n",
    "println(\"Simulation finished.\")"
   ],
   "outputs": [
    {
     "output_type": "error",
     "ename": "MethodError",
     "evalue": "\u001b[91mMethodError: no method matching Wrench(::Wrench{Float64})\u001b[39m\n\u001b[91m\u001b[0mClosest candidates are:\u001b[39m\n\u001b[91m\u001b[0m  Wrench(\u001b[91m::CartesianFrame3D\u001b[39m, \u001b[91m::AbstractArray{T,1} where T\u001b[39m, \u001b[91m::AbstractArray{T,1} where T\u001b[39m) at /home/hkolano/.julia/packages/RigidBodyDynamics/2qxSc/src/spatial/spatialforce.jl:118\u001b[39m\n\u001b[91m\u001b[0m  Wrench(\u001b[91m::FreeVector3D\u001b[39m, \u001b[91m::FreeVector3D\u001b[39m) at /home/hkolano/.julia/packages/RigidBodyDynamics/2qxSc/src/spatial/spatialforce.jl:129\u001b[39m\n\u001b[91m\u001b[0m  Wrench(\u001b[91m::Point3D\u001b[39m, \u001b[91m::FreeVector3D\u001b[39m) at /home/hkolano/.julia/packages/RigidBodyDynamics/2qxSc/src/spatial/spatialforce.jl:186\u001b[39m\n\u001b[91m\u001b[0m  ...\u001b[39m",
     "traceback": [
      "\u001b[91mMethodError: no method matching Wrench(::Wrench{Float64})\u001b[39m\n\u001b[91m\u001b[0mClosest candidates are:\u001b[39m\n\u001b[91m\u001b[0m  Wrench(\u001b[91m::CartesianFrame3D\u001b[39m, \u001b[91m::AbstractArray{T,1} where T\u001b[39m, \u001b[91m::AbstractArray{T,1} where T\u001b[39m) at /home/hkolano/.julia/packages/RigidBodyDynamics/2qxSc/src/spatial/spatialforce.jl:118\u001b[39m\n\u001b[91m\u001b[0m  Wrench(\u001b[91m::FreeVector3D\u001b[39m, \u001b[91m::FreeVector3D\u001b[39m) at /home/hkolano/.julia/packages/RigidBodyDynamics/2qxSc/src/spatial/spatialforce.jl:129\u001b[39m\n\u001b[91m\u001b[0m  Wrench(\u001b[91m::Point3D\u001b[39m, \u001b[91m::FreeVector3D\u001b[39m) at /home/hkolano/.julia/packages/RigidBodyDynamics/2qxSc/src/spatial/spatialforce.jl:186\u001b[39m\n\u001b[91m\u001b[0m  ...\u001b[39m",
      "",
      "Stacktrace:",
      " [1] convert(::Type{Wrench}, ::Wrench{Float64}) at /home/hkolano/.julia/packages/RigidBodyDynamics/2qxSc/src/spatial/common.jl:10",
      " [2] setindex!(::Dict{BodyID,Wrench}, ::Wrench{Float64}, ::BodyID) at ./dict.jl:381",
      " [3] Dict{BodyID,Wrench}(::Pair{BodyID,Wrench{Float64}}) at ./dict.jl:108",
      " [4] hydro_calc!(::Dict{Any,Any}, ::Float64, ::MechanismState{Float64,Float64,Float64,TypeSortedCollections.TypeSortedCollection{Tuple{Array{Joint{Float64,Revolute{Float64}},1}},1}}) at ./In[105]:8",
      " [5] (::getfield(Main, Symbol(\"##45#46\")){typeof(hydro_calc!),typeof(simple_control!),DynamicsResult{Float64,Float64},Dict{Any,Any},SegmentedVector{JointID,Float64,Base.OneTo{JointID},Array{Float64,1}},RigidBodyDynamics.CustomCollections.ConstDict{JointID,RigidBodyDynamics.PDControl.SE3PDGains{RigidBodyDynamics.PDControl.PDGains{Float64,Float64},RigidBodyDynamics.PDControl.PDGains{Float64,Float64}}}})(::SegmentedVector{JointID,Float64,Base.OneTo{JointID},Array{Float64,1}}, ::Array{Float64,1}, ::Float64, ::MechanismState{Float64,Float64,Float64,TypeSortedCollections.TypeSortedCollection{Tuple{Array{Joint{Float64,Revolute{Float64}},1}},1}}) at /home/hkolano/onr-dynamics-julia/simulate_with_ext_forces.jl:15",
      " [6] step(::MuntheKaasIntegrator{4,Float64,getfield(Main, Symbol(\"##45#46\")){typeof(hydro_calc!),typeof(simple_control!),DynamicsResult{Float64,Float64},Dict{Any,Any},SegmentedVector{JointID,Float64,Base.OneTo{JointID},Array{Float64,1}},RigidBodyDynamics.CustomCollections.ConstDict{JointID,RigidBodyDynamics.PDControl.SE3PDGains{RigidBodyDynamics.PDControl.PDGains{Float64,Float64},RigidBodyDynamics.PDControl.PDGains{Float64,Float64}}}},ExpandingStorage{Float64,SegmentedVector{JointID,Float64,Base.OneTo{JointID},Array{Float64,1}},SegmentedVector{JointID,Float64,Base.OneTo{JointID},Array{Float64,1}}},MechanismState{Float64,Float64,Float64,TypeSortedCollections.TypeSortedCollection{Tuple{Array{Joint{Float64,Revolute{Float64}},1}},1}},16,RigidBodyDynamics.OdeIntegrators.MuntheKaasStageCache{4,Float64,SegmentedVector{JointID,Float64,Base.OneTo{JointID},Array{Float64,1}},SegmentedVector{JointID,Float64,Base.OneTo{JointID},Array{Float64,1}},Array{Float64,1}}}, ::Float64, ::Float64) at /home/hkolano/.julia/packages/RigidBodyDynamics/2qxSc/src/ode_integrators.jl:273",
      " [7] macro expansion at /home/hkolano/.julia/packages/RigidBodyDynamics/2qxSc/src/ode_integrators.jl:312 [inlined]",
      " [8] macro expansion at /home/hkolano/.julia/packages/LoopThrottle/Wpdca/src/LoopThrottle.jl:89 [inlined]",
      " [9] #integrate#17(::Float64, ::Function, ::MuntheKaasIntegrator{4,Float64,getfield(Main, Symbol(\"##45#46\")){typeof(hydro_calc!),typeof(simple_control!),DynamicsResult{Float64,Float64},Dict{Any,Any},SegmentedVector{JointID,Float64,Base.OneTo{JointID},Array{Float64,1}},RigidBodyDynamics.CustomCollections.ConstDict{JointID,RigidBodyDynamics.PDControl.SE3PDGains{RigidBodyDynamics.PDControl.PDGains{Float64,Float64},RigidBodyDynamics.PDControl.PDGains{Float64,Float64}}}},ExpandingStorage{Float64,SegmentedVector{JointID,Float64,Base.OneTo{JointID},Array{Float64,1}},SegmentedVector{JointID,Float64,Base.OneTo{JointID},Array{Float64,1}}},MechanismState{Float64,Float64,Float64,TypeSortedCollections.TypeSortedCollection{Tuple{Array{Joint{Float64,Revolute{Float64}},1}},1}},16,RigidBodyDynamics.OdeIntegrators.MuntheKaasStageCache{4,Float64,SegmentedVector{JointID,Float64,Base.OneTo{JointID},Array{Float64,1}},SegmentedVector{JointID,Float64,Base.OneTo{JointID},Array{Float64,1}},Array{Float64,1}}}, ::Float64, ::Float64) at /home/hkolano/.julia/packages/RigidBodyDynamics/2qxSc/src/ode_integrators.jl:311",
      " [10] integrate(::MuntheKaasIntegrator{4,Float64,getfield(Main, Symbol(\"##45#46\")){typeof(hydro_calc!),typeof(simple_control!),DynamicsResult{Float64,Float64},Dict{Any,Any},SegmentedVector{JointID,Float64,Base.OneTo{JointID},Array{Float64,1}},RigidBodyDynamics.CustomCollections.ConstDict{JointID,RigidBodyDynamics.PDControl.SE3PDGains{RigidBodyDynamics.PDControl.PDGains{Float64,Float64},RigidBodyDynamics.PDControl.PDGains{Float64,Float64}}}},ExpandingStorage{Float64,SegmentedVector{JointID,Float64,Base.OneTo{JointID},Array{Float64,1}},SegmentedVector{JointID,Float64,Base.OneTo{JointID},Array{Float64,1}}},MechanismState{Float64,Float64,Float64,TypeSortedCollections.TypeSortedCollection{Tuple{Array{Joint{Float64,Revolute{Float64}},1}},1}},16,RigidBodyDynamics.OdeIntegrators.MuntheKaasStageCache{4,Float64,SegmentedVector{JointID,Float64,Base.OneTo{JointID},Array{Float64,1}},SegmentedVector{JointID,Float64,Base.OneTo{JointID},Array{Float64,1}},Array{Float64,1}}}, ::Float64, ::Float64) at /home/hkolano/.julia/packages/RigidBodyDynamics/2qxSc/src/ode_integrators.jl:308",
      " [11] #simulate_with_ext_forces#44(::Float64, ::RigidBodyDynamics.CustomCollections.ConstDict{JointID,RigidBodyDynamics.PDControl.SE3PDGains{RigidBodyDynamics.PDControl.PDGains{Float64,Float64},RigidBodyDynamics.PDControl.PDGains{Float64,Float64}}}, ::Function, ::MechanismState{Float64,Float64,Float64,TypeSortedCollections.TypeSortedCollection{Tuple{Array{Joint{Float64,Revolute{Float64}},1}},1}}, ::Float64, ::typeof(hydro_calc!), ::typeof(simple_control!)) at /home/hkolano/onr-dynamics-julia/simulate_with_ext_forces.jl:25",
      " [12] (::getfield(Main, Symbol(\"#kw##simulate_with_ext_forces\")))(::NamedTuple{(:Δt,),Tuple{Float64}}, ::typeof(simulate_with_ext_forces), ::MechanismState{Float64,Float64,Float64,TypeSortedCollections.TypeSortedCollection{Tuple{Array{Joint{Float64,Revolute{Float64}},1}},1}}, ::Float64, ::Function, ::Function) at ./none:0",
      " [13] top-level scope at In[106]:5"
     ]
    }
   ],
   "metadata": {}
  },
  {
   "cell_type": "code",
   "execution_count": null,
   "source": [
    "# ------------------------------------------------------------------------\n",
    "#                             VISUALIZATION\n",
    "# ------------------------------------------------------------------------\n",
    "# vis = Visualizer()\n",
    "# open(vis)\n",
    "\n",
    "# delete!(vis)\n",
    "# mvis = MechanismVisualizer(mechanism, URDFVisuals(urdf_file))\n",
    "# set_configuration!(mvis, [0.0, 0.0])\n",
    "# open(mvis)\n",
    "MeshCatMechanisms.animate(mvis_alpha, ts, qs; realtimerate = 1.)\n",
    "\n",
    "# animation = Animation(mvis, ts, qs)\n",
    "# setanimation!(mvis, animation)\n",
    "\n",
    "println(\"\\n done.\")"
   ],
   "outputs": [
    {
     "output_type": "stream",
     "name": "stdout",
     "text": [
      "\n",
      " done.\n"
     ]
    }
   ],
   "metadata": {}
  },
  {
   "cell_type": "code",
   "execution_count": null,
   "source": [],
   "outputs": [],
   "metadata": {}
  }
 ],
 "metadata": {
  "orig_nbformat": 4,
  "language_info": {
   "file_extension": ".jl",
   "name": "julia",
   "mimetype": "application/julia",
   "version": "1.0.5"
  },
  "kernelspec": {
   "name": "julia-1.0",
   "display_name": "Julia 1.0.5",
   "language": "julia"
  }
 },
 "nbformat": 4,
 "nbformat_minor": 2
}