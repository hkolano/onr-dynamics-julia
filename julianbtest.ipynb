{
 "cells": [
  {
   "cell_type": "code",
   "execution_count": 166,
   "source": [
    "using RigidBodyDynamics\n",
    "using LinearAlgebra\n",
    "using StaticArrays\n",
    "using MeshCat\n",
    "using MeshCatMechanisms\n",
    "using MechanismGeometries\n",
    "using CoordinateTransformations\n",
    "using GeometryBasics\n",
    "\n",
    "include(\"/home/hkolano/onr-dynamics-julia/simulate_with_ext_forces.jl\")\n",
    "println(\"Libraries imported.\")"
   ],
   "outputs": [
    {
     "output_type": "stream",
     "name": "stdout",
     "text": [
      "Libraries imported.\n"
     ]
    }
   ],
   "metadata": {}
  },
  {
   "cell_type": "code",
   "execution_count": 134,
   "source": [
    "# model definition\n",
    "# ------------------------------------------------------------------------\n",
    "#                            MODEL DEFINITION\n",
    "# ------------------------------------------------------------------------\n",
    "vis = Visualizer()\n",
    "render(vis)\n",
    "# Define paths to the URDF files\n",
    "src_dir = dirname(pathof(RigidBodyDynamics))\n",
    "urdf_file_alpha = joinpath(src_dir, \"..\", \"..\", \"..\", \"..\", \"..\", \"onr-dynamics-julia\", \"URDFs\", \"alphaArmFixedJaws.urdf\")\n",
    "urdf_file_water = joinpath(src_dir, \"..\", \"..\", \"..\", \"..\", \"..\", \"onr-dynamics-julia\", \"URDFs\", \"alphaArmWater.urdf\")\n",
    "# mechanism_alpha = parse_urdf(urdf_file_alpha; gravity = [0.0, 0.0, 0.0])\n",
    "mechanism_alpha = parse_urdf(urdf_file_alpha)\n",
    "mechanism_water = parse_urdf(urdf_file_water; gravity = [0.0, 0.0, 0.0])\n",
    "\n",
    "delete!(vis)\n",
    "\n",
    "# Create visuals of the URDFs\n",
    "visuals = URDFVisuals(urdf_file_alpha)\n",
    "water_vis = URDFVisuals(urdf_file_water)\n",
    "mvis_alpha = MechanismVisualizer(mechanism_alpha, URDFVisuals(urdf_file_alpha), vis[:alpha])\n",
    "mvis_water = MechanismVisualizer(mechanism_water, URDFVisuals(urdf_file_water))\n",
    "# print(typeof(mvis_alpha))\n",
    "\n",
    "# Name the joints of the mechanisms\n",
    "base_joint, shoulder_joint, elbow_joint, wrist_joint = joints(mechanism_alpha)\n",
    "base_j_water, shoulder_j_water, elbow_j_water, wrist_j_water = joints(mechanism_water)\n",
    "~, shoulder_body, upper_arm_body, elbow_body, wrist_body = bodies(mechanism_alpha)\n",
    "\n",
    "shoulder_frame = default_frame(shoulder_body)\n",
    "upper_arm_frame = default_frame(upper_arm_body)\n",
    "elbow_frame = default_frame(elbow_body)\n",
    "wrist_frame = default_frame(wrist_body)\n",
    "base_frame = root_frame(mechanism_alpha)\n",
    "# # last_link = bodies(mechanism_alpha)[end]\n",
    "# # body_frame = default_frame(last_link)\n",
    "\n",
    "frame_names = [\"shoulder_cob\", \"ua_cob\", \"elbow_cob\", \"wrist_cob\"]\n",
    "vecs = [SVector{3, Float64}([-0.001, -0.003, .032]), SVector{3, Float64}([0.073, 0.0, -0.002]), SVector{3, Float64}([0.015, -0.012, -.003]), SVector{3, Float64}([0.0, 0.0, -.098])]\n",
    "cob_frames = []\n",
    "for i in 1:4\n",
    "    bod = bodies(mechanism_alpha)[i+1]\n",
    "    frame = CartesianFrame3D(frame_names[i])\n",
    "    vec = vecs[i]\n",
    "    cob_transform = Transform3D(frame, default_frame(bod), vec)\n",
    "    if !(is_fixed_to_body(bod, frame))\n",
    "        add_frame!(bod, cob_transform)\n",
    "        push!(cob_frames, frame)\n",
    "        # setelement!(mvis_alpha, frame)    # visualizes COB frames in MeshCat\n",
    "    end\n",
    "end\n",
    "\n",
    "println(\"URDFs parsed. Visualizers ready. \\n\")"
   ],
   "outputs": [
    {
     "output_type": "stream",
     "name": "stdout",
     "text": [
      "URDFs parsed. Visualizers ready. \n",
      "\n"
     ]
    },
    {
     "output_type": "stream",
     "name": "stderr",
     "text": [
      "┌ Info: MeshCat server started. You can open the visualizer by visiting the following URL in your browser:\n",
      "│ http://127.0.0.1:8714\n",
      "└ @ MeshCat /home/hkolano/.julia/packages/MeshCat/GlCMx/src/visualizer.jl:73\n",
      "┌ Info: MeshCat server started. You can open the visualizer by visiting the following URL in your browser:\n",
      "│ http://127.0.0.1:8715\n",
      "└ @ MeshCat /home/hkolano/.julia/packages/MeshCat/GlCMx/src/visualizer.jl:73\n"
     ]
    }
   ],
   "metadata": {}
  },
  {
   "cell_type": "code",
   "execution_count": 135,
   "source": [
    "# buoyancy force setup\n",
    "# ------------------------------------------------------------------------\n",
    "#                           BUOYANCY SETUP\n",
    "# ------------------------------------------------------------------------\n",
    "# f = rho * g * V\n",
    "# f = 997 (kg/m^3) * 9.81 (m/s^2) * V_in_L *.001 (m^3) = kg m / s^2\n",
    "# One time setup of buoyancy forces\n",
    "volumes = [.018, .203, .025, .155] # shoulder, ua, elbow, wrist \n",
    "# volumes = [0.0, 0.0, 0.0, 0.0]\n",
    "buoy_force_mags = volumes * 997 * 9.81 * .001\n",
    "buoy_lin_forces = []\n",
    "for mag in buoy_force_mags\n",
    "    lin_force = FreeVector3D(base_frame, [0.0, 0.0, mag])\n",
    "    push!(buoy_lin_forces, lin_force)\n",
    "end\n",
    "\n",
    "# println(spatial_inertia(shoulder_body))\n",
    "# println(spatial_inertia(upper_arm_body))\n",
    "# println(spatial_inertia(elbow_body))\n",
    "# println(spatial_inertia(wrist_body))\n",
    "# println(mass(mechanism_alpha))"
   ],
   "outputs": [],
   "metadata": {}
  },
  {
   "cell_type": "code",
   "execution_count": 136,
   "source": [
    "# helper functions\n",
    "# ------------------------------------------------------------------------\n",
    "#                          HELPER FUNCTIONS\n",
    "# ------------------------------------------------------------------------\n",
    "function impose_alpha_state_on_water(state_alpha, state_water)\n",
    "    \"\"\"\n",
    "    Take the current state (configuration and velocity) of the alpha arm and impose it on the water mechanism state.\n",
    "    \"\"\"\n",
    "    set_configuration!(state_water, base_j_water, configuration(state_alpha, base_joint))\n",
    "    set_configuration!(state_water, shoulder_j_water, configuration(state_alpha, shoulder_joint))\n",
    "    set_configuration!(state_water, elbow_j_water, configuration(state_alpha, elbow_joint))\n",
    "    set_configuration!(state_water, wrist_j_water, configuration(state_alpha, wrist_joint))\n",
    "    set_velocity!(state_water, base_j_water, velocity(state_alpha, base_joint))\n",
    "    set_velocity!(state_water, shoulder_j_water, velocity(state_alpha, shoulder_joint))\n",
    "    set_velocity!(state_water, elbow_j_water, velocity(state_alpha, elbow_joint))\n",
    "    set_velocity!(state_water, wrist_j_water, velocity(state_alpha, wrist_joint))\n",
    "end;\n",
    "\n",
    "function impose_alpha_desacc_on_water(des_acc, des_acc_water)\n",
    "    des_acc_water[base_j_water][1] = des_acc[base_joint][1]\n",
    "    des_acc_water[shoulder_j_water][1] = des_acc[shoulder_joint][1]\n",
    "    des_acc_water[elbow_j_water][1] = des_acc[elbow_joint][1]\n",
    "    des_acc_water[wrist_j_water][1] = des_acc[wrist_joint][1]\n",
    "end;"
   ],
   "outputs": [],
   "metadata": {}
  },
  {
   "cell_type": "code",
   "execution_count": 137,
   "source": [
    "# Hydrodynamics calculator function\n",
    "# ------------------------------------------------------------------------\n",
    "#                      HYDRODYNAMICS CALCULATOR\n",
    "# ------------------------------------------------------------------------\n",
    "function hydro_calc!(hydro_wrenches::Dict{BodyID, Wrench{Float64}}, t, state_alpha::MechanismState)\n",
    "    buoy_wrenches = []\n",
    "    # Iterate through buoyancy for each body\n",
    "    for i in 1:4\n",
    "        # Get the body (will have to change this index when add more joints)\n",
    "        bod = bodies(mechanism_alpha)[i+1]\n",
    "        # Get default frame of te body\n",
    "        body_default_frame = default_frame(bod)\n",
    "        # Get transform between the defualt frame and the center of buoyancy\n",
    "        def_to_cob = fixed_transform(bod, body_default_frame, cob_frames[i])\n",
    "        # Transform buoyancy force vector to the body's default frame (rotation only)\n",
    "        lin_force_trans = transform(state_alpha, buoy_lin_forces[i], body_default_frame)\n",
    "        # Make the wrench: the buoyancy force through a point, the center of buoyancy.\n",
    "        wrench = Wrench(Point3D(body_default_frame, translation(inv(def_to_cob))), lin_force_trans)\n",
    "        # Add wrench to buoy_wrenches\n",
    "        push!(buoy_wrenches, wrench)\n",
    "        # Transform the wrench to the root frame and assign it to the body\n",
    "        hydro_wrenches[BodyID(bod)] = transform(state_alpha, wrench, root_frame(mechanism_alpha))\n",
    "    end\n",
    "end;"
   ],
   "outputs": [],
   "metadata": {}
  },
  {
   "cell_type": "code",
   "execution_count": 138,
   "source": [
    "# Controller function\n",
    "# ------------------------------------------------------------------------\n",
    "#                              CONTROLLER\n",
    "# ------------------------------------------------------------------------\n",
    "\n",
    "function simple_control!(torques::AbstractVector, t, state_alpha::MechanismState, hydro_calc!)\n",
    "    # Get buoyancy buoyancy forces \n",
    "    hydro_calc!(hydro_wrenches, t, state_alpha)\n",
    "    # Calculate inverse dynamics of alpha arm (including buoyancy)\n",
    "    tau = inverse_dynamics(state_alpha, des_acc, hydro_wrenches)\n",
    "    # Find dynamic terms for water model\n",
    "    # impose_alpha_state_on_water(state_alpha, state_water)\n",
    "    # tau_water = inverse_dynamics(state_water, des_acc_water)\n",
    "    tau_water = get_added_tau(state_alpha, des_acc_water)\n",
    "\n",
    "    # Set torques accordingly (controller)\n",
    "    torques[velocity_range(state_alpha, base_joint)] .= tau[base_joint][1]\n",
    "    torques[velocity_range(state_alpha, shoulder_joint)] .= tau[shoulder_joint][1]\n",
    "    torques[velocity_range(state_alpha, elbow_joint)] .= tau[elbow_joint][1]\n",
    "    torques[velocity_range(state_alpha, wrist_joint)] .= tau[wrist_joint][1]\n",
    "    # torques[velocity_rangege(state_alpha, base_joint)] .= 0.01\n",
    "    # torques[velocity_range(state_alpha, shoulder_joint)] .= 0.01\n",
    "    # torques[velocity_range(state_alpha, elbow_joint)] .= 0.01\n",
    "    # torques[velocity_ran(state_alpha, wrist_joint)] .= 0.01\n",
    "end;"
   ],
   "outputs": [],
   "metadata": {}
  },
  {
   "cell_type": "code",
   "execution_count": 139,
   "source": [
    "function get_added_tau(state_alpha, acc)\n",
    "    impose_alpha_state_on_water(state_alpha, state_water)\n",
    "    tau_water = inverse_dynamics(state_water, acc)\n",
    "    return tau_water\n",
    "end;"
   ],
   "outputs": [],
   "metadata": {}
  },
  {
   "cell_type": "code",
   "execution_count": 167,
   "source": [
    "# initial conditions\n",
    "# ------------------------------------------------------------------------\n",
    "#                          INITIAL CONDITIONS\n",
    "# ------------------------------------------------------------------------\n",
    "# Initialize state of alpha arm\n",
    "state_alpha = MechanismState(mechanism_alpha)\n",
    "zero!(state_alpha)\n",
    "# set_configuration!(state, base_joint, 0.0)\n",
    "# set_configuration!(state, shoulder_joint, -.27079)\n",
    "# set_configuration!(state, elbow_joint, 3.1415/2+1.3)\n",
    "# set_configuration!(state, wrist_joint, 0.5)\n",
    "\n",
    "# Initialize state of water arm\n",
    "state_water = MechanismState(mechanism_water)\n",
    "# Make water state = arm state\n",
    "impose_alpha_state_on_water(state_alpha, state_water)\n",
    "# state_water_no_vel = deepcopy(state_water)\n",
    "\n",
    "# Define desired accelerations\n",
    "des_acc = similar(velocity(state_alpha))\n",
    "des_acc[base_joint][1] = 0.0001\n",
    "des_acc[shoulder_joint][1] = 0.\n",
    "des_acc[elbow_joint][1] = 0.\n",
    "des_acc[wrist_joint][1] = 0.\n",
    "\n",
    "des_acc_water = similar(velocity(state_water))\n",
    "impose_alpha_desacc_on_water(des_acc, des_acc_water)"
   ],
   "outputs": [
    {
     "output_type": "execute_result",
     "data": {
      "text/plain": [
       "0.0"
      ]
     },
     "metadata": {},
     "execution_count": 167
    }
   ],
   "metadata": {}
  },
  {
   "cell_type": "code",
   "execution_count": 168,
   "source": [
    "# (obsolete) buoyancy calculator\n",
    "# ------------------------------------------------------------------------\n",
    "#                          BUOYANCY CALCULATOR\n",
    "# ------------------------------------------------------------------------\n",
    "radius = 0.02\n",
    "names = [\"pt1\", \"pt2\", \"pt3\", \"pt4\"]\n",
    "hydro_wrenches = Dict{BodyID, Wrench{Float64}}()\n",
    "buoy_wrenches = []\n",
    "setelement!(mvis_alpha, default_frame(wrist_body))\n",
    "for i in 1:4\n",
    "    bod = bodies(mechanism_alpha)[i+1]\n",
    "    # println(bod)\n",
    "    body_default_frame = default_frame(bod)\n",
    "    def_to_cob = fixed_transform(bod, body_default_frame, cob_frames[i])\n",
    "    lin_force_trans = transform(state_alpha, buoy_lin_forces[i], body_default_frame)\n",
    "    # println(translation(def_to_cob))\n",
    "    wrench = Wrench(Point3D(body_default_frame, translation(inv(def_to_cob))), lin_force_trans)\n",
    "    wrench_root = transform(state_alpha, wrench, root_frame(mechanism_alpha))\n",
    "    println(wrench)\n",
    "    setelement!(mvis_alpha, Point3D(body_default_frame, translation(inv(def_to_cob))), radius, names[i])\n",
    "    push!(buoy_wrenches, wrench)\n",
    "    # buoy_wrench_dict[BodyID(bod)] = wrench\n",
    "    hydro_wrenches[BodyID(bod)] = wrench_root\n",
    "end\n",
    "\n",
    "# arrow_buoy_og = ArrowVisualizer(vis[:arrow1])\n",
    "# setobject!(arrow_buoy_og)\n",
    "# arrow_buoy_trans = ArrowVisualizer(vis[:arrow2])\n",
    "# setobject!(arrow_buoy_trans)\n",
    "\n",
    "# ----------------------------------------\n",
    "# shoulder_ID = BodyID(shoulder_body)\n",
    "\n",
    "# transform_from_base_to_wrist = relative_transform(state_alpha, root_frame(mechanism_alpha), default_frame(wrist_body))\n"
   ],
   "outputs": [
    {
     "output_type": "stream",
     "name": "stdout",
     "text": [
      "Wrench expressed in \"after_r5m_joint5\":\n",
      "angular: [-0.0005281507799999999, 0.00017605026, 0.0], linear: [0.0, 0.0, 0.17605026]\n",
      "Wrench expressed in \"after_r5m_joint4\":\n",
      "angular: [0.003826210918536263, -0.0010686597930247128, 0.13965669852657359], linear: [0.5310949728957587, 1.9131054592681316, 8.862804429034763e-5]\n",
      "Wrench expressed in \"after_r5m_joint3\":\n",
      "angular: [1.2634138699404597e-7, -0.0007333790253485766, 0.0029341478083292766], linear: [0.24451424975149616, -1.5459125785171403e-6, -1.0914927060799783e-5]\n",
      "Wrench expressed in \"after_r5m_joint2\":\n",
      "angular: [0.07123256591515872, -0.13037650447953966, 0.0], linear: [1.3303724946891802, 0.7268629175016196, -4.325788731817088e-5]\n"
     ]
    }
   ],
   "metadata": {}
  },
  {
   "cell_type": "code",
   "execution_count": 169,
   "source": [
    "# ------------------------------------------------------------------------\n",
    "#                              SIMULATION\n",
    "# ------------------------------------------------------------------------\n",
    "final_time = .5\n",
    "ts, qs, vs = simulate_with_ext_forces(state_alpha, final_time, hydro_calc!, get_added_tau, simple_control!; Δt = 5e-4)\n",
    "# ts, qs, vs = simulate(state_alpha, final_time, simple_control!; Δt = 1e-2)\n",
    "\n",
    "println(\"Simulation finished.\")"
   ],
   "outputs": [
    {
     "output_type": "stream",
     "name": "stdout",
     "text": [
      "Simulation finished.\n"
     ]
    }
   ],
   "metadata": {}
  },
  {
   "cell_type": "code",
   "execution_count": 172,
   "source": [
    "# ------------------------------------------------------------------------\n",
    "#                             VISUALIZATION\n",
    "# ------------------------------------------------------------------------\n",
    "# vis = Visualizer()\n",
    "# open(vis)\n",
    "\n",
    "# delete!(vis)\n",
    "# mvis = MechanismVisualizer(mechanism, URDFVisuals(urdf_file))\n",
    "# set_configuration!(mvis, [0.0, 0.0])\n",
    "# open(mvis)\n",
    "MeshCatMechanisms.animate(mvis_alpha, ts, qs; realtimerate = 1.)\n",
    "print(qs)\n",
    "\n",
    "# animation = Animation(mvis, ts, qs)\n",
    "# setanimation!(mvis, animation)\n",
    "\n",
    "println(\"\\n done.\")"
   ],
   "outputs": [
    {
     "output_type": "stream",
     "name": "stdout",
     "text": [
      "SegmentedVector{JointID, Float64, Base.OneTo{JointID}, Vector{Float64}}[[0.0, 0.0, 0.0, 0.0], [9.2759283703571e-12, 2.813892160836875e-15, 7.794861911465553e-16, 1.5709281135307177e-13], [3.446916429178165e-11, 1.3841605123819192e-14, 3.2946586992502232e-15, 7.522920504059961e-13], [7.602599168847739e-11, 3.257320887624046e-14, 7.483134916691661e-15, 1.7545275787674713e-12], [1.3398018358897213e-10, 5.88913548566162e-14, 1.4415739989399963e-14, 3.160832220424928e-12], [2.0833429786643345e-10, 9.286487590666192e-14, 2.5950944179356387e-14, 4.971795939157703e-12], [2.9908853105074914e-10, 1.3464034398359604e-13, 4.506374071148576e-14, 7.188760897182571e-12], [4.0624290269772593e-10, 1.8445553536980404e-13, 7.649189286773485e-14, 9.813893836372849e-12], [5.297974217402349e-10, 2.4268947031267387e-13, 1.2777792468812002e-13, 1.2850646366690281e-11], [6.69752100718916e-10, 3.099455862102606e-13, 2.1092929305407109e-13, 1.6304513495431636e-11], [8.261069594708823e-10, 3.871845414902036e-13, 3.450614606378151e-13, 2.0184243100783768e-11], [9.988620295665199e-10, 4.759356727038371e-13, 5.606055915955805e-13, 2.4503761508005835e-11], [1.188017361264069e-9, 5.786336304460768e-13, 9.060070600291502e-13, 2.928523895010784e-11], [1.3935730345728797e-9, 6.991542962003255e-13, 1.4583892459656307e-12, 3.4563969680435513e-11], [1.615529176865104e-9, 8.436679407680141e-13, 2.3405299350248566e-12, 4.0396140946329574e-11], [1.853885990912859e-9, 1.0219974245125737e-12, 3.747887165998707e-12, 4.687120092689608e-11], [2.1086437995224197e-9, 1.2497804062342214e-12, 5.991623458720799e-12, 5.413154806351487e-11], [2.379803116590358e-9, 1.55191150526248e-12, 9.567098912513997e-12, 6.240387581242024e-11], [2.667364760222454e-9, 1.968022104503091e-12, 1.5262909879475485e-11, 7.204907240979892e-11], [2.971330032815155e-9, 2.561204012099472e-12, 2.433447480655622e-11, 8.364165959540481e-11], [3.2917010077391014e-9, 3.4318972312660365e-12, 3.87803769654542e-11, 9.809625634714556e-11], [3.6284809857295125e-9, 4.739998816831859e-12, 6.178229263476002e-11, 1.1686890482814975e-10], [3.981675221444074e-9, 6.740059417003771e-12, 9.840534173525165e-11, 1.4227757441363322e-10], [4.351292080118251e-9, 9.837314967442592e-12, 1.5671302210989045e-10, 1.7801239314502918e-10], [4.73734487892102e-9, 1.467688723509256e-11, 2.4954214680413126e-10, 2.299479187762504e-10], [5.139854818330225e-9, 2.2285788036930422e-11, 3.9732848356589535e-10, 3.074362465276294e-10], [5.5588556487818945e-9, 3.42989851150866e-11, 6.326050763852511e-10, 4.253655924510425e-10], [5.994401099816168e-9, 5.331929129936276e-11, 1.0071634196835695e-9, 6.074374878111665e-10], [6.446576707023049e-9, 8.349029580532656e-11, 1.6034538029517107e-9, 8.913839605887375e-10], [6.915518640134082e-9, 1.3140845140181814e-10, 2.5527342699056062e-9, 1.3372731102259041e-9], [7.401443676696268e-9, 2.0757508631215676e-10, 4.0639631414177446e-9, 2.040731298988358e-9], [7.904696919124879e-9, 3.2870795829692736e-10, 6.469794925023535e-9, 3.153992429210902e-9], [8.425827758590978e-9, 5.214211716776664e-10, 1.0299804231797309e-8, 4.919407674428989e-9], [8.96571080685846e-9, 8.280834843232209e-10, 1.6397055751483567e-8, 7.722791828866285e-9], [9.525738415443199e-9, 1.3161445444294016e-9, 2.6103679673529005e-8, 1.2178348879410557e-8], [1.01081271590463e-8, 2.092981971805019e-9, 4.1556301425824226e-8, 1.926387063052282e-8], [1.0716405745466222e-8, 3.329537482532339e-9, 6.615635574804847e-8, 3.053596833647813e-8], [1.1356191748361264e-8, 5.297944990902733e-9, 1.0531881068661268e-7, 4.84727142094531e-8], [1.2036428131294114e-8, 8.431433766585267e-9, 1.6766411076444476e-7, 7.701911525587677e-8], [1.277135173155337e-8, 1.3419693492856803e-8, 2.6691571016754525e-7, 1.22455489652553e-7], [1.3583626967925992e-8, 2.1360695421817488e-8, 4.24920881723991e-7, 1.947798939562662e-7], [1.4509334466611601e-8, 3.400239467989616e-8, 6.764597440714636e-7, 3.099089042693365e-7], [1.560591245430429e-8, 5.4127532896646046e-8, 1.0769010749015663e-6, 4.931811955140177e-7], [1.6964798351039314e-8, 8.616628359960692e-8, 1.7143901200537906e-6, 7.849351474399786e-7], [1.873155164144577e-8, 1.3717169645756885e-7, 2.729251209699663e-6, 1.2493882725438242e-6], [2.1137883444114554e-8, 2.1837291005067066e-7, 4.34487616311468e-6, 1.9887731386544533e-6], [2.4552632922490232e-8, 3.476486723359408e-7, 6.916897834123194e-6, 3.1658417225999977e-6], [2.9562885600351897e-8, 5.53467277247578e-7, 1.1011473375390205e-5, 5.039692707496794e-6], [3.7103023795260125e-8, 8.811643253153483e-7, 1.7529910193457965e-5, 8.022810192897252e-6], [4.865994962416754e-8, 1.4029506842388186e-6, 2.7907070451474047e-5, 1.2771874664006906e-5], [6.65992332482629e-8, 2.2338802518115443e-6, 4.442723500681266e-5, 2.0332349431951196e-5], [9.46829111148128e-8, 3.557359889011658e-6, 7.072697525265867e-5, 3.236870414426204e-5], [1.3889020790281518e-7, 5.665987962260239e-6, 0.0001125957769773519, 5.153104146149676e-5], [2.0871498689682861e-7, 9.02714478825106e-6, 0.0001792507813210482, 8.203905510567827e-5], [3.192081583542117e-7, 1.4388872646878078e-5, 0.00028536657298726235, 0.00013061243389351557], [4.941706180235297e-7, 2.2952140032169487e-5, 0.0004543076607070376, 0.00020795396698775358], [7.710880544621256e-7, 3.6654479006296445e-5, 0.0007232773371818888, 0.0003311155005238462], [1.2086114291060672e-6, 5.864536150573736e-5, 0.001151521761666698, 0.0005272768986321532], [1.8975143670003587e-6, 9.410345414171257e-5, 0.001833409099368612, 0.0008397935895306601], [2.97572824264383e-6, 0.00015169117853656484, 0.0029192983519626776, 0.0013379042394689941], [4.646181812122864e-6, 0.00024626044523495024, 0.004648883086775894, 0.002132388980712155], [7.189788435777217e-6, 0.0004041530432529978, 0.007404586613180084, 0.003401016516492811], [1.0947206149064404e-5, 0.0006741722535674964, 0.011797382335171289, 0.005430383685027557], [1.6191778820118665e-5, 0.0011515389246403538, 0.018805584268233297, 0.008685934838472202], [2.26813495973278e-5, 0.0020327513386215745, 0.03000169145839976, 0.013932251746815505], [2.833208319640891e-5, 0.0037464039102182095, 0.047930151188207204, 0.022447554990062298], [2.559935071087288e-5, 0.007276042515789274, 0.07675825578583605, 0.0364257155079729], [-7.915189540644984e-6, 0.01498196691331807, 0.12347106115916907, 0.05977582298736092], [-0.00013286189311389305, 0.032757988997543425, 0.20033567415672826, 0.09980155205594576], [-0.0005046071659044816, 0.07587997421456183, 0.33108476223325023, 0.1707114583867455], [-0.0015181325663523588, 0.1854154599416914, 0.5713266854406721, 0.29857721479634736], [-0.004405275138064829, 0.4741832181453073, 1.0969389084966426, 0.49655190578628405], [-0.01807102692339882, 1.107140600452225, 2.358161564027167, 0.48875601155352], [-0.19207711405485037, 0.5548200260483019, 3.4209953905644426, -0.5671599391124486], [193.9436302411583, 20.845175836262744, 70.24620767391784, -339.58639985068265], [-5.694744554621477e32, -7.27941535937634e30, -8.018477906495595e31, 3.545472009542699e32], [NaN, NaN, NaN, NaN], [NaN, NaN, NaN, NaN], [NaN, NaN, NaN, NaN], [NaN, NaN, NaN, NaN], [NaN, NaN, NaN, NaN], [NaN, NaN, NaN, NaN], [NaN, NaN, NaN, NaN], [NaN, NaN, NaN, NaN], [NaN, NaN, NaN, NaN], [NaN, NaN, NaN, NaN], [NaN, NaN, NaN, NaN], [NaN, NaN, NaN, NaN], [NaN, NaN, NaN, NaN], [NaN, NaN, NaN, NaN], [NaN, NaN, NaN, NaN], [NaN, NaN, NaN, NaN], [NaN, NaN, NaN, NaN], [NaN, NaN, NaN, NaN], [NaN, NaN, NaN, NaN], [NaN, NaN, NaN, NaN], [NaN, NaN, NaN, NaN], [NaN, NaN, NaN, NaN], [NaN, NaN, NaN, NaN], [NaN, NaN, NaN, NaN], [NaN, NaN, NaN, NaN], [NaN, NaN, NaN, NaN], [NaN, NaN, NaN, NaN], [NaN, NaN, NaN, NaN], [NaN, NaN, NaN, NaN], [NaN, NaN, NaN, NaN], [NaN, NaN, NaN, NaN], [NaN, NaN, NaN, NaN], [NaN, NaN, NaN, NaN], [NaN, NaN, NaN, NaN], [NaN, NaN, NaN, NaN], [NaN, NaN, NaN, NaN], [NaN, NaN, NaN, NaN], [NaN, NaN, NaN, NaN], [NaN, NaN, NaN, NaN], [NaN, NaN, NaN, NaN], [NaN, NaN, NaN, NaN], [NaN, NaN, NaN, NaN], [NaN, NaN, NaN, NaN], [NaN, NaN, NaN, NaN], [NaN, NaN, NaN, NaN], [NaN, NaN, NaN, NaN], [NaN, NaN, NaN, NaN], [NaN, NaN, NaN, NaN], [NaN, NaN, NaN, NaN], [NaN, NaN, NaN, NaN], [NaN, NaN, NaN, NaN], [NaN, NaN, NaN, NaN], [NaN, NaN, NaN, NaN], [NaN, NaN, NaN, NaN], [NaN, NaN, NaN, NaN], [NaN, NaN, NaN, NaN], [NaN, NaN, NaN, NaN], [NaN, NaN, NaN, NaN], [NaN, NaN, NaN, NaN], [NaN, NaN, NaN, NaN], [NaN, NaN, NaN, NaN], [NaN, NaN, NaN, NaN], [NaN, NaN, NaN, NaN], [NaN, NaN, NaN, NaN], [NaN, NaN, NaN, NaN], [NaN, NaN, NaN, NaN], [NaN, NaN, NaN, NaN], [NaN, NaN, NaN, NaN], [NaN, NaN, NaN, NaN], [NaN, NaN, NaN, NaN], [NaN, NaN, NaN, NaN], [NaN, NaN, NaN, NaN], [NaN, NaN, NaN, NaN], [NaN, NaN, NaN, NaN], [NaN, NaN, NaN, NaN], [NaN, NaN, NaN, NaN], [NaN, NaN, NaN, NaN], [NaN, NaN, NaN, NaN], [NaN, NaN, NaN, NaN], [NaN, NaN, NaN, NaN], [NaN, NaN, NaN, NaN], [NaN, NaN, NaN, NaN], [NaN, NaN, NaN, NaN], [NaN, NaN, NaN, NaN], [NaN, NaN, NaN, NaN], [NaN, NaN, NaN, NaN], [NaN, NaN, NaN, NaN], [NaN, NaN, NaN, NaN], [NaN, NaN, NaN, NaN], [NaN, NaN, NaN, NaN], [NaN, NaN, NaN, NaN], [NaN, NaN, NaN, NaN], [NaN, NaN, NaN, NaN], [NaN, NaN, NaN, NaN], [NaN, NaN, NaN, NaN], [NaN, NaN, NaN, NaN], [NaN, NaN, NaN, NaN], [NaN, NaN, NaN, NaN], [NaN, NaN, NaN, NaN], [NaN, NaN, NaN, NaN], [NaN, NaN, NaN, NaN], [NaN, NaN, NaN, NaN], [NaN, NaN, NaN, NaN], [NaN, NaN, NaN, NaN], [NaN, NaN, NaN, NaN], [NaN, NaN, NaN, NaN], [NaN, NaN, NaN, NaN], [NaN, NaN, NaN, NaN], [NaN, NaN, NaN, NaN], [NaN, NaN, NaN, NaN], [NaN, NaN, NaN, NaN], [NaN, NaN, NaN, NaN], [NaN, NaN, NaN, NaN], [NaN, NaN, NaN, NaN], [NaN, NaN, NaN, NaN], [NaN, NaN, NaN, NaN], [NaN, NaN, NaN, NaN], [NaN, NaN, NaN, NaN], [NaN, NaN, NaN, NaN], [NaN, NaN, NaN, NaN], [NaN, NaN, NaN, NaN], [NaN, NaN, NaN, NaN], [NaN, NaN, NaN, NaN], [NaN, NaN, NaN, NaN], [NaN, NaN, NaN, NaN], [NaN, NaN, NaN, NaN], [NaN, NaN, NaN, NaN], [NaN, NaN, NaN, NaN], [NaN, NaN, NaN, NaN], [NaN, NaN, NaN, NaN], [NaN, NaN, NaN, NaN], [NaN, NaN, NaN, NaN], [NaN, NaN, NaN, NaN], [NaN, NaN, NaN, NaN], [NaN, NaN, NaN, NaN], [NaN, NaN, NaN, NaN], [NaN, NaN, NaN, NaN], [NaN, NaN, NaN, NaN], [NaN, NaN, NaN, NaN], [NaN, NaN, NaN, NaN], [NaN, NaN, NaN, NaN], [NaN, NaN, NaN, NaN], [NaN, NaN, NaN, NaN], [NaN, NaN, NaN, NaN], [NaN, NaN, NaN, NaN], [NaN, NaN, NaN, NaN], [NaN, NaN, NaN, NaN], [NaN, NaN, NaN, NaN], [NaN, NaN, NaN, NaN], [NaN, NaN, NaN, NaN], [NaN, NaN, NaN, NaN], [NaN, NaN, NaN, NaN], [NaN, NaN, NaN, NaN], [NaN, NaN, NaN, NaN], [NaN, NaN, NaN, NaN], [NaN, NaN, NaN, NaN], [NaN, NaN, NaN, NaN], [NaN, NaN, NaN, NaN], [NaN, NaN, NaN, NaN], [NaN, NaN, NaN, NaN], [NaN, NaN, NaN, NaN], [NaN, NaN, NaN, NaN], [NaN, NaN, NaN, NaN], [NaN, NaN, NaN, NaN], [NaN, NaN, NaN, NaN], [NaN, NaN, NaN, NaN], [NaN, NaN, NaN, NaN], [NaN, NaN, NaN, NaN], [NaN, NaN, NaN, NaN], [NaN, NaN, NaN, NaN], [NaN, NaN, NaN, NaN], [NaN, NaN, NaN, NaN], [NaN, NaN, NaN, NaN], [NaN, NaN, NaN, NaN], [NaN, NaN, NaN, NaN], [NaN, NaN, NaN, NaN], [NaN, NaN, NaN, NaN], [NaN, NaN, NaN, NaN], [NaN, NaN, NaN, NaN], [NaN, NaN, NaN, NaN], [NaN, NaN, NaN, NaN], [NaN, NaN, NaN, NaN], [NaN, NaN, NaN, NaN], [NaN, NaN, NaN, NaN], [NaN, NaN, NaN, NaN], [NaN, NaN, NaN, NaN], [NaN, NaN, NaN, NaN], [NaN, NaN, NaN, NaN], [NaN, NaN, NaN, NaN], [NaN, NaN, NaN, NaN], [NaN, NaN, NaN, NaN], [NaN, NaN, NaN, NaN], [NaN, NaN, NaN, NaN], [NaN, NaN, NaN, NaN], [NaN, NaN, NaN, NaN], [NaN, NaN, NaN, NaN], [NaN, NaN, NaN, NaN], [NaN, NaN, NaN, NaN], [NaN, NaN, NaN, NaN], [NaN, NaN, NaN, NaN], [NaN, NaN, NaN, NaN], [NaN, NaN, NaN, NaN], [NaN, NaN, NaN, NaN], [NaN, NaN, NaN, NaN], [NaN, NaN, NaN, NaN], [NaN, NaN, NaN, NaN], [NaN, NaN, NaN, NaN], [NaN, NaN, NaN, NaN], [NaN, NaN, NaN, NaN], [NaN, NaN, NaN, NaN], [NaN, NaN, NaN, NaN], [NaN, NaN, NaN, NaN], [NaN, NaN, NaN, NaN], [NaN, NaN, NaN, NaN], [NaN, NaN, NaN, NaN], [NaN, NaN, NaN, NaN], [NaN, NaN, NaN, NaN], [NaN, NaN, NaN, NaN], [NaN, NaN, NaN, NaN], [NaN, NaN, NaN, NaN], [NaN, NaN, NaN, NaN], [NaN, NaN, NaN, NaN], [NaN, NaN, NaN, NaN], [NaN, NaN, NaN, NaN], [NaN, NaN, NaN, NaN], [NaN, NaN, NaN, NaN], [NaN, NaN, NaN, NaN], [NaN, NaN, NaN, NaN], [NaN, NaN, NaN, NaN], [NaN, NaN, NaN, NaN], [NaN, NaN, NaN, NaN], [NaN, NaN, NaN, NaN], [NaN, NaN, NaN, NaN], [NaN, NaN, NaN, NaN], [NaN, NaN, NaN, NaN], [NaN, NaN, NaN, NaN], [NaN, NaN, NaN, NaN], [NaN, NaN, NaN, NaN], [NaN, NaN, NaN, NaN], [NaN, NaN, NaN, NaN], [NaN, NaN, NaN, NaN], [NaN, NaN, NaN, NaN], [NaN, NaN, NaN, NaN], [NaN, NaN, NaN, NaN], [NaN, NaN, NaN, NaN], [NaN, NaN, NaN, NaN], [NaN, NaN, NaN, NaN], [NaN, NaN, NaN, NaN], [NaN, NaN, NaN, NaN], [NaN, NaN, NaN, NaN], [NaN, NaN, NaN, NaN], [NaN, NaN, NaN, NaN], [NaN, NaN, NaN, NaN], [NaN, NaN, NaN, NaN], [NaN, NaN, NaN, NaN], [NaN, NaN, NaN, NaN], [NaN, NaN, NaN, NaN], [NaN, NaN, NaN, NaN], [NaN, NaN, NaN, NaN], [NaN, NaN, NaN, NaN], [NaN, NaN, NaN, NaN], [NaN, NaN, NaN, NaN], [NaN, NaN, NaN, NaN], [NaN, NaN, NaN, NaN], [NaN, NaN, NaN, NaN], [NaN, NaN, NaN, NaN], [NaN, NaN, NaN, NaN], [NaN, NaN, NaN, NaN], [NaN, NaN, NaN, NaN], [NaN, NaN, NaN, NaN], [NaN, NaN, NaN, NaN], [NaN, NaN, NaN, NaN], [NaN, NaN, NaN, NaN], [NaN, NaN, NaN, NaN], [NaN, NaN, NaN, NaN], [NaN, NaN, NaN, NaN], [NaN, NaN, NaN, NaN], [NaN, NaN, NaN, NaN], [NaN, NaN, NaN, NaN], [NaN, NaN, NaN, NaN], [NaN, NaN, NaN, NaN], [NaN, NaN, NaN, NaN], [NaN, NaN, NaN, NaN], [NaN, NaN, NaN, NaN], [NaN, NaN, NaN, NaN], [NaN, NaN, NaN, NaN], [NaN, NaN, NaN, NaN], [NaN, NaN, NaN, NaN], [NaN, NaN, NaN, NaN], [NaN, NaN, NaN, NaN], [NaN, NaN, NaN, NaN], [NaN, NaN, NaN, NaN], [NaN, NaN, NaN, NaN], [NaN, NaN, NaN, NaN], [NaN, NaN, NaN, NaN], [NaN, NaN, NaN, NaN], [NaN, NaN, NaN, NaN], [NaN, NaN, NaN, NaN], [NaN, NaN, NaN, NaN], [NaN, NaN, NaN, NaN], [NaN, NaN, NaN, NaN], [NaN, NaN, NaN, NaN], [NaN, NaN, NaN, NaN], [NaN, NaN, NaN, NaN], [NaN, NaN, NaN, NaN], [NaN, NaN, NaN, NaN], [NaN, NaN, NaN, NaN], [NaN, NaN, NaN, NaN], [NaN, NaN, NaN, NaN], [NaN, NaN, NaN, NaN], [NaN, NaN, NaN, NaN], [NaN, NaN, NaN, NaN], [NaN, NaN, NaN, NaN], [NaN, NaN, NaN, NaN], [NaN, NaN, NaN, NaN], [NaN, NaN, NaN, NaN], [NaN, NaN, NaN, NaN], [NaN, NaN, NaN, NaN], [NaN, NaN, NaN, NaN], [NaN, NaN, NaN, NaN], [NaN, NaN, NaN, NaN], [NaN, NaN, NaN, NaN], [NaN, NaN, NaN, NaN], [NaN, NaN, NaN, NaN], [NaN, NaN, NaN, NaN], [NaN, NaN, NaN, NaN], [NaN, NaN, NaN, NaN], [NaN, NaN, NaN, NaN], [NaN, NaN, NaN, NaN], [NaN, NaN, NaN, NaN], [NaN, NaN, NaN, NaN], [NaN, NaN, NaN, NaN], [NaN, NaN, NaN, NaN], [NaN, NaN, NaN, NaN], [NaN, NaN, NaN, NaN], [NaN, NaN, NaN, NaN], [NaN, NaN, NaN, NaN], [NaN, NaN, NaN, NaN], [NaN, NaN, NaN, NaN], [NaN, NaN, NaN, NaN], [NaN, NaN, NaN, NaN], [NaN, NaN, NaN, NaN], [NaN, NaN, NaN, NaN], [NaN, NaN, NaN, NaN], [NaN, NaN, NaN, NaN], [NaN, NaN, NaN, NaN], [NaN, NaN, NaN, NaN], [NaN, NaN, NaN, NaN], [NaN, NaN, NaN, NaN], [NaN, NaN, NaN, NaN], [NaN, NaN, NaN, NaN], [NaN, NaN, NaN, NaN], [NaN, NaN, NaN, NaN], [NaN, NaN, NaN, NaN], [NaN, NaN, NaN, NaN], [NaN, NaN, NaN, NaN], [NaN, NaN, NaN, NaN], [NaN, NaN, NaN, NaN], [NaN, NaN, NaN, NaN], [NaN, NaN, NaN, NaN], [NaN, NaN, NaN, NaN], [NaN, NaN, NaN, NaN], [NaN, NaN, NaN, NaN], [NaN, NaN, NaN, NaN], [NaN, NaN, NaN, NaN], [NaN, NaN, NaN, NaN], [NaN, NaN, NaN, NaN], [NaN, NaN, NaN, NaN], [NaN, NaN, NaN, NaN], [NaN, NaN, NaN, NaN], [NaN, NaN, NaN, NaN], [NaN, NaN, NaN, NaN], [NaN, NaN, NaN, NaN], [NaN, NaN, NaN, NaN], [NaN, NaN, NaN, NaN], [NaN, NaN, NaN, NaN], [NaN, NaN, NaN, NaN], [NaN, NaN, NaN, NaN], [NaN, NaN, NaN, NaN], [NaN, NaN, NaN, NaN], [NaN, NaN, NaN, NaN], [NaN, NaN, NaN, NaN], [NaN, NaN, NaN, NaN], [NaN, NaN, NaN, NaN], [NaN, NaN, NaN, NaN], [NaN, NaN, NaN, NaN], [NaN, NaN, NaN, NaN], [NaN, NaN, NaN, NaN], [NaN, NaN, NaN, NaN], [NaN, NaN, NaN, NaN], [NaN, NaN, NaN, NaN], [NaN, NaN, NaN, NaN], [NaN, NaN, NaN, NaN], [NaN, NaN, NaN, NaN], [NaN, NaN, NaN, NaN], [NaN, NaN, NaN, NaN], [NaN, NaN, NaN, NaN], [NaN, NaN, NaN, NaN], [NaN, NaN, NaN, NaN], [NaN, NaN, NaN, NaN], [NaN, NaN, NaN, NaN], [NaN, NaN, NaN, NaN], [NaN, NaN, NaN, NaN], [NaN, NaN, NaN, NaN], [NaN, NaN, NaN, NaN], [NaN, NaN, NaN, NaN], [NaN, NaN, NaN, NaN], [NaN, NaN, NaN, NaN], [NaN, NaN, NaN, NaN], [NaN, NaN, NaN, NaN], [NaN, NaN, NaN, NaN], [NaN, NaN, NaN, NaN], [NaN, NaN, NaN, NaN], [NaN, NaN, NaN, NaN], [NaN, NaN, NaN, NaN], [NaN, NaN, NaN, NaN], [NaN, NaN, NaN, NaN], [NaN, NaN, NaN, NaN], [NaN, NaN, NaN, NaN], [NaN, NaN, NaN, NaN], [NaN, NaN, NaN, NaN], [NaN, NaN, NaN, NaN], [NaN, NaN, NaN, NaN], [NaN, NaN, NaN, NaN], [NaN, NaN, NaN, NaN], [NaN, NaN, NaN, NaN], [NaN, NaN, NaN, NaN], [NaN, NaN, NaN, NaN], [NaN, NaN, NaN, NaN], [NaN, NaN, NaN, NaN], [NaN, NaN, NaN, NaN], [NaN, NaN, NaN, NaN], [NaN, NaN, NaN, NaN], [NaN, NaN, NaN, NaN], [NaN, NaN, NaN, NaN], [NaN, NaN, NaN, NaN], [NaN, NaN, NaN, NaN], [NaN, NaN, NaN, NaN], [NaN, NaN, NaN, NaN], [NaN, NaN, NaN, NaN], [NaN, NaN, NaN, NaN], [NaN, NaN, NaN, NaN], [NaN, NaN, NaN, NaN], [NaN, NaN, NaN, NaN], [NaN, NaN, NaN, NaN], [NaN, NaN, NaN, NaN], [NaN, NaN, NaN, NaN], [NaN, NaN, NaN, NaN], [NaN, NaN, NaN, NaN], [NaN, NaN, NaN, NaN], [NaN, NaN, NaN, NaN], [NaN, NaN, NaN, NaN], [NaN, NaN, NaN, NaN], [NaN, NaN, NaN, NaN], [NaN, NaN, NaN, NaN], [NaN, NaN, NaN, NaN], [NaN, NaN, NaN, NaN], [NaN, NaN, NaN, NaN], [NaN, NaN, NaN, NaN], [NaN, NaN, NaN, NaN], [NaN, NaN, NaN, NaN], [NaN, NaN, NaN, NaN], [NaN, NaN, NaN, NaN], [NaN, NaN, NaN, NaN], [NaN, NaN, NaN, NaN], [NaN, NaN, NaN, NaN], [NaN, NaN, NaN, NaN], [NaN, NaN, NaN, NaN], [NaN, NaN, NaN, NaN], [NaN, NaN, NaN, NaN], [NaN, NaN, NaN, NaN], [NaN, NaN, NaN, NaN], [NaN, NaN, NaN, NaN], [NaN, NaN, NaN, NaN], [NaN, NaN, NaN, NaN], [NaN, NaN, NaN, NaN], [NaN, NaN, NaN, NaN], [NaN, NaN, NaN, NaN], [NaN, NaN, NaN, NaN], [NaN, NaN, NaN, NaN], [NaN, NaN, NaN, NaN], [NaN, NaN, NaN, NaN], [NaN, NaN, NaN, NaN], [NaN, NaN, NaN, NaN], [NaN, NaN, NaN, NaN], [NaN, NaN, NaN, NaN], [NaN, NaN, NaN, NaN], [NaN, NaN, NaN, NaN], [NaN, NaN, NaN, NaN], [NaN, NaN, NaN, NaN], [NaN, NaN, NaN, NaN], [NaN, NaN, NaN, NaN], [NaN, NaN, NaN, NaN], [NaN, NaN, NaN, NaN], [NaN, NaN, NaN, NaN], [NaN, NaN, NaN, NaN], [NaN, NaN, NaN, NaN], [NaN, NaN, NaN, NaN], [NaN, NaN, NaN, NaN], [NaN, NaN, NaN, NaN], [NaN, NaN, NaN, NaN], [NaN, NaN, NaN, NaN], [NaN, NaN, NaN, NaN], [NaN, NaN, NaN, NaN], [NaN, NaN, NaN, NaN], [NaN, NaN, NaN, NaN], [NaN, NaN, NaN, NaN], [NaN, NaN, NaN, NaN], [NaN, NaN, NaN, NaN], [NaN, NaN, NaN, NaN], [NaN, NaN, NaN, NaN], [NaN, NaN, NaN, NaN], [NaN, NaN, NaN, NaN], [NaN, NaN, NaN, NaN], [NaN, NaN, NaN, NaN], [NaN, NaN, NaN, NaN], [NaN, NaN, NaN, NaN], [NaN, NaN, NaN, NaN], [NaN, NaN, NaN, NaN], [NaN, NaN, NaN, NaN], [NaN, NaN, NaN, NaN], [NaN, NaN, NaN, NaN], [NaN, NaN, NaN, NaN], [NaN, NaN, NaN, NaN], [NaN, NaN, NaN, NaN], [NaN, NaN, NaN, NaN], [NaN, NaN, NaN, NaN], [NaN, NaN, NaN, NaN], [NaN, NaN, NaN, NaN], [NaN, NaN, NaN, NaN], [NaN, NaN, NaN, NaN], [NaN, NaN, NaN, NaN], [NaN, NaN, NaN, NaN], [NaN, NaN, NaN, NaN], [NaN, NaN, NaN, NaN], [NaN, NaN, NaN, NaN], [NaN, NaN, NaN, NaN], [NaN, NaN, NaN, NaN], [NaN, NaN, NaN, NaN], [NaN, NaN, NaN, NaN], [NaN, NaN, NaN, NaN], [NaN, NaN, NaN, NaN], [NaN, NaN, NaN, NaN], [NaN, NaN, NaN, NaN], [NaN, NaN, NaN, NaN], [NaN, NaN, NaN, NaN], [NaN, NaN, NaN, NaN], [NaN, NaN, NaN, NaN], [NaN, NaN, NaN, NaN], [NaN, NaN, NaN, NaN], [NaN, NaN, NaN, NaN], [NaN, NaN, NaN, NaN], [NaN, NaN, NaN, NaN], [NaN, NaN, NaN, NaN], [NaN, NaN, NaN, NaN], [NaN, NaN, NaN, NaN], [NaN, NaN, NaN, NaN], [NaN, NaN, NaN, NaN], [NaN, NaN, NaN, NaN], [NaN, NaN, NaN, NaN], [NaN, NaN, NaN, NaN], [NaN, NaN, NaN, NaN], [NaN, NaN, NaN, NaN], [NaN, NaN, NaN, NaN], [NaN, NaN, NaN, NaN], [NaN, NaN, NaN, NaN], [NaN, NaN, NaN, NaN], [NaN, NaN, NaN, NaN], [NaN, NaN, NaN, NaN], [NaN, NaN, NaN, NaN], [NaN, NaN, NaN, NaN], [NaN, NaN, NaN, NaN], [NaN, NaN, NaN, NaN], [NaN, NaN, NaN, NaN], [NaN, NaN, NaN, NaN], [NaN, NaN, NaN, NaN], [NaN, NaN, NaN, NaN], [NaN, NaN, NaN, NaN], [NaN, NaN, NaN, NaN], [NaN, NaN, NaN, NaN], [NaN, NaN, NaN, NaN], [NaN, NaN, NaN, NaN], [NaN, NaN, NaN, NaN], [NaN, NaN, NaN, NaN], [NaN, NaN, NaN, NaN], [NaN, NaN, NaN, NaN], [NaN, NaN, NaN, NaN], [NaN, NaN, NaN, NaN], [NaN, NaN, NaN, NaN], [NaN, NaN, NaN, NaN], [NaN, NaN, NaN, NaN], [NaN, NaN, NaN, NaN], [NaN, NaN, NaN, NaN], [NaN, NaN, NaN, NaN], [NaN, NaN, NaN, NaN], [NaN, NaN, NaN, NaN], [NaN, NaN, NaN, NaN], [NaN, NaN, NaN, NaN], [NaN, NaN, NaN, NaN], [NaN, NaN, NaN, NaN], [NaN, NaN, NaN, NaN], [NaN, NaN, NaN, NaN], [NaN, NaN, NaN, NaN], [NaN, NaN, NaN, NaN], [NaN, NaN, NaN, NaN], [NaN, NaN, NaN, NaN], [NaN, NaN, NaN, NaN], [NaN, NaN, NaN, NaN], [NaN, NaN, NaN, NaN], [NaN, NaN, NaN, NaN], [NaN, NaN, NaN, NaN], [NaN, NaN, NaN, NaN], [NaN, NaN, NaN, NaN], [NaN, NaN, NaN, NaN], [NaN, NaN, NaN, NaN], [NaN, NaN, NaN, NaN], [NaN, NaN, NaN, NaN], [NaN, NaN, NaN, NaN], [NaN, NaN, NaN, NaN], [NaN, NaN, NaN, NaN], [NaN, NaN, NaN, NaN], [NaN, NaN, NaN, NaN], [NaN, NaN, NaN, NaN], [NaN, NaN, NaN, NaN], [NaN, NaN, NaN, NaN], [NaN, NaN, NaN, NaN], [NaN, NaN, NaN, NaN], [NaN, NaN, NaN, NaN], [NaN, NaN, NaN, NaN], [NaN, NaN, NaN, NaN], [NaN, NaN, NaN, NaN], [NaN, NaN, NaN, NaN], [NaN, NaN, NaN, NaN], [NaN, NaN, NaN, NaN], [NaN, NaN, NaN, NaN], [NaN, NaN, NaN, NaN], [NaN, NaN, NaN, NaN], [NaN, NaN, NaN, NaN], [NaN, NaN, NaN, NaN], [NaN, NaN, NaN, NaN], [NaN, NaN, NaN, NaN], [NaN, NaN, NaN, NaN], [NaN, NaN, NaN, NaN], [NaN, NaN, NaN, NaN], [NaN, NaN, NaN, NaN], [NaN, NaN, NaN, NaN], [NaN, NaN, NaN, NaN], [NaN, NaN, NaN, NaN], [NaN, NaN, NaN, NaN], [NaN, NaN, NaN, NaN], [NaN, NaN, NaN, NaN], [NaN, NaN, NaN, NaN], [NaN, NaN, NaN, NaN], [NaN, NaN, NaN, NaN], [NaN, NaN, NaN, NaN], [NaN, NaN, NaN, NaN], [NaN, NaN, NaN, NaN], [NaN, NaN, NaN, NaN], [NaN, NaN, NaN, NaN], [NaN, NaN, NaN, NaN], [NaN, NaN, NaN, NaN], [NaN, NaN, NaN, NaN], [NaN, NaN, NaN, NaN], [NaN, NaN, NaN, NaN], [NaN, NaN, NaN, NaN], [NaN, NaN, NaN, NaN], [NaN, NaN, NaN, NaN], [NaN, NaN, NaN, NaN], [NaN, NaN, NaN, NaN], [NaN, NaN, NaN, NaN], [NaN, NaN, NaN, NaN], [NaN, NaN, NaN, NaN], [NaN, NaN, NaN, NaN], [NaN, NaN, NaN, NaN], [NaN, NaN, NaN, NaN], [NaN, NaN, NaN, NaN], [NaN, NaN, NaN, NaN], [NaN, NaN, NaN, NaN], [NaN, NaN, NaN, NaN], [NaN, NaN, NaN, NaN], [NaN, NaN, NaN, NaN], [NaN, NaN, NaN, NaN], [NaN, NaN, NaN, NaN], [NaN, NaN, NaN, NaN], [NaN, NaN, NaN, NaN], [NaN, NaN, NaN, NaN], [NaN, NaN, NaN, NaN], [NaN, NaN, NaN, NaN], [NaN, NaN, NaN, NaN], [NaN, NaN, NaN, NaN], [NaN, NaN, NaN, NaN], [NaN, NaN, NaN, NaN], [NaN, NaN, NaN, NaN], [NaN, NaN, NaN, NaN], [NaN, NaN, NaN, NaN], [NaN, NaN, NaN, NaN], [NaN, NaN, NaN, NaN], [NaN, NaN, NaN, NaN], [NaN, NaN, NaN, NaN], [NaN, NaN, NaN, NaN], [NaN, NaN, NaN, NaN], [NaN, NaN, NaN, NaN], [NaN, NaN, NaN, NaN], [NaN, NaN, NaN, NaN], [NaN, NaN, NaN, NaN], [NaN, NaN, NaN, NaN], [NaN, NaN, NaN, NaN], [NaN, NaN, NaN, NaN], [NaN, NaN, NaN, NaN], [NaN, NaN, NaN, NaN], [NaN, NaN, NaN, NaN], [NaN, NaN, NaN, NaN], [NaN, NaN, NaN, NaN], [NaN, NaN, NaN, NaN], [NaN, NaN, NaN, NaN], [NaN, NaN, NaN, NaN], [NaN, NaN, NaN, NaN], [NaN, NaN, NaN, NaN], [NaN, NaN, NaN, NaN], [NaN, NaN, NaN, NaN], [NaN, NaN, NaN, NaN], [NaN, NaN, NaN, NaN], [NaN, NaN, NaN, NaN], [NaN, NaN, NaN, NaN], [NaN, NaN, NaN, NaN], [NaN, NaN, NaN, NaN], [NaN, NaN, NaN, NaN], [NaN, NaN, NaN, NaN], [NaN, NaN, NaN, NaN], [NaN, NaN, NaN, NaN], [NaN, NaN, NaN, NaN], [NaN, NaN, NaN, NaN], [NaN, NaN, NaN, NaN], [NaN, NaN, NaN, NaN], [NaN, NaN, NaN, NaN], [NaN, NaN, NaN, NaN], [NaN, NaN, NaN, NaN], [NaN, NaN, NaN, NaN], [NaN, NaN, NaN, NaN], [NaN, NaN, NaN, NaN], [NaN, NaN, NaN, NaN], [NaN, NaN, NaN, NaN], [NaN, NaN, NaN, NaN], [NaN, NaN, NaN, NaN], [NaN, NaN, NaN, NaN], [NaN, NaN, NaN, NaN], [NaN, NaN, NaN, NaN], [NaN, NaN, NaN, NaN], [NaN, NaN, NaN, NaN], [NaN, NaN, NaN, NaN], [NaN, NaN, NaN, NaN], [NaN, NaN, NaN, NaN], [NaN, NaN, NaN, NaN], [NaN, NaN, NaN, NaN], [NaN, NaN, NaN, NaN], [NaN, NaN, NaN, NaN], [NaN, NaN, NaN, NaN], [NaN, NaN, NaN, NaN], [NaN, NaN, NaN, NaN], [NaN, NaN, NaN, NaN], [NaN, NaN, NaN, NaN], [NaN, NaN, NaN, NaN], [NaN, NaN, NaN, NaN], [NaN, NaN, NaN, NaN], [NaN, NaN, NaN, NaN], [NaN, NaN, NaN, NaN], [NaN, NaN, NaN, NaN], [NaN, NaN, NaN, NaN], [NaN, NaN, NaN, NaN], [NaN, NaN, NaN, NaN], [NaN, NaN, NaN, NaN], [NaN, NaN, NaN, NaN], [NaN, NaN, NaN, NaN], [NaN, NaN, NaN, NaN], [NaN, NaN, NaN, NaN], [NaN, NaN, NaN, NaN], [NaN, NaN, NaN, NaN], [NaN, NaN, NaN, NaN], [NaN, NaN, NaN, NaN], [NaN, NaN, NaN, NaN], [NaN, NaN, NaN, NaN], [NaN, NaN, NaN, NaN], [NaN, NaN, NaN, NaN], [NaN, NaN, NaN, NaN], [NaN, NaN, NaN, NaN], [NaN, NaN, NaN, NaN], [NaN, NaN, NaN, NaN], [NaN, NaN, NaN, NaN], [NaN, NaN, NaN, NaN], [NaN, NaN, NaN, NaN], [NaN, NaN, NaN, NaN], [NaN, NaN, NaN, NaN], [NaN, NaN, NaN, NaN], [NaN, NaN, NaN, NaN], [NaN, NaN, NaN, NaN], [NaN, NaN, NaN, NaN], [NaN, NaN, NaN, NaN], [NaN, NaN, NaN, NaN], [NaN, NaN, NaN, NaN], [NaN, NaN, NaN, NaN], [NaN, NaN, NaN, NaN], [NaN, NaN, NaN, NaN], [NaN, NaN, NaN, NaN], [NaN, NaN, NaN, NaN], [NaN, NaN, NaN, NaN], [NaN, NaN, NaN, NaN], [NaN, NaN, NaN, NaN], [NaN, NaN, NaN, NaN], [NaN, NaN, NaN, NaN], [NaN, NaN, NaN, NaN], [NaN, NaN, NaN, NaN], [NaN, NaN, NaN, NaN], [NaN, NaN, NaN, NaN], [NaN, NaN, NaN, NaN], [NaN, NaN, NaN, NaN], [NaN, NaN, NaN, NaN], [NaN, NaN, NaN, NaN], [NaN, NaN, NaN, NaN], [NaN, NaN, NaN, NaN], [NaN, NaN, NaN, NaN], [NaN, NaN, NaN, NaN], [NaN, NaN, NaN, NaN], [NaN, NaN, NaN, NaN], [NaN, NaN, NaN, NaN], [NaN, NaN, NaN, NaN], [NaN, NaN, NaN, NaN], [NaN, NaN, NaN, NaN], [NaN, NaN, NaN, NaN], [NaN, NaN, NaN, NaN], [NaN, NaN, NaN, NaN], [NaN, NaN, NaN, NaN], [NaN, NaN, NaN, NaN], [NaN, NaN, NaN, NaN], [NaN, NaN, NaN, NaN], [NaN, NaN, NaN, NaN], [NaN, NaN, NaN, NaN], [NaN, NaN, NaN, NaN], [NaN, NaN, NaN, NaN], [NaN, NaN, NaN, NaN], [NaN, NaN, NaN, NaN], [NaN, NaN, NaN, NaN], [NaN, NaN, NaN, NaN], [NaN, NaN, NaN, NaN], [NaN, NaN, NaN, NaN], [NaN, NaN, NaN, NaN], [NaN, NaN, NaN, NaN], [NaN, NaN, NaN, NaN], [NaN, NaN, NaN, NaN], [NaN, NaN, NaN, NaN], [NaN, NaN, NaN, NaN], [NaN, NaN, NaN, NaN], [NaN, NaN, NaN, NaN], [NaN, NaN, NaN, NaN], [NaN, NaN, NaN, NaN], [NaN, NaN, NaN, NaN], [NaN, NaN, NaN, NaN], [NaN, NaN, NaN, NaN], [NaN, NaN, NaN, NaN], [NaN, NaN, NaN, NaN], [NaN, NaN, NaN, NaN], [NaN, NaN, NaN, NaN], [NaN, NaN, NaN, NaN], [NaN, NaN, NaN, NaN], [NaN, NaN, NaN, NaN], [NaN, NaN, NaN, NaN], [NaN, NaN, NaN, NaN], [NaN, NaN, NaN, NaN], [NaN, NaN, NaN, NaN], [NaN, NaN, NaN, NaN], [NaN, NaN, NaN, NaN], [NaN, NaN, NaN, NaN], [NaN, NaN, NaN, NaN], [NaN, NaN, NaN, NaN], [NaN, NaN, NaN, NaN], [NaN, NaN, NaN, NaN], [NaN, NaN, NaN, NaN], [NaN, NaN, NaN, NaN], [NaN, NaN, NaN, NaN], [NaN, NaN, NaN, NaN], [NaN, NaN, NaN, NaN], [NaN, NaN, NaN, NaN], [NaN, NaN, NaN, NaN], [NaN, NaN, NaN, NaN], [NaN, NaN, NaN, NaN], [NaN, NaN, NaN, NaN], [NaN, NaN, NaN, NaN], [NaN, NaN, NaN, NaN], [NaN, NaN, NaN, NaN], [NaN, NaN, NaN, NaN], [NaN, NaN, NaN, NaN], [NaN, NaN, NaN, NaN], [NaN, NaN, NaN, NaN], [NaN, NaN, NaN, NaN], [NaN, NaN, NaN, NaN], [NaN, NaN, NaN, NaN], [NaN, NaN, NaN, NaN], [NaN, NaN, NaN, NaN], [NaN, NaN, NaN, NaN], [NaN, NaN, NaN, NaN], [NaN, NaN, NaN, NaN], [NaN, NaN, NaN, NaN], [NaN, NaN, NaN, NaN], [NaN, NaN, NaN, NaN], [NaN, NaN, NaN, NaN], [NaN, NaN, NaN, NaN], [NaN, NaN, NaN, NaN], [NaN, NaN, NaN, NaN], [NaN, NaN, NaN, NaN], [NaN, NaN, NaN, NaN], [NaN, NaN, NaN, NaN], [NaN, NaN, NaN, NaN], [NaN, NaN, NaN, NaN], [NaN, NaN, NaN, NaN], [NaN, NaN, NaN, NaN], [NaN, NaN, NaN, NaN], [NaN, NaN, NaN, NaN], [NaN, NaN, NaN, NaN], [NaN, NaN, NaN, NaN], [NaN, NaN, NaN, NaN], [NaN, NaN, NaN, NaN], [NaN, NaN, NaN, NaN], [NaN, NaN, NaN, NaN], [NaN, NaN, NaN, NaN], [NaN, NaN, NaN, NaN], [NaN, NaN, NaN, NaN]]\n",
      " done.\n"
     ]
    }
   ],
   "metadata": {}
  },
  {
   "cell_type": "code",
   "execution_count": null,
   "source": [],
   "outputs": [],
   "metadata": {}
  }
 ],
 "metadata": {
  "orig_nbformat": 4,
  "language_info": {
   "file_extension": ".jl",
   "name": "julia",
   "mimetype": "application/julia",
   "version": "1.6.3"
  },
  "kernelspec": {
   "name": "julia-1.6",
   "display_name": "Julia 1.6.3",
   "language": "julia"
  },
  "interpreter": {
   "hash": "767d51c1340bd893661ea55ea3124f6de3c7a262a8b4abca0554b478b1e2ff90"
  }
 },
 "nbformat": 4,
 "nbformat_minor": 2
}