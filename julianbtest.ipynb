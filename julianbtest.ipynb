{
 "cells": [
  {
   "cell_type": "code",
   "execution_count": 68,
   "source": [
    "using RigidBodyDynamics\n",
    "using LinearAlgebra\n",
    "using StaticArrays\n",
    "using MeshCat\n",
    "using MeshCatMechanisms\n",
    "using MechanismGeometries\n",
    "using CoordinateTransformations\n",
    "using GeometryBasics\n",
    "\n",
    "include(\"/home/hkolano/onr-dynamics-julia/simulate_with_ext_forces.jl\")\n",
    "println(\"Libraries imported.\")"
   ],
   "outputs": [
    {
     "output_type": "stream",
     "name": "stdout",
     "text": [
      "Libraries imported.\n"
     ]
    }
   ],
   "metadata": {}
  },
  {
   "cell_type": "code",
   "execution_count": 79,
   "source": [
    "# ------------------------------------------------------------------------\n",
    "#                            MODEL DEFINITION\n",
    "# ------------------------------------------------------------------------\n",
    "vis = Visualizer()\n",
    "render(vis)\n",
    "# Define paths to the URDF files\n",
    "src_dir = dirname(pathof(RigidBodyDynamics))\n",
    "urdf_file_alpha = joinpath(src_dir, \"..\", \"..\", \"..\", \"..\", \"..\", \"onr-dynamics-julia\", \"URDFs\", \"alphaArmFixedJaws.urdf\")\n",
    "urdf_file_water = joinpath(src_dir, \"..\", \"..\", \"..\", \"..\", \"..\", \"onr-dynamics-julia\", \"URDFs\", \"alphaArmWater.urdf\")\n",
    "# mechanism_alpha = parse_urdf(urdf_file_alpha; gravity = [0.0, 0.0, 0.0])\n",
    "mechanism_alpha = parse_urdf(urdf_file_alpha)\n",
    "mechanism_water = parse_urdf(urdf_file_water; gravity = [0.0, 0.0, 0.0])\n",
    "\n",
    "delete!(vis)\n",
    "\n",
    "# Create visuals of the URDFs\n",
    "visuals = URDFVisuals(urdf_file_alpha)\n",
    "water_vis = URDFVisuals(urdf_file_water)\n",
    "mvis_alpha = MechanismVisualizer(mechanism_alpha, URDFVisuals(urdf_file_alpha), vis[:alpha])\n",
    "mvis_water = MechanismVisualizer(mechanism_water, URDFVisuals(urdf_file_water))\n",
    "# print(typeof(mvis_alpha))\n",
    "\n",
    "# Name the joints of the mechanisms\n",
    "base_joint, shoulder_joint, elbow_joint, wrist_joint = joints(mechanism_alpha)\n",
    "base_j_water, shoulder_j_water, elbow_j_water, wrist_j_water = joints(mechanism_water)\n",
    "~, shoulder_body, upper_arm_body, elbow_body, wrist_body = bodies(mechanism_alpha)\n",
    "\n",
    "shoulder_frame = default_frame(shoulder_body)\n",
    "upper_arm_frame = default_frame(upper_arm_body)\n",
    "elbow_frame = default_frame(elbow_body)\n",
    "wrist_frame = default_frame(wrist_body)\n",
    "base_frame = root_frame(mechanism_alpha)\n",
    "# # last_link = bodies(mechanism_alpha)[end]\n",
    "# # body_frame = default_frame(last_link)\n",
    "\n",
    "frame_names = [\"shoulder_cob\", \"ua_cob\", \"elbow_cob\", \"wrist_cob\"]\n",
    "vecs = [SVector{3, Float64}([-0.001, -0.003, .032]), SVector{3, Float64}([0.073, 0.0, -0.002]), SVector{3, Float64}([0.015, -0.012, -.003]), SVector{3, Float64}([0.0, 0.0, -.098])]\n",
    "cob_frames = []\n",
    "for i in 1:4\n",
    "    bod = bodies(mechanism_alpha)[i+1]\n",
    "    frame = CartesianFrame3D(frame_names[i])\n",
    "    vec = vecs[i]\n",
    "    cob_transform = Transform3D(frame, default_frame(bod), vec)\n",
    "    if !(is_fixed_to_body(bod, frame))\n",
    "        add_frame!(bod, cob_transform)\n",
    "        push!(cob_frames, frame)\n",
    "        # setelement!(mvis_alpha, frame)    # visualizes COB frames in MeshCat\n",
    "    end\n",
    "end\n",
    "\n",
    "println(\"URDFs parsed. Visualizers ready. \\n\")"
   ],
   "outputs": [
    {
     "output_type": "stream",
     "name": "stderr",
     "text": [
      "┌ Info: MeshCat server started. You can open the visualizer by visiting the following URL in your browser:\n",
      "│ http://127.0.0.1:8738\n",
      "└ @ MeshCat /home/hkolano/.julia/packages/MeshCat/GlCMx/src/visualizer.jl:73\n"
     ]
    },
    {
     "output_type": "stream",
     "name": "stdout",
     "text": [
      "URDFs parsed. Visualizers ready. \n",
      "\n"
     ]
    },
    {
     "output_type": "stream",
     "name": "stderr",
     "text": [
      "┌ Info: MeshCat server started. You can open the visualizer by visiting the following URL in your browser:\n",
      "│ http://127.0.0.1:8739\n",
      "└ @ MeshCat /home/hkolano/.julia/packages/MeshCat/GlCMx/src/visualizer.jl:73\n"
     ]
    }
   ],
   "metadata": {}
  },
  {
   "cell_type": "code",
   "execution_count": 80,
   "source": [
    "# ------------------------------------------------------------------------\n",
    "#                           BUOYANCY SETUP\n",
    "# ------------------------------------------------------------------------\n",
    "# f = rho * g * V\n",
    "# f = 997 (kg/m^3) * 9.81 (m/s^2) * V_in_L *.001 (m^3) = kg m / s^2\n",
    "# One time setup of buoyancy forces\n",
    "volumes = [.018, .203, .025, .155] # shoulder, ua, elbow, wrist \n",
    "# volumes = [0.0, 0.0, 0.0, 0.0]\n",
    "buoy_force_mags = volumes * 997 * 9.81 * .001\n",
    "buoy_lin_forces = []\n",
    "for mag in buoy_force_mags\n",
    "    lin_force = FreeVector3D(base_frame, [0.0, 0.0, mag])\n",
    "    push!(buoy_lin_forces, lin_force)\n",
    "end\n",
    "\n",
    "# println(spatial_inertia(shoulder_body))\n",
    "# println(spatial_inertia(upper_arm_body))\n",
    "# println(spatial_inertia(elbow_body))\n",
    "# println(spatial_inertia(wrist_body))\n",
    "# println(mass(mechanism_alpha))"
   ],
   "outputs": [],
   "metadata": {}
  },
  {
   "cell_type": "code",
   "execution_count": 88,
   "source": [
    "# ------------------------------------------------------------------------\n",
    "#                          INITIAL CONDITIONS\n",
    "# ------------------------------------------------------------------------\n",
    "function impose_alpha_state_on_water(state_alpha, state_water)\n",
    "    \"\"\"\n",
    "    Take the current state (configuration and velocity) of the alpha arm and impose it on the water mechanism state.\n",
    "    \"\"\"\n",
    "    set_configuration!(state_water, base_j_water, configuration(state_alpha, base_joint))\n",
    "    set_configuration!(state_water, shoulder_j_water, configuration(state_alpha, shoulder_joint))\n",
    "    set_configuration!(state_water, elbow_j_water, configuration(state_alpha, elbow_joint))\n",
    "    set_configuration!(state_water, wrist_j_water, configuration(state_alpha, wrist_joint))\n",
    "    set_velocity!(state_water, base_j_water, velocity(state_alpha, base_joint))\n",
    "    set_velocity!(state_water, shoulder_j_water, velocity(state_alpha, shoulder_joint))\n",
    "    set_velocity!(state_water, elbow_j_water, velocity(state_alpha, elbow_joint))\n",
    "    set_velocity!(state_water, wrist_j_water, velocity(state_alpha, wrist_joint))\n",
    "end;\n",
    "\n",
    "function impose_alpha_desacc_on_water(des_acc, des_acc_water)\n",
    "    des_acc_water[base_j_water][1] = des_acc[base_joint][1]\n",
    "    des_acc_water[shoulder_j_water][1] = des_acc[shoulder_joint][1]\n",
    "    des_acc_water[elbow_j_water][1] = des_acc[elbow_joint][1]\n",
    "    des_acc_water[wrist_j_water][1] = des_acc[wrist_joint][1]\n",
    "end;\n",
    "\n",
    "# Initialize state of alpha arm\n",
    "state_alpha = MechanismState(mechanism_alpha)\n",
    "zero!(state_alpha)\n",
    "# set_configuration!(state, base_joint, 0.0)\n",
    "# set_configuration!(state, shoulder_joint, -.27079)\n",
    "# set_configuration!(state, elbow_joint, 3.1415/2+1.3)\n",
    "# set_configuration!(state, wrist_joint, 0.5)\n",
    "\n",
    "# Initialize state of water arm\n",
    "state_water = MechanismState(mechanism_water)\n",
    "# Make water state = arm state\n",
    "impose_alpha_state_on_water(state_alpha, state_water)\n",
    "# state_water_no_vel = deepcopy(state_water)\n",
    "\n",
    "des_acc = similar(velocity(state_alpha))\n",
    "des_acc[base_joint][1] = 0.0001\n",
    "des_acc[shoulder_joint][1] = 0.\n",
    "des_acc[elbow_joint][1] = 0.\n",
    "des_acc[wrist_joint][1] = 0.\n",
    "\n",
    "des_acc_water = similar(velocity(state_water))\n",
    "impose_alpha_desacc_on_water(des_acc, des_acc_water)"
   ],
   "outputs": [
    {
     "output_type": "execute_result",
     "data": {
      "text/plain": [
       "0.0"
      ]
     },
     "metadata": {},
     "execution_count": 88
    }
   ],
   "metadata": {}
  },
  {
   "cell_type": "code",
   "execution_count": 89,
   "source": [
    "# ------------------------------------------------------------------------\n",
    "#                              CONTROLLER\n",
    "# ------------------------------------------------------------------------\n",
    "\n",
    "function simple_control!(torques::AbstractVector, t, state_alpha::MechanismState)\n",
    "    # Calculate inverse dynamics of alpha arm\n",
    "    tau = inverse_dynamics(state_alpha, des_acc)\n",
    "    # Find dynamic terms for water model\n",
    "    impose_alpha_state_on_water(state_alpha, state_water)\n",
    "    tau_water = inverse_dynamics(state_water, des_acc_water)\n",
    "\n",
    "    # Set torques accordingly (controller)\n",
    "    torques[velocity_range(state_alpha, base_joint)] .= tau[base_joint][1]\n",
    "    torques[velocity_range(state_alpha, shoulder_joint)] .= tau[shoulder_joint][1]\n",
    "    torques[velocity_range(state_alpha, elbow_joint)] .= tau[elbow_joint][1]\n",
    "    torques[velocity_range(state_alpha, wrist_joint)] .= tau[wrist_joint][1]\n",
    "    # torques[velocity_rangege(state_alpha, base_joint)] .= 0.\n",
    "    # torques[velocity_range(state_alpha, shoulder_joint)] .= 0.\n",
    "    # torques[velocity_range(state_alpha, elbow_joint)] .= 0.\n",
    "    # torques[velocity_ran(state_alpha, wrist_joint)] .= 0.\n",
    "end;"
   ],
   "outputs": [],
   "metadata": {}
  },
  {
   "cell_type": "code",
   "execution_count": 90,
   "source": [
    "# ------------------------------------------------------------------------\n",
    "#                      HYDRODYNAMICS CALCULATOR\n",
    "# ------------------------------------------------------------------------\n",
    "function hydro_calc!(hydro_wrenches::Dict{BodyID, Wrench{Float64}}, t, state_alpha::MechanismState)\n",
    "    buoy_wrenches = []\n",
    "    for i in 1:4\n",
    "        bod = bodies(mechanism_alpha)[i+1]\n",
    "        # println(bod)\n",
    "        body_default_frame = default_frame(bod)\n",
    "        def_to_cob = fixed_transform(bod, body_default_frame, cob_frames[i])\n",
    "        lin_force_trans = transform(state_alpha, buoy_lin_forces[i], body_default_frame)\n",
    "        # println(translation(def_to_cob))\n",
    "        wrench = Wrench(Point3D(body_default_frame, translation(def_to_cob)), lin_force_trans)\n",
    "        push!(buoy_wrenches, wrench)\n",
    "        # buoy_wrench_dict[BodyID(bod)] = wrench\n",
    "        hydro_wrenches[BodyID(bod)] = transform(state_alpha, wrench, root_frame(mechanism_alpha))\n",
    "    end\n",
    "end;"
   ],
   "outputs": [],
   "metadata": {}
  },
  {
   "cell_type": "code",
   "execution_count": 91,
   "source": [
    "# ------------------------------------------------------------------------\n",
    "#                          BUOYANCY CALCULATOR\n",
    "# ------------------------------------------------------------------------\n",
    "radius = 0.02\n",
    "names = [\"pt1\", \"pt2\", \"pt3\", \"pt4\"]\n",
    "hydro_wrenches = Dict{BodyID, Wrench{Float64}}()\n",
    "buoy_wrenches = []\n",
    "setelement!(mvis_alpha, default_frame(wrist_body))\n",
    "for i in 1:4\n",
    "    bod = bodies(mechanism_alpha)[i+1]\n",
    "    # println(bod)\n",
    "    body_default_frame = default_frame(bod)\n",
    "    def_to_cob = fixed_transform(bod, body_default_frame, cob_frames[i])\n",
    "    lin_force_trans = transform(state_alpha, buoy_lin_forces[i], body_default_frame)\n",
    "    # println(translation(def_to_cob))\n",
    "    wrench = Wrench(Point3D(body_default_frame, translation(inv(def_to_cob))), lin_force_trans)\n",
    "    wrench_root = transform(state_alpha, wrench, root_frame(mechanism_alpha))\n",
    "    println(wrench)\n",
    "    setelement!(mvis_alpha, Point3D(body_default_frame, translation(inv(def_to_cob))), radius, names[i])\n",
    "    push!(buoy_wrenches, wrench)\n",
    "    # buoy_wrench_dict[BodyID(bod)] = wrench\n",
    "    hydro_wrenches[BodyID(bod)] = wrench_root\n",
    "end\n",
    "\n",
    "# arrow_buoy_og = ArrowVisualizer(vis[:arrow1])\n",
    "# setobject!(arrow_buoy_og)\n",
    "# arrow_buoy_trans = ArrowVisualizer(vis[:arrow2])\n",
    "# setobject!(arrow_buoy_trans)\n",
    "\n",
    "# ----------------------------------------\n",
    "# shoulder_ID = BodyID(shoulder_body)\n",
    "\n",
    "# transform_from_base_to_wrist = relative_transform(state_alpha, root_frame(mechanism_alpha), default_frame(wrist_body))\n"
   ],
   "outputs": [
    {
     "output_type": "stream",
     "name": "stdout",
     "text": [
      "Wrench expressed in \"after_r5m_joint5\":\n",
      "angular: [-0.0005281507799999999, 0.00017605026, 0.0], linear: [0.0, 0.0, 0.17605026]\n",
      "Wrench expressed in \"after_r5m_joint4\":\n",
      "angular: [0.003826210918536263, -0.0010686597930247128, 0.13965669852657359], linear: [0.5310949728957587, 1.9131054592681316, 8.862804429034763e-5]\n",
      "Wrench expressed in \"after_r5m_joint3\":\n",
      "angular: [1.2634138699404597e-7, -0.0007333790253485766, 0.0029341478083292766], linear: [0.24451424975149616, -1.5459125785171403e-6, -1.0914927060799783e-5]\n",
      "Wrench expressed in \"after_r5m_joint2\":\n",
      "angular: [0.07123256591515872, -0.13037650447953966, 0.0], linear: [1.3303724946891802, 0.7268629175016196, -4.325788731817088e-5]\n",
      "Dict{BodyID, Wrench{Float64}}(BodyID(5) => Wrench expressed in \"world\":\n",
      "angular: [-1.085392815004707e-5, 0.10086493330361146, 5.8756476245367436e-18], linear: [7.905739638578161e-17, -3.627578731165549e-17, 1.5159883500000004], BodyID(4) => Wrench expressed in \"world\":\n",
      "angular: [0.0007330951776923499, 0.03729667781536093, -3.1467242497909496e-22], linear: [1.2752526836734809e-17, 1.8228726612538305e-21, 0.24451425000000002], BodyID(2) => Wrench expressed in \"world\":\n",
      "angular: [0.0005281506649352341, -0.0001760506051939214, 0.0], linear: [0.0, 0.0, 0.17605026], BodyID(3) => Wrench expressed in \"world\":\n",
      "angular: [-0.003970794184041338, 0.17936586467960186, -5.018176675037596e-20], linear: [1.2278230826578357e-16, -1.2905313113009642e-22, 1.98545571])\n",
      "Transform3D{Float64}[Transform3D from \"after_r5m_joint2\" to \"after_r5m_joint2\":\n",
      "rotation: 0.0 rad about [1.0, 0.0, 0.0], translation: [-0.0, -0.0, -0.0], Transform3D from \"before_r5m_joint1_1\" to \"after_r5m_joint2\":\n",
      "rotation: 1.57075 rad about [0.9999999999999999, 0.0, 0.0], translation: [-0.015, 0.0, -0.14], Transform3D from \"before_r5m_joint1_2\" to \"after_r5m_joint2\":\n",
      "rotation: 1.57075 rad about [0.9999999999999999, 0.0, 0.0], translation: [0.015, 0.0, -0.14], Transform3D from \"before_r5m_joint_jaw\" to \"after_r5m_joint2\":\n",
      "rotation: 1.5707 rad about [3.437928322548059e-63, 0.0, 0.9999999999999999], translation: [0.0, 0.0, -0.19], Transform3D from \"after_r5m_joint1_1\" to \"after_r5m_joint2\":\n",
      "rotation: 1.57075 rad about [0.9999999999999999, 0.0, 0.0], translation: [-0.015, 0.0, -0.14], Transform3D from \"after_r5m_joint1_2\" to \"after_r5m_joint2\":\n",
      "rotation: 1.57075 rad about [0.9999999999999999, 0.0, 0.0], translation: [0.015, 0.0, -0.14], Transform3D from \"after_r5m_joint_jaw\" to \"after_r5m_joint2\":\n",
      "rotation: 1.5707 rad about [3.437928322548059e-63, 0.0, 0.9999999999999999], translation: [0.0, 0.0, -0.19], Transform3D from \"wrist_cob\" to \"after_r5m_joint2\":\n",
      "rotation: 0.0 rad about [1.0, 0.0, 0.0], translation: [0.0, 0.0, -0.098]]\n"
     ]
    }
   ],
   "metadata": {}
  },
  {
   "cell_type": "code",
   "execution_count": 92,
   "source": [
    "# ------------------------------------------------------------------------\n",
    "#                              SIMULATION\n",
    "# ------------------------------------------------------------------------\n",
    "final_time = 2\n",
    "ts, qs, vs = simulate_with_ext_forces(state_alpha, final_time, hydro_calc!, simple_control!; Δt = 5e-4)\n",
    "# ts, qs, vs = simulate(state_alpha, final_time, simple_control!; Δt = 1e-2)\n",
    "\n",
    "println(\"Simulation finished.\")"
   ],
   "outputs": [
    {
     "output_type": "stream",
     "name": "stdout",
     "text": [
      "Simulation finished.\n"
     ]
    }
   ],
   "metadata": {}
  },
  {
   "cell_type": "code",
   "execution_count": 93,
   "source": [
    "# ------------------------------------------------------------------------\n",
    "#                             VISUALIZATION\n",
    "# ------------------------------------------------------------------------\n",
    "# vis = Visualizer()\n",
    "# open(vis)\n",
    "\n",
    "# delete!(vis)\n",
    "# mvis = MechanismVisualizer(mechanism, URDFVisuals(urdf_file))\n",
    "# set_configuration!(mvis, [0.0, 0.0])\n",
    "# open(mvis)\n",
    "MeshCatMechanisms.animate(mvis_alpha, ts, qs; realtimerate = .5)\n",
    "\n",
    "# animation = Animation(mvis, ts, qs)\n",
    "# setanimation!(mvis, animation)\n",
    "\n",
    "println(\"\\n done.\")"
   ],
   "outputs": [
    {
     "output_type": "stream",
     "name": "stdout",
     "text": [
      "\n",
      " done.\n"
     ]
    }
   ],
   "metadata": {}
  },
  {
   "cell_type": "code",
   "execution_count": null,
   "source": [],
   "outputs": [],
   "metadata": {}
  },
  {
   "cell_type": "code",
   "execution_count": null,
   "source": [],
   "outputs": [],
   "metadata": {}
  }
 ],
 "metadata": {
  "orig_nbformat": 4,
  "language_info": {
   "file_extension": ".jl",
   "name": "julia",
   "mimetype": "application/julia",
   "version": "1.6.3"
  },
  "kernelspec": {
   "name": "julia-1.6",
   "display_name": "Julia 1.6.3",
   "language": "julia"
  },
  "interpreter": {
   "hash": "767d51c1340bd893661ea55ea3124f6de3c7a262a8b4abca0554b478b1e2ff90"
  }
 },
 "nbformat": 4,
 "nbformat_minor": 2
}