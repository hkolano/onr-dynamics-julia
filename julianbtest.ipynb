{
 "cells": [
  {
   "cell_type": "code",
   "execution_count": 1,
   "source": [
    "using RigidBodyDynamics\n",
    "using LinearAlgebra\n",
    "using StaticArrays\n",
    "using MeshCat\n",
    "using MeshCatMechanisms\n",
    "using MechanismGeometries\n",
    "using CoordinateTransformations\n",
    "using GeometryBasics\n",
    "\n",
    "include(\"/home/hkolano/onr-dynamics-julia/simulate_with_ext_forces.jl\")\n",
    "println(\"Libraries imported.\")"
   ],
   "outputs": [
    {
     "output_type": "stream",
     "name": "stderr",
     "text": [
      "┌ Info: Precompiling RigidBodyDynamics [366cf18f-59d5-5db9-a4de-86a9f6786172]\n",
      "└ @ Base loading.jl:1342\n",
      "┌ Info: Precompiling MeshCatMechanisms [6ad125db-dd91-5488-b820-c1df6aab299d]\n",
      "└ @ Base loading.jl:1342\n"
     ]
    },
    {
     "output_type": "display_data",
     "data": {
      "application/vnd.webio.node+json": {
       "props": {},
       "nodeType": "DOM",
       "type": "node",
       "instanceArgs": {
        "namespace": "html",
        "tag": "div"
       },
       "children": []
      },
      "text/html": [
       "<div style=\"padding: 1em; background-color: #f8d6da; border: 1px solid #f5c6cb; font-weight: bold;\">\n",
       "<p>The WebIO Jupyter extension was not detected. See the\n",
       "<a href=\"https://juliagizmos.github.io/WebIO.jl/latest/providers/ijulia/\" target=\"_blank\">\n",
       "    WebIO Jupyter integration documentation\n",
       "</a>\n",
       "for more information.\n",
       "</div>\n"
      ],
      "text/plain": [
       "WebIO._IJuliaInit()"
      ]
     },
     "metadata": {}
    },
    {
     "output_type": "stream",
     "name": "stdout",
     "text": [
      "Libraries imported.\n"
     ]
    }
   ],
   "metadata": {}
  },
  {
   "cell_type": "code",
   "execution_count": 30,
   "source": [
    "# ------------------------------------------------------------------------\n",
    "#                            MODEL DEFINITION\n",
    "# ------------------------------------------------------------------------\n",
    "vis = Visualizer()\n",
    "render(vis)\n",
    "# Define paths to the URDF files\n",
    "src_dir = dirname(pathof(RigidBodyDynamics))\n",
    "urdf_file_alpha = joinpath(src_dir, \"..\", \"..\", \"..\", \"..\", \"..\", \"onr-dynamics-julia\", \"URDFs\", \"alphaArmFixedJaws.urdf\")\n",
    "urdf_file_water = joinpath(src_dir, \"..\", \"..\", \"..\", \"..\", \"..\", \"onr-dynamics-julia\", \"URDFs\", \"alphaArmWater.urdf\")\n",
    "mechanism_alpha = parse_urdf(urdf_file_alpha)\n",
    "mechanism_water = parse_urdf(urdf_file_water; gravity = [0.0, 0.0, 0.0])\n",
    "\n",
    "delete!(vis)\n",
    "\n",
    "# Create visuals of the URDFs\n",
    "visuals = URDFVisuals(urdf_file_alpha)\n",
    "water_vis = URDFVisuals(urdf_file_water)\n",
    "mvis_alpha = MechanismVisualizer(mechanism_alpha, URDFVisuals(urdf_file_alpha), vis[:alpha])\n",
    "mvis_water = MechanismVisualizer(mechanism_water, URDFVisuals(urdf_file_water))\n",
    "# print(typeof(mvis_alpha))\n",
    "\n",
    "# Name the joints of the mechanisms\n",
    "base_joint, shoulder_joint, elbow_joint, wrist_joint = joints(mechanism_alpha)\n",
    "base_j_water, shoulder_j_water, elbow_j_water, wrist_j_water = joints(mechanism_water)\n",
    "~, shoulder_body, upper_arm_body, elbow_body, wrist_body = bodies(mechanism_alpha)\n",
    "\n",
    "shoulder_frame = default_frame(shoulder_body)\n",
    "upper_arm_frame = default_frame(upper_arm_body)\n",
    "elbow_frame = default_frame(elbow_body)\n",
    "wrist_frame = default_frame(wrist_body)\n",
    "base_frame = root_frame(mechanism_alpha)\n",
    "# # last_link = bodies(mechanism_alpha)[end]\n",
    "# # body_frame = default_frame(last_link)\n",
    "\n",
    "frame_names = [\"shoulder_cob\", \"ua_cob\", \"elbow_cob\", \"wrist_cob\"]\n",
    "vecs = [SVector{3, Float64}([0.0, 0.0, .02]), SVector{3, Float64}([0.0675, 0.0, 0.0]), SVector{3, Float64}([0.0, 0.0, 0.0]), SVector{3, Float64}([0.0, 0.0, -.070])]\n",
    "for i in 1:4\n",
    "    bod = bodies(mechanism_alpha)[i+1]\n",
    "    frame = CartesianFrame3D(frame_names[i])\n",
    "    vec = vecs[i]\n",
    "    cob_transform = Transform3D(frame, default_frame(bod), vec)\n",
    "    if !(is_fixed_to_body(bod, frame))\n",
    "        add_frame!(bod, cob_transform)\n",
    "        # setelement!(mvis_alpha, frame)    # visualizes COB frames in MeshCat\n",
    "    end\n",
    "end\n",
    "\n",
    "# Show default coordinate frames of these frames\n",
    "# setelement!(mvis_alpha, base_frame)\n",
    "# # setelement!(mvis_alpha, base_joint_frame)\n",
    "# setelement!(mvis_alpha, shoulder_frame)\n",
    "# # setelement!(mvis_alpha, elbow_frame)\n",
    "# setelement!(mvis_alpha, wrist_frame)\n",
    "\n",
    "arrow_buoy_og = ArrowVisualizer(vis[:arrow1])\n",
    "setobject!(arrow_buoy_og)\n",
    "arrow_buoy_trans = ArrowVisualizer(vis[:arrow2])\n",
    "setobject!(arrow_buoy_trans)\n",
    "\n",
    "println(\"URDFs parsed. Visualizers ready. \\n\")"
   ],
   "outputs": [
    {
     "output_type": "stream",
     "name": "stderr",
     "text": [
      "┌ Info: MeshCat server started. You can open the visualizer by visiting the following URL in your browser:\n",
      "│ http://127.0.0.1:8716\n",
      "└ @ MeshCat /home/hkolano/.julia/packages/MeshCat/GlCMx/src/visualizer.jl:73\n",
      "┌ Info: MeshCat server started. You can open the visualizer by visiting the following URL in your browser:\n",
      "│ http://127.0.0.1:8717\n",
      "└ @ MeshCat /home/hkolano/.julia/packages/MeshCat/GlCMx/src/visualizer.jl:73\n"
     ]
    },
    {
     "output_type": "stream",
     "name": "stdout",
     "text": [
      "URDFs parsed. Visualizers ready. \n",
      "\n"
     ]
    }
   ],
   "metadata": {}
  },
  {
   "cell_type": "code",
   "execution_count": 31,
   "source": [
    "frame_definitions(shoulder_body)"
   ],
   "outputs": [
    {
     "output_type": "execute_result",
     "data": {
      "text/plain": [
       "3-element Vector{Transform3D{Float64}}:\n",
       " Transform3D from \"after_r5m_joint5\" to \"after_r5m_joint5\":\n",
       "rotation: 0.0 rad about [1.0, 0.0, 0.0], translation: [-0.0, -0.0, -0.0]\n",
       " Transform3D from \"before_r5m_joint4\" to \"after_r5m_joint5\":\n",
       "rotation: 1.58897190587862 rad about [0.981942126498652, -0.1337746579654617, 0.13376846075786705], translation: [0.02, 0.0, 0.046]\n",
       " Transform3D from \"shoulder_cob\" to \"after_r5m_joint5\":\n",
       "rotation: 0.0 rad about [1.0, 0.0, 0.0], translation: [0.0, 0.0, 0.02]"
      ]
     },
     "metadata": {},
     "execution_count": 31
    }
   ],
   "metadata": {}
  },
  {
   "cell_type": "code",
   "execution_count": 3,
   "source": [
    "# ------------------------------------------------------------------------\n",
    "#                          INITIAL CONDITIONS\n",
    "# ------------------------------------------------------------------------\n",
    "function impose_alpha_state_on_water(state_alpha, state_water)\n",
    "    \"\"\"\n",
    "    Take the current state (configuration and velocity) of the alpha arm and impose it on the water mechanism state.\n",
    "    \"\"\"\n",
    "    set_configuration!(state_water, base_j_water, configuration(state_alpha, base_joint))\n",
    "    set_configuration!(state_water, shoulder_j_water, configuration(state_alpha, shoulder_joint))\n",
    "    set_configuration!(state_water, elbow_j_water, configuration(state_alpha, elbow_joint))\n",
    "    set_configuration!(state_water, wrist_j_water, configuration(state_alpha, wrist_joint))\n",
    "    set_velocity!(state_water, base_j_water, velocity(state_alpha, base_joint))\n",
    "    set_velocity!(state_water, shoulder_j_water, velocity(state_alpha, shoulder_joint))\n",
    "    set_velocity!(state_water, elbow_j_water, velocity(state_alpha, elbow_joint))\n",
    "    set_velocity!(state_water, wrist_j_water, velocity(state_alpha, wrist_joint))\n",
    "end;\n",
    "\n",
    "function impose_alpha_desacc_on_water(des_acc, des_acc_water)\n",
    "    des_acc_water[base_j_water][1] = des_acc[base_joint][1]\n",
    "    des_acc_water[shoulder_j_water][1] = des_acc[shoulder_joint][1]\n",
    "    des_acc_water[elbow_j_water][1] = des_acc[elbow_joint][1]\n",
    "    des_acc_water[wrist_j_water][1] = des_acc[wrist_joint][1]\n",
    "end;\n",
    "\n",
    "# Initialize state of alpha arm\n",
    "state_alpha = MechanismState(mechanism_alpha)\n",
    "zero!(state_alpha)\n",
    "# set_configuration!(state, base_joint, 0.0)\n",
    "# set_configuration!(state, shoulder_joint, -.27079)\n",
    "# set_configuration!(state, elbow_joint, 3.1415/2+1.3)\n",
    "# set_configuration!(state, wrist_joint, 0.5)\n",
    "\n",
    "# Initialize state of water arm\n",
    "state_water = MechanismState(mechanism_water)\n",
    "# Make water state = arm state\n",
    "impose_alpha_state_on_water(state_alpha, state_water)\n",
    "# state_water_no_vel = deepcopy(state_water)\n",
    "\n",
    "des_acc = similar(velocity(state_alpha))\n",
    "des_acc[base_joint][1] = 0.5\n",
    "des_acc[shoulder_joint][1] = 0.\n",
    "des_acc[elbow_joint][1] = 0.\n",
    "des_acc[wrist_joint][1] = 0.\n",
    "\n",
    "des_acc_water = similar(velocity(state_water))\n",
    "impose_alpha_desacc_on_water(des_acc, des_acc_water)"
   ],
   "outputs": [
    {
     "output_type": "execute_result",
     "data": {
      "text/plain": [
       "0.0"
      ]
     },
     "metadata": {},
     "execution_count": 3
    }
   ],
   "metadata": {}
  },
  {
   "cell_type": "code",
   "execution_count": 4,
   "source": [
    "# ------------------------------------------------------------------------\n",
    "#                              CONTROLLER\n",
    "# ------------------------------------------------------------------------\n",
    "\n",
    "function simple_control!(torques::AbstractVector, t, state_alpha::MechanismState)\n",
    "    # Calculate inverse dynamics of alpha arm\n",
    "    tau = inverse_dynamics(state_alpha, des_acc)\n",
    "    # Find dynamic terms for water model\n",
    "    impose_alpha_state_on_water(state_alpha, state_water)\n",
    "    tau_water = inverse_dynamics(state_water, des_acc_water)\n",
    "\n",
    "    # Set torques accordingly (controller)\n",
    "    torques[velocity_range(state_alpha, base_joint)] .= tau[base_joint][1]\n",
    "    torques[velocity_range(state_alpha, shoulder_joint)] .= tau[shoulder_joint][1]\n",
    "    torques[velocity_range(state_alpha, elbow_joint)] .= tau[elbow_joint][1]\n",
    "    torques[velocity_range(state_alpha, wrist_joint)] .= tau[wrist_joint][1]\n",
    "end;"
   ],
   "outputs": [],
   "metadata": {}
  },
  {
   "cell_type": "code",
   "execution_count": 96,
   "source": [
    "# ------------------------------------------------------------------------\n",
    "#                      HYDRODYNAMICS CALCULATOR\n",
    "# ------------------------------------------------------------------------\n",
    "function hydro_calc!(hydro_wrenches::Dict, t, state_alpha::MechanismState)\n",
    "    base_frame = root_frame(mechanism_alpha)\n",
    "    wrench_test = Wrench(default_frame(findbody(mechanism_alpha, \"r5m_shoulder_link\")), [1.0, 0.0, 0.0], [0.0, 0.0, 0.0])\n",
    "    \n",
    "    hydro_wrenches = Dict{BodyID, Wrench}(\n",
    "        BodyID(findbody(mechanism_alpha, \"r5m_shoulder_link\")) => transform(state_alpha, wrench_test, base_frame)\n",
    "    )\n",
    "end;"
   ],
   "outputs": [],
   "metadata": {}
  },
  {
   "cell_type": "code",
   "execution_count": 20,
   "source": [
    "println(frame_definitions(shoulder_body))\n",
    "\n",
    "\n",
    "\n",
    "print(frame_definitions(shoulder_body))\n",
    "# add_frame!(wrist_body, wrist_cob_transform)\n",
    "# setelement!(mvis_alpha, wrist_cob_frame)\n",
    "# setelement!(mvis_alpha, default_frame(wrist_body))"
   ],
   "outputs": [
    {
     "output_type": "stream",
     "name": "stdout",
     "text": [
      "Transform3D{Float64}[Transform3D from \"after_r5m_joint5\" to \"after_r5m_joint5\":\n",
      "rotation: 0.0 rad about [1.0, 0.0, 0.0], translation: [-0.0, -0.0, -0.0], Transform3D from \"before_r5m_joint4\" to \"after_r5m_joint5\":\n",
      "rotation: 1.58897190587862 rad about [0.981942126498652, -0.1337746579654617, 0.13376846075786705], translation: [0.02, 0.0, 0.046], Transform3D from \"shoulder_cob\" to \"after_r5m_joint5\":\n",
      "rotation: 0.0 rad about [1.0, 0.0, 0.0], translation: [0.0, 0.0, 0.02]]\n"
     ]
    },
    {
     "output_type": "error",
     "ename": "LoadError",
     "evalue": "MethodError: no method matching is_fixed_to_body(::RigidBody{Float64}, ::String)\n\u001b[0mClosest candidates are:\n\u001b[0m  is_fixed_to_body(::RigidBody, \u001b[91m::CartesianFrame3D\u001b[39m) at /home/hkolano/.julia/packages/RigidBodyDynamics/8B04X/src/rigid_body.jl:89",
     "traceback": [
      "MethodError: no method matching is_fixed_to_body(::RigidBody{Float64}, ::String)\n\u001b[0mClosest candidates are:\n\u001b[0m  is_fixed_to_body(::RigidBody, \u001b[91m::CartesianFrame3D\u001b[39m) at /home/hkolano/.julia/packages/RigidBodyDynamics/8B04X/src/rigid_body.jl:89",
      "",
      "Stacktrace:",
      " [1] top-level scope",
      "   @ ./In[20]:8",
      " [2] eval",
      "   @ ./boot.jl:360 [inlined]",
      " [3] include_string(mapexpr::typeof(REPL.softscope), mod::Module, code::String, filename::String)",
      "   @ Base ./loading.jl:1116"
     ]
    }
   ],
   "metadata": {}
  },
  {
   "cell_type": "code",
   "execution_count": null,
   "source": [
    "shoulder_ID = BodyID(shoulder_body)\n",
    "\n",
    "println(default_frame(wrist_body))\n",
    "println(body_fixed_frame_to_body(mechanism_alpha, default_frame(wrist_body)))\n",
    "\n",
    "transform_from_base_to_wrist = relative_transform(state_alpha, root_frame(mechanism_alpha), default_frame(wrist_body))\n",
    "# println(transform_from_base_to_wrist)\n",
    "\n",
    "wrist_buoy_linear = FreeVector3D(base_frame, [0.0, 0.0, .2])\n",
    "wrist_buoy_transformed = transform(state_alpha, wrist_buoy_linear, default_frame(wrist_body))\n",
    "println(wrist_buoy_transformed.v)\n",
    "# angular = FreeVector3D(base_frame, [0.0, 0.0, 0.0])\n",
    "\n",
    "settransform!(arrow_buoy_og, Point(0.0, 0.0, 0.0), Vec{3}(wrist_buoy_linear.v))\n",
    "pt = Point{3, Float64}(translation(inv(transform_from_base_to_wrist)))\n",
    "settransform!(arrow_buoy_trans, pt, Vec{3, Float64}(wrist_buoy_transformed.v))\n",
    "\n",
    "# setelement!(mvis_alpha, default_frame(wrist_body))\n",
    "\n",
    "# wrench_2 = Wrench(angular, linear)\n",
    "\n",
    "# wrench_transformed = transform(state_alpha, wrench_2, default_frame(wrist_body))\n",
    "\n",
    "# hydro_wrenches = Dict()\n",
    "# hydro_wrenches(shoulder_ID) => wrench_test\n",
    "# println(typeof(default_frame(findbody(mechanism_alpha, \"r5m_shoulder_link\"))))\n",
    "# println(typeof(wrench_2))\n",
    "# println(wrench_transformed)\n",
    "\n",
    "# hydro_wrenches = Dict()\n",
    "# hydro_wrenches[shoulder_ID] = wrench_2\n",
    "\n",
    "# hydro_wrenches = Dict{BodyID, Wrench}(\n",
    "#     BodyID(findbody(mechanism_alpha, \"r5m_shoulder_link\")) => transform(state_alpha, wrench_test, base_frame)\n",
    "# )"
   ],
   "outputs": [],
   "metadata": {}
  },
  {
   "cell_type": "code",
   "execution_count": null,
   "source": [
    "# ------------------------------------------------------------------------\n",
    "#                              SIMULATION\n",
    "# ------------------------------------------------------------------------\n",
    "final_time = 0.1\n",
    "# ts, qs, vs = simulate_with_ext_forces(state_alpha, final_time, hydro_calc!, simple_control!; Δt = 1e-2)\n",
    "ts, qs, vs = simulate(state_alpha, final_time, simple_control!; Δt = 1e-2)\n",
    "\n",
    "println(\"Simulation finished.\")"
   ],
   "outputs": [],
   "metadata": {}
  },
  {
   "cell_type": "code",
   "execution_count": null,
   "source": [
    "# ------------------------------------------------------------------------\n",
    "#                             VISUALIZATION\n",
    "# ------------------------------------------------------------------------\n",
    "# vis = Visualizer()\n",
    "# open(vis)\n",
    "\n",
    "# delete!(vis)\n",
    "# mvis = MechanismVisualizer(mechanism, URDFVisuals(urdf_file))\n",
    "# set_configuration!(mvis, [0.0, 0.0])\n",
    "# open(mvis)\n",
    "MeshCatMechanisms.animate(mvis_alpha, ts, qs; realtimerate = 1.)\n",
    "\n",
    "# animation = Animation(mvis, ts, qs)\n",
    "# setanimation!(mvis, animation)\n",
    "\n",
    "println(\"\\n done.\")"
   ],
   "outputs": [],
   "metadata": {}
  },
  {
   "cell_type": "code",
   "execution_count": null,
   "source": [],
   "outputs": [],
   "metadata": {}
  }
 ],
 "metadata": {
  "orig_nbformat": 4,
  "language_info": {
   "file_extension": ".jl",
   "name": "julia",
   "mimetype": "application/julia",
   "version": "1.6.3"
  },
  "kernelspec": {
   "name": "julia-1.6",
   "display_name": "Julia 1.6.3",
   "language": "julia"
  },
  "interpreter": {
   "hash": "767d51c1340bd893661ea55ea3124f6de3c7a262a8b4abca0554b478b1e2ff90"
  }
 },
 "nbformat": 4,
 "nbformat_minor": 2
}