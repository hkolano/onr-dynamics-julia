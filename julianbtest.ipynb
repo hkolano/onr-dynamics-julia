{
 "cells": [
  {
   "cell_type": "code",
   "execution_count": 14,
   "source": [
    "using RigidBodyDynamics\n",
    "using LinearAlgebra\n",
    "using StaticArrays\n",
    "using MeshCat\n",
    "using MeshCatMechanisms\n",
    "using MechanismGeometries\n",
    "\n",
    "println(\"Libraries imported.\")"
   ],
   "outputs": [
    {
     "output_type": "stream",
     "name": "stdout",
     "text": [
      "Libraries imported.\n"
     ]
    }
   ],
   "metadata": {}
  },
  {
   "cell_type": "code",
   "execution_count": 16,
   "source": [
    "# ------------------------------------------------------------------------\n",
    "#                            MODEL DEFINITION\n",
    "# ------------------------------------------------------------------------\n",
    "src_dir = dirname(pathof(RigidBodyDynamics))\n",
    "urdf_file = joinpath(src_dir, \"..\", \"..\", \"..\", \"..\", \"..\", \"onr-dynamics-julia\", \"alphaArmFixedJaws.urdf\")\n",
    "mechanism = parse_urdf(urdf_file)\n",
    "\n",
    "visuals = URDFVisuals(urdf_file)\n",
    "\n",
    "println(\"URDF parsed. \\n\")"
   ],
   "outputs": [
    {
     "output_type": "stream",
     "name": "stdout",
     "text": [
      "URDF parsed. \n",
      "\n"
     ]
    }
   ],
   "metadata": {}
  },
  {
   "cell_type": "code",
   "execution_count": 17,
   "source": [
    "# ------------------------------------------------------------------------\n",
    "#                              CONTROLLER\n",
    "# ------------------------------------------------------------------------\n",
    "\n",
    "base_joint, shoulder_joint, elbow_joint, wrist_joint = joints(mechanism)\n",
    "\n",
    "function simple_control!(torques::AbstractVector, t, state::MechanismState)\n",
    "    torques[velocity_range(state, base_joint)] .= 2.0*sin(t)\n",
    "    torques[velocity_range(state, shoulder_joint)] .= 0.\n",
    "    torques[velocity_range(state, elbow_joint)] .= 0.\n",
    "    torques[velocity_range(state, elbow_joint)] .= 0.\n",
    "end;"
   ],
   "outputs": [],
   "metadata": {}
  },
  {
   "cell_type": "code",
   "execution_count": 18,
   "source": [
    "# ------------------------------------------------------------------------\n",
    "#                              SIMULATION\n",
    "# ------------------------------------------------------------------------\n",
    "state = MechanismState(mechanism)\n",
    "zero_velocity!(state)\n",
    "set_configuration!(state, base_joint, 0.0)\n",
    "set_configuration!(state, shoulder_joint, 0.0)\n",
    "set_configuration!(state, elbow_joint, 0.0)\n",
    "set_configuration!(state, wrist_joint, 0.0)\n",
    "\n",
    "final_time = 5.\n",
    "ts, qs, vs = simulate(state, final_time, simple_control!; Δt = 1e-3)\n",
    "\n",
    "println(\"Simulation finished.\")"
   ],
   "outputs": [
    {
     "output_type": "stream",
     "name": "stdout",
     "text": [
      "Simulation finished.\n"
     ]
    }
   ],
   "metadata": {}
  },
  {
   "cell_type": "code",
   "execution_count": 21,
   "source": [
    "# ------------------------------------------------------------------------\n",
    "#                             VISUALIZATION\n",
    "# ------------------------------------------------------------------------\n",
    "# vis = Visualizer()\n",
    "# open(vis)\n",
    "\n",
    "# delete!(vis)\n",
    "mvis = MechanismVisualizer(mechanism, URDFVisuals(urdf_file))\n",
    "# set_configuration!(mvis, [0.0, 0.0])\n",
    "open(mvis)\n",
    "MeshCatMechanisms.animate(mvis, ts, qs; realtimerate = 1.)\n",
    "\n",
    "# animation = Animation(mvis, ts, qs)\n",
    "# setanimation!(mvis, animation)\n",
    "\n",
    "println(\"\\n done.\")"
   ],
   "outputs": [
    {
     "output_type": "stream",
     "name": "stderr",
     "text": [
      "┌ Info: MeshCat server started. You can open the visualizer by visiting the following URL in your browser:\n",
      "│ http://localhost:8702\n",
      "└ @ MeshCat /home/hkolano/.julia/packages/MeshCat/nXUuG/src/visualizer.jl:69\n"
     ]
    },
    {
     "output_type": "error",
     "ename": "MethodError",
     "evalue": "\u001b[91mMethodError: no method matching range(::Int64, ::Int64; step=0.25)\u001b[39m\n\u001b[91m\u001b[0mClosest candidates are:\u001b[39m\n\u001b[91m\u001b[0m  range(::Any; length, stop, step) at range.jl:76\u001b[39m",
     "traceback": [
      "\u001b[91mMethodError: no method matching range(::Int64, ::Int64; step=0.25)\u001b[39m\n\u001b[91m\u001b[0mClosest candidates are:\u001b[39m\n\u001b[91m\u001b[0m  range(::Any; length, stop, step) at range.jl:76\u001b[39m",
      "",
      "Stacktrace:",
      " [1] wait_for_server(::MeshCat.CoreVisualizer, ::Int64) at /home/hkolano/.julia/packages/MeshCat/nXUuG/src/servers.jl:8",
      " [2] wait_for_server(::MeshCat.CoreVisualizer) at /home/hkolano/.julia/packages/MeshCat/nXUuG/src/servers.jl:6",
      " [3] open(::MeshCat.CoreVisualizer) at /home/hkolano/.julia/packages/MeshCat/nXUuG/src/servers.jl:27",
      " [4] #open#85(::Base.Iterators.Pairs{Union{},Union{},Tuple{},NamedTuple{(),Tuple{}}}, ::Function, ::Visualizer) at /home/hkolano/.julia/packages/MeshCat/nXUuG/src/servers.jl:3",
      " [5] open(::Visualizer) at /home/hkolano/.julia/packages/MeshCat/nXUuG/src/servers.jl:3",
      " [6] #open#2(::Base.Iterators.Pairs{Union{},Union{},Tuple{},NamedTuple{(),Tuple{}}}, ::Function, ::MechanismVisualizer{MechanismState{Float64,Float64,Float64,TypeSortedCollections.TypeSortedCollection{Tuple{Array{Joint{Float64,Revolute{Float64}},1}},1}},Visualizer}) at /home/hkolano/.julia/packages/MeshCatMechanisms/hIZ8F/src/visualizer.jl:164",
      " [7] open(::MechanismVisualizer{MechanismState{Float64,Float64,Float64,TypeSortedCollections.TypeSortedCollection{Tuple{Array{Joint{Float64,Revolute{Float64}},1}},1}},Visualizer}) at /home/hkolano/.julia/packages/MeshCatMechanisms/hIZ8F/src/visualizer.jl:164",
      " [8] top-level scope at In[21]:9"
     ]
    }
   ],
   "metadata": {}
  }
 ],
 "metadata": {
  "orig_nbformat": 4,
  "language_info": {
   "file_extension": ".jl",
   "name": "julia",
   "mimetype": "application/julia",
   "version": "1.0.5"
  },
  "kernelspec": {
   "name": "julia-1.0",
   "display_name": "Julia 1.0.5",
   "language": "julia"
  }
 },
 "nbformat": 4,
 "nbformat_minor": 2
}