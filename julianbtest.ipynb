{
 "cells": [
  {
   "cell_type": "code",
   "execution_count": 22,
   "source": [
    "using RigidBodyDynamics\n",
    "using LinearAlgebra\n",
    "using StaticArrays\n",
    "using MeshCat\n",
    "using MeshCatMechanisms\n",
    "using MechanismGeometries\n",
    "\n",
    "println(\"Libraries imported.\")"
   ],
   "outputs": [
    {
     "output_type": "stream",
     "name": "stdout",
     "text": [
      "Libraries imported.\n"
     ]
    }
   ],
   "metadata": {}
  },
  {
   "cell_type": "code",
   "execution_count": 23,
   "source": [
    "# ------------------------------------------------------------------------\n",
    "#                            MODEL DEFINITION\n",
    "# ------------------------------------------------------------------------\n",
    "src_dir = dirname(pathof(RigidBodyDynamics))\n",
    "urdf_file = joinpath(src_dir, \"..\", \"..\", \"..\", \"..\", \"..\", \"onr-dynamics-julia\", \"alphaArmFixedJaws.urdf\")\n",
    "mechanism = parse_urdf(urdf_file)\n",
    "\n",
    "visuals = URDFVisuals(urdf_file)\n",
    "\n",
    "println(\"URDF parsed. \\n\")"
   ],
   "outputs": [
    {
     "output_type": "stream",
     "name": "stdout",
     "text": [
      "URDF parsed. \n",
      "\n"
     ]
    }
   ],
   "metadata": {}
  },
  {
   "cell_type": "code",
   "execution_count": 24,
   "source": [
    "mvis = MechanismVisualizer(mechanism, URDFVisuals(urdf_file))"
   ],
   "outputs": [
    {
     "output_type": "stream",
     "name": "stderr",
     "text": [
      "┌ Info: MeshCat server started. You can open the visualizer by visiting the following URL in your browser:\n",
      "│ http://localhost:8703\n",
      "└ @ MeshCat /home/hkolano/.julia/packages/MeshCat/nXUuG/src/visualizer.jl:69\n"
     ]
    },
    {
     "output_type": "execute_result",
     "data": {
      "text/plain": [
       "MechanismVisualizer{MechanismState{Float64,Float64,Float64,TypeSortedCollections.TypeSortedCollection{Tuple{Array{Joint{Float64,Revolute{Float64}},1}},1}},Visualizer}(MechanismState{Float64, Float64, Float64, …}(…), MeshCat Visualizer with path /meshcat at http://localhost:8703, 11)"
      ]
     },
     "metadata": {},
     "execution_count": 24
    }
   ],
   "metadata": {}
  },
  {
   "cell_type": "code",
   "execution_count": 27,
   "source": [
    "# ------------------------------------------------------------------------\n",
    "#                              CONTROLLER\n",
    "# ------------------------------------------------------------------------\n",
    "state = MechanismState(mechanism)\n",
    "zero_velocity!(state)\n",
    "set_configuration!(state, base_joint, 0.0)\n",
    "set_configuration!(state, shoulder_joint, 0.0)\n",
    "set_configuration!(state, elbow_joint, 0.0)\n",
    "set_configuration!(state, wrist_joint, 0.0)\n",
    "\n",
    "tau = inverse_dynamics(state, [0., 0., 0., 0.])\n",
    "print(tau)\n",
    "\n",
    "base_joint, shoulder_joint, elbow_joint, wrist_joint = joints(mechanism)\n",
    "\n",
    "function simple_control!(torques::AbstractVector, t, state::MechanismState)\n",
    "    torques[velocity_range(state, base_joint)] .= 0.1*sin(0.5*t)\n",
    "    torques[velocity_range(state, shoulder_joint)] .= 0.\n",
    "    torques[velocity_range(state, elbow_joint)] .= 0.\n",
    "    torques[velocity_range(state, elbow_joint)] .= 0.\n",
    "end;"
   ],
   "outputs": [
    {
     "output_type": "error",
     "ename": "MethodError",
     "evalue": "\u001b[91mMethodError: no method matching inverse_dynamics(::MechanismState{Float64,Float64,Float64,TypeSortedCollections.TypeSortedCollection{Tuple{Array{Joint{Float64,Revolute{Float64}},1}},1}}, ::Array{Float64,1})\u001b[39m\n\u001b[91m\u001b[0mClosest candidates are:\u001b[39m\n\u001b[91m\u001b[0m  inverse_dynamics(::MechanismState{X,M,C,JointCollection} where JointCollection where C, \u001b[91m::SegmentedVector{JointID,V,KeyRange,P} where P<:AbstractArray{V,1} where KeyRange<:AbstractRange{JointID}\u001b[39m) where {X, M, V} at /home/hkolano/.julia/packages/RigidBodyDynamics/2qxSc/src/mechanism_algorithms.jl:564\u001b[39m\n\u001b[91m\u001b[0m  inverse_dynamics(::MechanismState{X,M,C,JointCollection} where JointCollection where C, \u001b[91m::SegmentedVector{JointID,V,KeyRange,P} where P<:AbstractArray{V,1} where KeyRange<:AbstractRange{JointID}\u001b[39m, \u001b[91m::AbstractDict{BodyID,Wrench{W}}\u001b[39m) where {X, M, V, W} at /home/hkolano/.julia/packages/RigidBodyDynamics/2qxSc/src/mechanism_algorithms.jl:564\u001b[39m",
     "traceback": [
      "\u001b[91mMethodError: no method matching inverse_dynamics(::MechanismState{Float64,Float64,Float64,TypeSortedCollections.TypeSortedCollection{Tuple{Array{Joint{Float64,Revolute{Float64}},1}},1}}, ::Array{Float64,1})\u001b[39m\n\u001b[91m\u001b[0mClosest candidates are:\u001b[39m\n\u001b[91m\u001b[0m  inverse_dynamics(::MechanismState{X,M,C,JointCollection} where JointCollection where C, \u001b[91m::SegmentedVector{JointID,V,KeyRange,P} where P<:AbstractArray{V,1} where KeyRange<:AbstractRange{JointID}\u001b[39m) where {X, M, V} at /home/hkolano/.julia/packages/RigidBodyDynamics/2qxSc/src/mechanism_algorithms.jl:564\u001b[39m\n\u001b[91m\u001b[0m  inverse_dynamics(::MechanismState{X,M,C,JointCollection} where JointCollection where C, \u001b[91m::SegmentedVector{JointID,V,KeyRange,P} where P<:AbstractArray{V,1} where KeyRange<:AbstractRange{JointID}\u001b[39m, \u001b[91m::AbstractDict{BodyID,Wrench{W}}\u001b[39m) where {X, M, V, W} at /home/hkolano/.julia/packages/RigidBodyDynamics/2qxSc/src/mechanism_algorithms.jl:564\u001b[39m",
      "",
      "Stacktrace:",
      " [1] top-level scope at In[27]:10"
     ]
    }
   ],
   "metadata": {}
  },
  {
   "cell_type": "code",
   "execution_count": 20,
   "source": [
    "# ------------------------------------------------------------------------\n",
    "#                              SIMULATION\n",
    "# ------------------------------------------------------------------------\n",
    "final_time = 5.\n",
    "ts, qs, vs = simulate(state, final_time, simple_control!; Δt = 1e-3)\n",
    "\n",
    "println(\"Simulation finished.\")"
   ],
   "outputs": [
    {
     "output_type": "stream",
     "name": "stdout",
     "text": [
      "Simulation finished.\n"
     ]
    }
   ],
   "metadata": {}
  },
  {
   "cell_type": "code",
   "execution_count": 21,
   "source": [
    "# ------------------------------------------------------------------------\n",
    "#                             VISUALIZATION\n",
    "# ------------------------------------------------------------------------\n",
    "# vis = Visualizer()\n",
    "# open(vis)\n",
    "\n",
    "# delete!(vis)\n",
    "# mvis = MechanismVisualizer(mechanism, URDFVisuals(urdf_file))\n",
    "# set_configuration!(mvis, [0.0, 0.0])\n",
    "# open(mvis)\n",
    "MeshCatMechanisms.animate(mvis, ts, qs; realtimerate = 1.)\n",
    "\n",
    "# animation = Animation(mvis, ts, qs)\n",
    "# setanimation!(mvis, animation)\n",
    "\n",
    "println(\"\\n done.\")"
   ],
   "outputs": [
    {
     "output_type": "stream",
     "name": "stdout",
     "text": [
      "\n",
      " done.\n"
     ]
    }
   ],
   "metadata": {}
  }
 ],
 "metadata": {
  "orig_nbformat": 4,
  "language_info": {
   "file_extension": ".jl",
   "name": "julia",
   "mimetype": "application/julia",
   "version": "1.0.5"
  },
  "kernelspec": {
   "name": "julia-1.0",
   "display_name": "Julia 1.0.5",
   "language": "julia"
  }
 },
 "nbformat": 4,
 "nbformat_minor": 2
}