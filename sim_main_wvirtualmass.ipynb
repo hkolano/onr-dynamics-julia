{
 "cells": [
  {
   "cell_type": "code",
   "execution_count": 14,
   "metadata": {},
   "outputs": [
    {
     "name": "stdout",
     "output_type": "stream",
     "text": [
      "Libraries imported.\n"
     ]
    }
   ],
   "source": [
    "using RigidBodyDynamics\n",
    "using LinearAlgebra\n",
    "using StaticArrays\n",
    "using MeshCat\n",
    "using MeshCatMechanisms\n",
    "using MechanismGeometries\n",
    "using CoordinateTransformations\n",
    "using GeometryBasics\n",
    "\n",
    "include(\"/home/hkolano/onr-dynamics-julia/simulate_with_ext_forces.jl\")\n",
    "println(\"Libraries imported.\")"
   ]
  },
  {
   "cell_type": "code",
   "execution_count": 15,
   "metadata": {},
   "outputs": [
    {
     "name": "stdout",
     "output_type": "stream",
     "text": [
      "┌ Info: MeshCat server started. You can open the visualizer by visiting the following URL in your browser:\n",
      "│ http://127.0.0.1:8704\n",
      "└ @ MeshCat /home/hkolano/.julia/packages/MeshCat/GlCMx/src/visualizer.jl:73\n"
     ]
    },
    {
     "data": {
      "text/plain": [
       "CartesianFrame3D: \"world\" (id = 237)"
      ]
     },
     "metadata": {},
     "output_type": "display_data"
    }
   ],
   "source": [
    "# model definition\n",
    "# ------------------------------------------------------------------------\n",
    "#                            MODEL DEFINITION\n",
    "# ------------------------------------------------------------------------\n",
    "vis = Visualizer()\n",
    "render(vis)\n",
    "# Define paths to the URDF files\n",
    "src_dir = dirname(pathof(RigidBodyDynamics))\n",
    "urdf_file_combo = joinpath(src_dir, \"..\", \"..\", \"..\", \"..\", \"..\", \"onr-dynamics-julia\", \"URDFs\", \"alpha_seabotix_virtualmasses.urdf\")\n",
    "mechanism_alpha = parse_urdf(urdf_file_combo; gravity = [0.0, 0.0, 0.0])\n",
    "\n",
    "delete!(vis)\n",
    "\n",
    "# Create visuals of the URDFs\n",
    "visuals = URDFVisuals(urdf_file_combo)\n",
    "mvis_alpha = MechanismVisualizer(mechanism_alpha, URDFVisuals(urdf_file_combo), vis[:alpha])\n",
    "\n",
    "# Name the joints of the mechanism\n",
    "z_prism, x_prism, base_joint, shoulder_joint, elbow_joint, wrist_joint = joints(mechanism_alpha)\n",
    "~, virtual_z, vehicle_body, shoulder_body, upper_arm_body, elbow_body, wrist_body = bodies(mechanism_alpha)\n",
    "\n",
    "shoulder_frame = default_frame(shoulder_body)\n",
    "upper_arm_frame = default_frame(upper_arm_body)\n",
    "elbow_frame = default_frame(elbow_body)\n",
    "wrist_frame = default_frame(wrist_body)\n",
    "base_frame = root_frame(mechanism_alpha)\n",
    "# setelement!(mvis_alpha, shoulder_frame)\n",
    "# # last_link = bodies(mechanism_alpha)[end]\n",
    "# # body_frame = default_frame(last_link)"
   ]
  },
  {
   "cell_type": "code",
   "execution_count": 16,
   "metadata": {},
   "outputs": [
    {
     "name": "stdout",
     "output_type": "stream",
     "text": [
      "THIS SHOULD SAY before_r5m_joint5: before_r5m_joint5\n",
      "URDFs parsed. Visualizers ready. \n",
      "\n"
     ]
    }
   ],
   "source": [
    "# grav/buoy point definition\n",
    "# ------------------------------------------------------------------------\n",
    "#                       COM and COB DEFINITIONS\n",
    "# ------------------------------------------------------------------------\n",
    "frame_names_cob = [\"vehicle_cob\", \"shoulder_cob\", \"ua_cob\", \"elbow_cob\", \"wrist_cob\"]\n",
    "frame_names_com = [\"vehicle_com\", \"shoulder_com\", \"ua_com\", \"elbow_com\", \"wrist_com\"]\n",
    "cob_vecs = [SVector{3, Float64}([0.0, 0.0, -.01]), SVector{3, Float64}([-0.001, -0.003, .032]), SVector{3, Float64}([0.073, 0.0, -0.002]), SVector{3, Float64}([0.015, -0.012, -.003]), SVector{3, Float64}([0.0, 0.0, -.098])]\n",
    "com_vecs = [SVector{3, Float64}([0.0, 0.0, -0.06]), SVector{3, Float64}([0.005, -.001, 0.016]), SVector{3, Float64}([0.073, 0.0, 0.0]), SVector{3, Float64}([0.017, -0.026, -0.002]), SVector{3, Float64}([0.0, 0.003, -.098])]\n",
    "cob_frames = []\n",
    "com_frames = []\n",
    "for i in 1:5\n",
    "    bod = bodies(mechanism_alpha)[i+2]\n",
    "    frame_cob = CartesianFrame3D(frame_names_cob[i])\n",
    "    frame_com = CartesianFrame3D(frame_names_com[i])\n",
    "    cob_vec = cob_vecs[i]\n",
    "    com_vec = com_vecs[i]\n",
    "    cob_transform = Transform3D(frame_cob, default_frame(bod), cob_vec)\n",
    "    com_transform = Transform3D(frame_com, default_frame(bod), com_vec)\n",
    "    # setelement!(mvis_alpha, default_frame(bod))\n",
    "    if !(is_fixed_to_body(bod, frame_cob))\n",
    "        add_frame!(bod, cob_transform)\n",
    "        push!(cob_frames, frame_cob)\n",
    "        # setelement!(mvis_alpha, frame_cob)    # visualizes COB frames in MeshCat\n",
    "    end\n",
    "    if !(is_fixed_to_body(bod, frame_com))\n",
    "        add_frame!(bod, com_transform)\n",
    "        push!(com_frames, frame_com)\n",
    "        # setelement!(mvis_alpha, frame_com)    # visualizes COM frames in MeshCat\n",
    "    end\n",
    "end\n",
    "\n",
    "# alphabase_com_wrt_linkframe = SVector{3, Float64}([-0.075, -0.006, -.003])\n",
    "alphabase_com_wrt_linkframe = SVector{3, Float64}([-0.075, -0.0, -.0])\n",
    "linkframe_wrt_vehframe = translation(frame_definitions(vehicle_body)[38])\n",
    "# IF THE ARM IS ROTATED THIS HAS TO CHANGE!!!!\n",
    "alphabase_com_wrt_vehframe = alphabase_com_wrt_linkframe + linkframe_wrt_vehframe\n",
    "alphabase_com_frame = CartesianFrame3D(\"armbase_com_cob\")\n",
    "com_transform = Transform3D(alphabase_com_frame, default_frame(vehicle_body), alphabase_com_wrt_vehframe)\n",
    "\n",
    "if !(is_fixed_to_body(vehicle_body, alphabase_com_frame))\n",
    "    add_frame!(vehicle_body, com_transform)\n",
    "    push!(cob_frames, alphabase_com_frame)\n",
    "    push!(com_frames, alphabase_com_frame)\n",
    "    # setelement!(mvis_alpha, alphabase_com_frame)\n",
    "end\n",
    "print(\"THIS SHOULD SAY before_r5m_joint5: \")\n",
    "println(frame_definitions(vehicle_body)[38].from)\n",
    "# println(alphabase_com_wrt_vehframe)\n",
    "\n",
    "println(\"URDFs parsed. Visualizers ready. \\n\")"
   ]
  },
  {
   "cell_type": "code",
   "execution_count": 20,
   "metadata": {},
   "outputs": [
    {
     "name": "stdout",
     "output_type": "stream",
     "text": [
      "42.842\n"
     ]
    }
   ],
   "source": [
    "# buoyancy force setup\n",
    "# ------------------------------------------------------------------------\n",
    "#                           BUOYANCY SETUP\n",
    "# ------------------------------------------------------------------------\n",
    "# f = rho * g * V\n",
    "# f = 997 (kg/m^3) * 9.81 (m/s^2) * V_in_L *.001 (m^3) = kg m / s^2\n",
    "# One time setup of buoyancy forces\n",
    "volumes = [22.2/(.001*997), .018, .203, .025, .155, .202] # vehicle, shoulder, ua, elbow, wrist, armbase\n",
    "buoy_force_mags = volumes * 997 * 9.81 * .001\n",
    "buoy_lin_forces = []\n",
    "for mag in buoy_force_mags\n",
    "    lin_force = FreeVector3D(base_frame, [0.0, 0.0, mag])\n",
    "    push!(buoy_lin_forces, lin_force)\n",
    "end\n",
    "\n",
    "masses = [22.2, .194, .429, .115, .333, .341]\n",
    "grav_forces = masses*9.81\n",
    "grav_lin_forces = []\n",
    "for f_g in grav_forces\n",
    "    lin_force = FreeVector3D(base_frame, [0.0, 0.0, -f_g])\n",
    "    push!(grav_lin_forces, lin_force)\n",
    "end\n",
    "# println(mass(mechanism_alpha))\n",
    "# println(spatial_inertia(shoulder_body))\n",
    "# println(spatial_inertia(upper_arm_body))\n",
    "# println(spatial_inertia(elbow_body))\n",
    "# println(spatial_inertia(wrist_body))\n",
    "# println(mass(mechanism_alpha))"
   ]
  },
  {
   "cell_type": "code",
   "execution_count": 40,
   "metadata": {},
   "outputs": [],
   "source": [
    "# Hydrodynamics calculator function\n",
    "# ------------------------------------------------------------------------\n",
    "#                HYDRODYNAMICS (Grav & Buoy) CALCULATOR\n",
    "# ------------------------------------------------------------------------\n",
    "function hydro_calc!(hydro_wrenches::Dict{BodyID, Wrench{Float64}}, t, state_alpha::MechanismState)\n",
    "    buoy_wrenches = []\n",
    "    grav_wrenches = []\n",
    "    names = [\"cob1\", \"cob2\", \"cob3\", \"cob4\", \"cob5\"]\n",
    "    # Iterate through buoyancy for each body, ignoring armbase for now\n",
    "    for i in 1:5\n",
    "        # Get the body\n",
    "        bod = bodies(mechanism_alpha)[i+2]\n",
    "        # Get default frame of te body\n",
    "        body_default_frame = default_frame(bod)\n",
    "        # Get transform between the defualt frame and the center of buoyancy\n",
    "        # TODO: don't use fixed_transform because it's bad for computation time\n",
    "        def_to_cob = fixed_transform(bod, body_default_frame, cob_frames[i])\n",
    "        def_to_com = fixed_transform(bod, body_default_frame, com_frames[i])\n",
    "        # Transform buoyancy force vector to the body's default frame (rotation only)\n",
    "        buoy_force_trans = transform(state_alpha, buoy_lin_forces[i], body_default_frame)\n",
    "        grav_force_trans = transform(state_alpha, grav_lin_forces[i], body_default_frame)\n",
    "        # Make the wrench: the buoyancy force through a point, the center of buoyancy.\n",
    "        buoy_wrench = Wrench(Point3D(body_default_frame, translation(inv(def_to_cob))), buoy_force_trans)\n",
    "        grav_wrench = Wrench(Point3D(body_default_frame, translation(inv(def_to_com))), grav_force_trans)\n",
    "        # Add wrench to buoy_wrenches\n",
    "        push!(buoy_wrenches, buoy_wrench)\n",
    "        push!(grav_wrenches, grav_wrench)\n",
    "        # Add the buoyancy wrench and grav wrench together\n",
    "        wrench = buoy_wrench + grav_wrench\n",
    "        # setelement!(mvis_alpha, Point3D(body_default_frame, translation(inv(def_to_cob))), 0.02, \"name\")\n",
    "        if i == 1\n",
    "            def_to_armbase_cob = fixed_transform(bod, body_default_frame, cob_frames[6])\n",
    "            def_to_armbase_com = fixed_transform(bod, body_default_frame, com_frames[6])\n",
    "            buoy_force_trans_armbase = transform(state_alpha, buoy_lin_forces[6], body_default_frame)\n",
    "            grav_force_trans_armbase = transform(state_alpha, grav_lin_forces[6], body_default_frame)\n",
    "            buoy_wrench_arm = Wrench(Point3D(body_default_frame, translation(inv(def_to_armbase_cob))), buoy_force_trans_armbase)\n",
    "            grav_wrench_arm = Wrench(Point3D(body_default_frame, translation(inv(def_to_armbase_com))), grav_force_trans_armbase)\n",
    "            wrench = wrench + buoy_wrench_arm + grav_wrench_arm\n",
    "            # println(\"armbase gravity wrench in vehicle frame\")\n",
    "            # println(grav_wrench_arm)\n",
    "            # setelement!(mvis_alpha, Point3D(body_default_frame, translation(inv(def_to_armbase_com))), 0.02, \"armbase_com\")\n",
    "            # setelement!(Point3D(body_default_frame, translation(inv(def_to_armbase_cob))))\n",
    "        end\n",
    "        # Transform the wrench to the root frame and assign it to the body\n",
    "        hydro_wrenches[BodyID(bod)] = transform(state_alpha, wrench, root_frame(mechanism_alpha))\n",
    "    end\n",
    "end;\n"
   ]
  },
  {
   "cell_type": "code",
   "execution_count": 41,
   "metadata": {},
   "outputs": [],
   "source": [
    "# Controller function\n",
    "# ------------------------------------------------------------------------\n",
    "#                              CONTROLLER\n",
    "# ------------------------------------------------------------------------\n",
    "\n",
    "function simple_control!(torques::AbstractVector, t, state_alpha::MechanismState, hydro_calc!)\n",
    "    # Get buoyancy buoyancy forces \n",
    "    hydro_wrenches = Dict{BodyID, Wrench{Float64}}()\n",
    "    hydro_calc!(hydro_wrenches, t, state_alpha) \n",
    "    # Calculate inverse dynamics of alpha arm (including buoyancy)\n",
    "    tau = inverse_dynamics(state_alpha, des_acc, hydro_wrenches)\n",
    "\n",
    "    # println(\"Control Tau:\")\n",
    "    # println(tau)\n",
    "\n",
    "    # Set torques accordingly (controller)\n",
    "    torques[velocity_range(state_alpha, x_prism)] .= tau[x_prism][1]\n",
    "    torques[velocity_range(state_alpha, z_prism)] .= tau[z_prism][1]\n",
    "    torques[velocity_range(state_alpha, base_joint)] .= tau[base_joint][1]\n",
    "    # torques[velocity_range(state_alpha, shoulder_joint)] .= tau[shoulder_joint][1]\n",
    "    torques[velocity_range(state_alpha, shoulder_joint)] .= 0.0 \n",
    "    torques[velocity_range(state_alpha, elbow_joint)] .= tau[elbow_joint][1]\n",
    "    torques[velocity_range(state_alpha, wrist_joint)] .= tau[wrist_joint][1]\n",
    "    # torques[velocity_range(state_alpha, base_joint)] .= 0.01\n",
    "    # torques[velocity_range(state_alpha, shoulder_joint)] .= 0.01\n",
    "    # torques[velocity_range(state_alpha, elbow_joint)] .= 0.01\n",
    "    # torques[velocity_range(state_alpha, wrist_joint)] .= 0.01\n",
    "end;"
   ]
  },
  {
   "cell_type": "code",
   "execution_count": 56,
   "metadata": {},
   "outputs": [
    {
     "data": {
      "text/plain": [
       "6×6 Symmetric{Float64, Matrix{Float64}}:\n",
       " 42.842       24.842       -0.00305795   …  -0.0235124    -3.42022e-9\n",
       " 24.842       24.842       -0.00305795      -0.0235124    -3.42022e-9\n",
       " -0.00305795  -0.00305795   0.0215732        4.13911e-5   -9.74326e-5\n",
       "  0.08621      0.08621     -0.000157053     -0.00886567   -2.29498e-5\n",
       " -0.0235124   -0.0235124    4.13911e-5       0.0310988    -0.000345517\n",
       " -3.42022e-9  -3.42022e-9  -9.74326e-5   …  -0.000345517   0.000117781"
      ]
     },
     "metadata": {},
     "output_type": "display_data"
    }
   ],
   "source": [
    "# initial conditions\n",
    "# ------------------------------------------------------------------------\n",
    "#                          INITIAL CONDITIONS\n",
    "# ------------------------------------------------------------------------\n",
    "# Initialize state of alpha arm\n",
    "state_alpha = MechanismState(mechanism_alpha)\n",
    "zero!(state_alpha)\n",
    "set_configuration!(state_alpha, x_prism, 1.0)\n",
    "# set_configuration!(state, shoulder_joint, -.27079)\n",
    "# set_configuration!(state, elbow_joint, 3.1415/2+1.3)\n",
    "# set_configuration!(state, wrist_joint, 0.5)\n",
    "\n",
    "# Define desired accelerations\n",
    "des_acc = similar(velocity(state_alpha))\n",
    "des_acc[x_prism][1] = 0.\n",
    "des_acc[z_prism][1] = 0.\n",
    "des_acc[base_joint][1] = 0.0001\n",
    "des_acc[shoulder_joint][1] = 0.\n",
    "des_acc[elbow_joint][1] = 0.\n",
    "des_acc[wrist_joint][1] = 0.\n",
    "# mass_matrix(state_alpha)"
   ]
  },
  {
   "cell_type": "code",
   "execution_count": 43,
   "metadata": {},
   "outputs": [
    {
     "name": "stdout",
     "output_type": "stream",
     "text": [
      "Simulation finished.\n"
     ]
    }
   ],
   "source": [
    "# simulation\n",
    "# ------------------------------------------------------------------------\n",
    "#                              SIMULATION\n",
    "# ------------------------------------------------------------------------\n",
    "final_time = 1.0\n",
    "ts, qs, vs = simulate_with_ext_forces(state_alpha, final_time, hydro_calc!, simple_control!; Δt = 5e-3)\n",
    "# ts, qs, vs = simulate(state_alpha, final_time, simple_control!; Δt = 1e-2)\n",
    "\n",
    "println(\"Simulation finished.\")"
   ]
  },
  {
   "cell_type": "code",
   "execution_count": 52,
   "metadata": {},
   "outputs": [
    {
     "ename": "MethodError",
     "evalue": "MethodError: no method matching mass_matrix(::Mechanism{Float64})\nClosest candidates are:\n  mass_matrix(!Matched::MechanismState{X, M, C, JointCollection} where JointCollection) where {X, M, C} at /home/hkolano/.julia/packages/RigidBodyDynamics/8B04X/src/mechanism_algorithms.jl:281",
     "output_type": "error",
     "traceback": [
      "\n",
      "Stacktrace:\n",
      "  [1] top-level scope\n",
      "    @ ~/onr-dynamics-julia/sim_main_wvirtualmass.ipynb:11\n",
      "  [2] eval\n",
      "    @ ./boot.jl:360 [inlined]\n",
      "  [3] include_string(mapexpr::typeof(REPL.softscope), mod::Module, code::String, filename::String)\n",
      "    @ Base ./loading.jl:1116\n",
      "  [4] #invokelatest#2\n",
      "    @ ./essentials.jl:708 [inlined]\n",
      "  [5] invokelatest\n",
      "    @ ./essentials.jl:706 [inlined]\n",
      "  [6] (::VSCodeServer.var\"#98#99\"{VSCodeServer.NotebookRunCellArguments, String})()\n",
      "    @ VSCodeServer ~/.vscode/extensions/julialang.language-julia-1.4.3/scripts/packages/VSCodeServer/src/serve_notebook.jl:18\n",
      "  [7] withpath(f::VSCodeServer.var\"#98#99\"{VSCodeServer.NotebookRunCellArguments, String}, path::String)\n",
      "    @ VSCodeServer ~/.vscode/extensions/julialang.language-julia-1.4.3/scripts/packages/VSCodeServer/src/repl.jl:185\n",
      "  [8] notebook_runcell_request(conn::VSCodeServer.JSONRPC.JSONRPCEndpoint{Base.PipeEndpoint, Base.PipeEndpoint}, params::VSCodeServer.NotebookRunCellArguments)\n",
      "    @ VSCodeServer ~/.vscode/extensions/julialang.language-julia-1.4.3/scripts/packages/VSCodeServer/src/serve_notebook.jl:14\n",
      "  [9] dispatch_msg(x::VSCodeServer.JSONRPC.JSONRPCEndpoint{Base.PipeEndpoint, Base.PipeEndpoint}, dispatcher::VSCodeServer.JSONRPC.MsgDispatcher, msg::Dict{String, Any})\n",
      "    @ VSCodeServer.JSONRPC ~/.vscode/extensions/julialang.language-julia-1.4.3/scripts/packages/JSONRPC/src/typed.jl:67\n",
      " [10] serve_notebook(pipename::String; crashreporting_pipename::String)\n",
      "    @ VSCodeServer ~/.vscode/extensions/julialang.language-julia-1.4.3/scripts/packages/VSCodeServer/src/serve_notebook.jl:94\n",
      " [11] top-level scope\n",
      "    @ ~/.vscode/extensions/julialang.language-julia-1.4.3/scripts/notebook/notebook.jl:10\n",
      " [12] include(mod::Module, _path::String)\n",
      "    @ Base ./Base.jl:386\n",
      " [13] exec_options(opts::Base.JLOptions)\n",
      "    @ Base ./client.jl:285\n",
      " [14] _start()\n",
      "    @ Base ./client.jl:485"
     ]
    }
   ],
   "source": [
    "# ------------------------------------------------------------------------\n",
    "#                             VISUALIZATION\n",
    "# ------------------------------------------------------------------------\n",
    "# vis = Visualizer()\n",
    "# open(vis)\n",
    "\n",
    "# delete!(vis)\n",
    "# mvis = MechanismVisualizer(mechanism, URDFVisuals(urdf_file))\n",
    "# set_configuration!(mvis, [0.0, 0.0])\n",
    "# open(mvis)\n",
    "MeshCatMechanisms.animate(mvis_alpha, ts, qs; realtimerate = 1.)\n",
    "print(last(qs))\n",
    "\n",
    "# animation = Animation(mvis, ts, qs)\n",
    "# setanimation!(mvis, animation)\n",
    "\n",
    "println(\"\\n done.\")"
   ]
  },
  {
   "cell_type": "code",
   "execution_count": 45,
   "metadata": {},
   "outputs": [],
   "source": []
  }
 ],
 "metadata": {
  "interpreter": {
   "hash": "767d51c1340bd893661ea55ea3124f6de3c7a262a8b4abca0554b478b1e2ff90"
  },
  "kernelspec": {
   "display_name": "Julia 1.6.3",
   "language": "julia",
   "name": "julia-1.6"
  },
  "language_info": {
   "file_extension": ".jl",
   "mimetype": "application/julia",
   "name": "julia",
   "version": "1.6.3"
  },
  "orig_nbformat": 4
 },
 "nbformat": 4,
 "nbformat_minor": 2
}
