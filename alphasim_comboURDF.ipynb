{
 "cells": [
  {
   "cell_type": "code",
   "execution_count": 2,
   "source": [
    "using RigidBodyDynamics\n",
    "using LinearAlgebra\n",
    "using StaticArrays\n",
    "using MeshCat\n",
    "using MeshCatMechanisms\n",
    "using MechanismGeometries\n",
    "using CoordinateTransformations\n",
    "using GeometryBasics\n",
    "\n",
    "include(\"/home/hkolano/onr-dynamics-julia/simulate_with_ext_forces.jl\")\n",
    "println(\"Libraries imported.\")"
   ],
   "outputs": [
    {
     "output_type": "stream",
     "name": "stdout",
     "text": [
      "Libraries imported.\n"
     ]
    }
   ],
   "metadata": {}
  },
  {
   "cell_type": "code",
   "execution_count": 7,
   "source": [
    "# model definition\n",
    "# ------------------------------------------------------------------------\n",
    "#                            MODEL DEFINITION\n",
    "# ------------------------------------------------------------------------\n",
    "vis = Visualizer()\n",
    "render(vis)\n",
    "# Define paths to the URDF files\n",
    "src_dir = dirname(pathof(RigidBodyDynamics))\n",
    "urdf_file_combo = joinpath(src_dir, \"..\", \"..\", \"..\", \"..\", \"..\", \"onr-dynamics-julia\", \"URDFs\", \"alphaArmCombo.urdf\")\n",
    "mechanism_alpha = parse_urdf(urdf_file_combo; gravity = [0.0, 0.0, 0.0])\n",
    "\n",
    "delete!(vis)\n",
    "\n",
    "# Create visuals of the URDFs\n",
    "visuals = URDFVisuals(urdf_file_combo)\n",
    "mvis_alpha = MechanismVisualizer(mechanism_alpha, URDFVisuals(urdf_file_combo), vis[:alpha])\n",
    "\n",
    "# Name the joints of the mechanisms\n",
    "base_joint, shoulder_joint, elbow_joint, wrist_joint = joints(mechanism_alpha)\n",
    "~, shoulder_body, upper_arm_body, elbow_body, wrist_body = bodies(mechanism_alpha)\n",
    "\n",
    "shoulder_frame = default_frame(shoulder_body)\n",
    "upper_arm_frame = default_frame(upper_arm_body)\n",
    "elbow_frame = default_frame(elbow_body)\n",
    "wrist_frame = default_frame(wrist_body)\n",
    "base_frame = root_frame(mechanism_alpha)\n",
    "# # last_link = bodies(mechanism_alpha)[end]\n",
    "# # body_frame = default_frame(last_link)\n",
    "\n",
    "frame_names_cob = [\"shoulder_cob\", \"ua_cob\", \"elbow_cob\", \"wrist_cob\"]\n",
    "frame_names_com = [\"shoulder_com\", \"ua_com\", \"elbow_com\", \"wrist_com\"]\n",
    "cob_vecs = [SVector{3, Float64}([-0.001, -0.003, .032]), SVector{3, Float64}([0.073, 0.0, -0.002]), SVector{3, Float64}([0.015, -0.012, -.003]), SVector{3, Float64}([0.0, 0.0, -.098])]\n",
    "com_vecs = [SVector{3, Float64}([0.005, -.001, 0.016]), SVector{3, Float64}([0.073, 0.0, 0.0]), SVector{3, Float64}([0.017, -0.026, -0.002]), SVector{3, Float64}([0.0, 0.003, -.098])]\n",
    "cob_frames = []\n",
    "com_frames = []\n",
    "for i in 1:4\n",
    "    bod = bodies(mechanism_alpha)[i+1]\n",
    "    frame_cob = CartesianFrame3D(frame_names_cob[i])\n",
    "    frame_com = CartesianFrame3D(frame_names_com[i])\n",
    "    cob_vec = cob_vecs[i]\n",
    "    com_vec = com_vecs[i]\n",
    "    cob_transform = Transform3D(frame_cob, default_frame(bod), cob_vec)\n",
    "    com_transform = Transform3D(frame_com, default_frame(bod), com_vec)\n",
    "    # setelement!(mvis_alpha, default_frame(bod))\n",
    "    if !(is_fixed_to_body(bod, frame_cob))\n",
    "        add_frame!(bod, cob_transform)\n",
    "        push!(cob_frames, frame_cob)\n",
    "        # setelement!(mvis_alpha, frame)    # visualizes COB frames in MeshCat\n",
    "    end\n",
    "    if !(is_fixed_to_body(bod, frame_com))\n",
    "        add_frame!(bod, com_transform)\n",
    "        push!(com_frames, frame_com)\n",
    "        # setelement!(mvis_alpha, frame_com)    # visualizes COM frames in MeshCat\n",
    "    end\n",
    "end\n",
    "\n",
    "println(\"URDFs parsed. Visualizers ready. \\n\")"
   ],
   "outputs": [
    {
     "output_type": "stream",
     "name": "stderr",
     "text": [
      "┌ Info: MeshCat server started. You can open the visualizer by visiting the following URL in your browser:\n",
      "│ http://127.0.0.1:8706\n",
      "└ @ MeshCat /home/hkolano/.julia/packages/MeshCat/GlCMx/src/visualizer.jl:73\n"
     ]
    },
    {
     "output_type": "stream",
     "name": "stdout",
     "text": [
      "URDFs parsed. Visualizers ready. \n",
      "\n"
     ]
    }
   ],
   "metadata": {}
  },
  {
   "cell_type": "code",
   "execution_count": 8,
   "source": [
    "# buoyancy force setup\n",
    "# ------------------------------------------------------------------------\n",
    "#                           BUOYANCY SETUP\n",
    "# ------------------------------------------------------------------------\n",
    "# f = rho * g * V\n",
    "# f = 997 (kg/m^3) * 9.81 (m/s^2) * V_in_L *.001 (m^3) = kg m / s^2\n",
    "# One time setup of buoyancy forces\n",
    "volumes = [.018, .203, .025, .155] # shoulder, ua, elbow, wrist \n",
    "buoy_force_mags = volumes * 997 * 9.81 * .001\n",
    "buoy_lin_forces = []\n",
    "for mag in buoy_force_mags\n",
    "    lin_force = FreeVector3D(base_frame, [0.0, 0.0, mag])\n",
    "    push!(buoy_lin_forces, lin_force)\n",
    "end\n",
    "\n",
    "masses = [.194, .429, .115, .333]\n",
    "grav_forces = masses*9.81\n",
    "grav_lin_forces = []\n",
    "for f_g in grav_forces\n",
    "    lin_force = FreeVector3D(base_frame, [0.0, 0.0, -f_g])\n",
    "    push!(grav_lin_forces, lin_force)\n",
    "end\n",
    "\n",
    "# println(spatial_inertia(shoulder_body))\n",
    "# println(spatial_inertia(upper_arm_body))\n",
    "# println(spatial_inertia(elbow_body))\n",
    "# println(spatial_inertia(wrist_body))\n",
    "# println(mass(mechanism_alpha))"
   ],
   "outputs": [],
   "metadata": {}
  },
  {
   "cell_type": "code",
   "execution_count": 9,
   "source": [
    "# Hydrodynamics calculator function\n",
    "# ------------------------------------------------------------------------\n",
    "#                HYDRODYNAMICS (Grav & Buoy) CALCULATOR\n",
    "# ------------------------------------------------------------------------\n",
    "function hydro_calc!(hydro_wrenches::Dict{BodyID, Wrench{Float64}}, t, state_alpha::MechanismState)\n",
    "    buoy_wrenches = []\n",
    "    grav_wrenches = []\n",
    "    # Iterate through buoyancy for each body\n",
    "    for i in 1:4\n",
    "        # Get the body (will have to change this index when add more joints)\n",
    "        bod = bodies(mechanism_alpha)[i+1]\n",
    "        # Get default frame of te body\n",
    "        body_default_frame = default_frame(bod)\n",
    "        # Get transform between the defualt frame and the center of buoyancy\n",
    "        def_to_cob = fixed_transform(bod, body_default_frame, cob_frames[i])\n",
    "        def_to_com = fixed_transform(bod, body_default_frame, com_frames[i])\n",
    "        # Transform buoyancy force vector to the body's default frame (rotation only)\n",
    "        buoy_force_trans = transform(state_alpha, buoy_lin_forces[i], body_default_frame)\n",
    "        grav_force_trans = transform(state_alpha, grav_lin_forces[i], body_default_frame)\n",
    "        # Make the wrench: the buoyancy force through a point, the center of buoyancy.\n",
    "        buoy_wrench = Wrench(Point3D(body_default_frame, translation(inv(def_to_cob))), buoy_force_trans)\n",
    "        grav_wrench = Wrench(Point3D(body_default_frame, translation(inv(def_to_com))), grav_force_trans)\n",
    "        # Add wrench to buoy_wrenches\n",
    "        push!(buoy_wrenches, buoy_wrench)\n",
    "        push!(grav_wrenches, grav_wrench)\n",
    "        # Add the buoyancy wrench and grav wrench together\n",
    "        wrench = buoy_wrench + grav_wrench\n",
    "        # Transform the wrench to the root frame and assign it to the body\n",
    "        hydro_wrenches[BodyID(bod)] = transform(state_alpha, wrench, root_frame(mechanism_alpha))\n",
    "    end\n",
    "end;\n"
   ],
   "outputs": [],
   "metadata": {}
  },
  {
   "cell_type": "code",
   "execution_count": 10,
   "source": [
    "# Controller function\n",
    "# ------------------------------------------------------------------------\n",
    "#                              CONTROLLER\n",
    "# ------------------------------------------------------------------------\n",
    "\n",
    "function simple_control!(torques::AbstractVector, t, state_alpha::MechanismState, hydro_calc!)\n",
    "    # Get buoyancy buoyancy forces \n",
    "    hydro_calc!(hydro_wrenches, t, state_alpha) \n",
    "    # Calculate inverse dynamics of alpha arm (including buoyancy)\n",
    "    tau = inverse_dynamics(state_alpha, des_acc, hydro_wrenches)\n",
    "\n",
    "    println(\"Control Tau:\")\n",
    "    println(tau)\n",
    "\n",
    "    # Set torques accordingly (controller)\n",
    "    torques[velocity_range(state_alpha, base_joint)] .= tau[base_joint][1]\n",
    "    torques[velocity_range(state_alpha, shoulder_joint)] .= tau[shoulder_joint][1]\n",
    "    torques[velocity_range(state_alpha, elbow_joint)] .= tau[elbow_joint][1]\n",
    "    torques[velocity_range(state_alpha, wrist_joint)] .= tau[wrist_joint][1]\n",
    "    # torques[velocity_rangege(state_alpha, base_joint)] .= 0.01\n",
    "    # torques[velocity_range(state_alpha, shoulder_joint)] .= 0.01\n",
    "    # torques[velocity_range(state_alpha, elbow_joint)] .= 0.01\n",
    "    # torques[velocity_ran(state_alpha, wrist_joint)] .= 0.01\n",
    "end;"
   ],
   "outputs": [],
   "metadata": {}
  },
  {
   "cell_type": "code",
   "execution_count": 12,
   "source": [
    "# initial conditions\n",
    "# ------------------------------------------------------------------------\n",
    "#                          INITIAL CONDITIONS\n",
    "# ------------------------------------------------------------------------\n",
    "# Initialize state of alpha arm\n",
    "state_alpha = MechanismState(mechanism_alpha)\n",
    "zero!(state_alpha)\n",
    "# set_configuration!(state, base_joint, 0.0)\n",
    "# set_configuration!(state, shoulder_joint, -.27079)\n",
    "# set_configuration!(state, elbow_joint, 3.1415/2+1.3)\n",
    "# set_configuration!(state, wrist_joint, 0.5)\n",
    "\n",
    "# Define desired accelerations\n",
    "des_acc = similar(velocity(state_alpha))\n",
    "des_acc[base_joint][1] = 0.0001\n",
    "des_acc[shoulder_joint][1] = 0.\n",
    "des_acc[elbow_joint][1] = 0.\n",
    "des_acc[wrist_joint][1] = 0."
   ],
   "outputs": [
    {
     "output_type": "execute_result",
     "data": {
      "text/plain": [
       "0.0"
      ]
     },
     "metadata": {},
     "execution_count": 12
    }
   ],
   "metadata": {}
  },
  {
   "cell_type": "code",
   "execution_count": 14,
   "source": [
    "# ------------------------------------------------------------------------\n",
    "#                              SIMULATION\n",
    "# ------------------------------------------------------------------------\n",
    "final_time = 1.0\n",
    "ts, qs, vs = simulate_with_ext_forces(state_alpha, final_time, hydro_calc!, simple_control!; Δt = 5e-3)\n",
    "# ts, qs, vs = simulate(state_alpha, final_time, simple_control!; Δt = 1e-2)\n",
    "\n",
    "println(\"Simulation finished.\")"
   ],
   "outputs": [
    {
     "output_type": "stream",
     "name": "stdout",
     "text": [
      "------ NEW SIM STATE -----\n",
      "Control Tau:\n",
      "[2.1573244969520816e-6, 0.3391544392769082, 0.1979696112702415, -0.008600275846047646]\n"
     ]
    },
    {
     "output_type": "error",
     "ename": "LoadError",
     "evalue": "MethodError: no method matching hydro_calc!(::Dict{BodyID, Wrench{Float64}}, ::Float64, ::MechanismState{Float64, Float64, Float64, TypeSortedCollections.TypeSortedCollection{Tuple{Vector{Joint{Float64, Revolute{Float64}}}}, 1}}, ::SegmentedVector{JointID, Float64, Base.OneTo{JointID}, Vector{Float64}})\n\u001b[0mClosest candidates are:\n\u001b[0m  hydro_calc!(::Dict{BodyID, Wrench{Float64}}, ::Any, ::MechanismState) at In[9]:5",
     "traceback": [
      "MethodError: no method matching hydro_calc!(::Dict{BodyID, Wrench{Float64}}, ::Float64, ::MechanismState{Float64, Float64, Float64, TypeSortedCollections.TypeSortedCollection{Tuple{Vector{Joint{Float64, Revolute{Float64}}}}, 1}}, ::SegmentedVector{JointID, Float64, Base.OneTo{JointID}, Vector{Float64}})\n\u001b[0mClosest candidates are:\n\u001b[0m  hydro_calc!(::Dict{BodyID, Wrench{Float64}}, ::Any, ::MechanismState) at In[9]:5",
      "",
      "Stacktrace:",
      "  [1] (::var\"#5#6\"{typeof(hydro_calc!), typeof(simple_control!), DynamicsResult{Float64, Float64}, Dict{BodyID, Wrench{Float64}}, SegmentedVector{JointID, Float64, Base.OneTo{JointID}, Vector{Float64}}, RigidBodyDynamics.CustomCollections.ConstDict{JointID, RigidBodyDynamics.PDControl.SE3PDGains{RigidBodyDynamics.PDControl.PDGains{Float64, Float64}, RigidBodyDynamics.PDControl.PDGains{Float64, Float64}}}})(v̇::SegmentedVector{JointID, Float64, Base.OneTo{JointID}, Vector{Float64}}, ṡ::Vector{Float64}, t::Float64, state::MechanismState{Float64, Float64, Float64, TypeSortedCollections.TypeSortedCollection{Tuple{Vector{Joint{Float64, Revolute{Float64}}}}, 1}})",
      "    @ Main ~/onr-dynamics-julia/simulate_with_ext_forces.jl:16",
      "  [2] step(integrator::MuntheKaasIntegrator{4, Float64, var\"#5#6\"{typeof(hydro_calc!), typeof(simple_control!), DynamicsResult{Float64, Float64}, Dict{BodyID, Wrench{Float64}}, SegmentedVector{JointID, Float64, Base.OneTo{JointID}, Vector{Float64}}, RigidBodyDynamics.CustomCollections.ConstDict{JointID, RigidBodyDynamics.PDControl.SE3PDGains{RigidBodyDynamics.PDControl.PDGains{Float64, Float64}, RigidBodyDynamics.PDControl.PDGains{Float64, Float64}}}}, ExpandingStorage{Float64, SegmentedVector{JointID, Float64, Base.OneTo{JointID}, Vector{Float64}}, SegmentedVector{JointID, Float64, Base.OneTo{JointID}, Vector{Float64}}}, MechanismState{Float64, Float64, Float64, TypeSortedCollections.TypeSortedCollection{Tuple{Vector{Joint{Float64, Revolute{Float64}}}}, 1}}, 16, RigidBodyDynamics.OdeIntegrators.MuntheKaasStageCache{4, Float64, SegmentedVector{JointID, Float64, Base.OneTo{JointID}, Vector{Float64}}, SegmentedVector{JointID, Float64, Base.OneTo{JointID}, Vector{Float64}}, Vector{Float64}}}, t::Float64, Δt::Float64)",
      "    @ RigidBodyDynamics.OdeIntegrators ~/.julia/packages/RigidBodyDynamics/8B04X/src/ode_integrators.jl:273",
      "  [3] macro expansion",
      "    @ ~/.julia/packages/RigidBodyDynamics/8B04X/src/ode_integrators.jl:312 [inlined]",
      "  [4] macro expansion",
      "    @ ~/.julia/packages/LoopThrottle/Wpdca/src/LoopThrottle.jl:89 [inlined]",
      "  [5] #integrate#17",
      "    @ ~/.julia/packages/RigidBodyDynamics/8B04X/src/ode_integrators.jl:311 [inlined]",
      "  [6] integrate(integrator::MuntheKaasIntegrator{4, Float64, var\"#5#6\"{typeof(hydro_calc!), typeof(simple_control!), DynamicsResult{Float64, Float64}, Dict{BodyID, Wrench{Float64}}, SegmentedVector{JointID, Float64, Base.OneTo{JointID}, Vector{Float64}}, RigidBodyDynamics.CustomCollections.ConstDict{JointID, RigidBodyDynamics.PDControl.SE3PDGains{RigidBodyDynamics.PDControl.PDGains{Float64, Float64}, RigidBodyDynamics.PDControl.PDGains{Float64, Float64}}}}, ExpandingStorage{Float64, SegmentedVector{JointID, Float64, Base.OneTo{JointID}, Vector{Float64}}, SegmentedVector{JointID, Float64, Base.OneTo{JointID}, Vector{Float64}}}, MechanismState{Float64, Float64, Float64, TypeSortedCollections.TypeSortedCollection{Tuple{Vector{Joint{Float64, Revolute{Float64}}}}, 1}}, 16, RigidBodyDynamics.OdeIntegrators.MuntheKaasStageCache{4, Float64, SegmentedVector{JointID, Float64, Base.OneTo{JointID}, Vector{Float64}}, SegmentedVector{JointID, Float64, Base.OneTo{JointID}, Vector{Float64}}, Vector{Float64}}}, final_time::Float64, Δt::Float64)",
      "    @ RigidBodyDynamics.OdeIntegrators ~/.julia/packages/RigidBodyDynamics/8B04X/src/ode_integrators.jl:308",
      "  [7] simulate_with_ext_forces(state0::MechanismState{Float64, Float64, Float64, TypeSortedCollections.TypeSortedCollection{Tuple{Vector{Joint{Float64, Revolute{Float64}}}}, 1}}, final_time::Float64, hydro_calc!::typeof(hydro_calc!), control!::typeof(simple_control!); Δt::Float64, stabilization_gains::RigidBodyDynamics.CustomCollections.ConstDict{JointID, RigidBodyDynamics.PDControl.SE3PDGains{RigidBodyDynamics.PDControl.PDGains{Float64, Float64}, RigidBodyDynamics.PDControl.PDGains{Float64, Float64}}})",
      "    @ Main ~/onr-dynamics-julia/simulate_with_ext_forces.jl:35",
      "  [8] top-level scope",
      "    @ In[14]:5",
      "  [9] eval",
      "    @ ./boot.jl:360 [inlined]",
      " [10] include_string(mapexpr::typeof(REPL.softscope), mod::Module, code::String, filename::String)",
      "    @ Base ./loading.jl:1116"
     ]
    }
   ],
   "metadata": {}
  },
  {
   "cell_type": "code",
   "execution_count": null,
   "source": [
    "# ------------------------------------------------------------------------\n",
    "#                             VISUALIZATION\n",
    "# ------------------------------------------------------------------------\n",
    "# vis = Visualizer()\n",
    "# open(vis)\n",
    "\n",
    "# delete!(vis)\n",
    "# mvis = MechanismVisualizer(mechanism, URDFVisuals(urdf_file))\n",
    "# set_configuration!(mvis, [0.0, 0.0])\n",
    "# open(mvis)\n",
    "MeshCatMechanisms.animate(mvis_alpha, ts, qs; realtimerate = 1.)\n",
    "print(last(qs))\n",
    "\n",
    "# animation = Animation(mvis, ts, qs)\n",
    "# setanimation!(mvis, animation)\n",
    "\n",
    "println(\"\\n done.\")"
   ],
   "outputs": [],
   "metadata": {}
  },
  {
   "cell_type": "markdown",
   "source": [
    "With added mass: \n",
    "[0.00547, 0.69718, 0.93936, 1.07620]\n",
    "\n",
    "without added mass:\n",
    "[0.005475504, 0.697184625, 0.93936468, 1.0762014]"
   ],
   "metadata": {}
  }
 ],
 "metadata": {
  "orig_nbformat": 4,
  "language_info": {
   "file_extension": ".jl",
   "name": "julia",
   "mimetype": "application/julia",
   "version": "1.6.3"
  },
  "kernelspec": {
   "name": "julia-1.6",
   "display_name": "Julia 1.6.3",
   "language": "julia"
  },
  "interpreter": {
   "hash": "767d51c1340bd893661ea55ea3124f6de3c7a262a8b4abca0554b478b1e2ff90"
  }
 },
 "nbformat": 4,
 "nbformat_minor": 2
}