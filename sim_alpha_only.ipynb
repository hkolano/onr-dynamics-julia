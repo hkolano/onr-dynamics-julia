{
 "cells": [
  {
   "cell_type": "markdown",
   "metadata": {},
   "source": [
    "## Simulation of the Alpha Arm with Hydrodynamics\n",
    "\n",
    "This simulation has only the Alpha arm implemented. The URDF called, ```alphaArmCombo.urdf```, includes the added mass as inertia. \n",
    "\n",
    "#### Metadata\n",
    "\n",
    "Last edited by Hannah Kolano on 12/15/2021"
   ]
  },
  {
   "cell_type": "code",
   "execution_count": 2,
   "metadata": {},
   "outputs": [
    {
     "name": "stdout",
     "output_type": "stream",
     "text": [
      "Libraries imported.\n"
     ]
    }
   ],
   "source": [
    "# Module importing\n",
    "using RigidBodyDynamics\n",
    "using LinearAlgebra\n",
    "using StaticArrays\n",
    "using MeshCat\n",
    "using MeshCatMechanisms\n",
    "using MechanismGeometries\n",
    "using CoordinateTransformations\n",
    "using GeometryBasics\n",
    "\n",
    "include(\"/home/hkolano/onr-dynamics-julia/simulate_with_ext_forces.jl\")\n",
    "println(\"Libraries imported.\")"
   ]
  },
  {
   "cell_type": "code",
   "execution_count": 3,
   "metadata": {},
   "outputs": [
    {
     "name": "stderr",
     "output_type": "stream",
     "text": [
      "┌ Info: MeshCat server started. You can open the visualizer by visiting the following URL in your browser:\n",
      "│ http://127.0.0.1:8700\n",
      "└ @ MeshCat /home/hkolano/.julia/packages/MeshCat/GlCMx/src/visualizer.jl:73\n"
     ]
    },
    {
     "name": "stdout",
     "output_type": "stream",
     "text": [
      "URDFs parsed. Visualizers ready. \n",
      "\n"
     ]
    }
   ],
   "source": [
    "# model definition\n",
    "# ------------------------------------------------------------------------\n",
    "#                            MODEL DEFINITION\n",
    "# ------------------------------------------------------------------------\n",
    "vis = Visualizer()\n",
    "render(vis)\n",
    "# Define paths to the URDF files\n",
    "src_dir = dirname(pathof(RigidBodyDynamics))\n",
    "urdf_file = joinpath(src_dir, \"..\", \"..\", \"..\", \"..\", \"..\", \"onr-dynamics-julia\", \"URDFs\", \"alphaArmCombo.urdf\")\n",
    "mechanism_alpha = parse_urdf(urdf_file; gravity = [0.0, 0.0, 0.0])\n",
    "\n",
    "delete!(vis)\n",
    "\n",
    "# Create visuals of the URDFs\n",
    "visuals = URDFVisuals(urdf_file)\n",
    "mvis_alpha = MechanismVisualizer(mechanism_alpha, URDFVisuals(urdf_file), vis[:alpha])\n",
    "\n",
    "# Name the joints and bodies of the mechanism\n",
    "base_joint, shoulder_joint, elbow_joint, wrist_joint = joints(mechanism_alpha)\n",
    "~, shoulder_body, upper_arm_body, elbow_body, wrist_body = bodies(mechanism_alpha)\n",
    "\n",
    "# Define default frames for each body\n",
    "shoulder_frame = default_frame(shoulder_body)\n",
    "upper_arm_frame = default_frame(upper_arm_body)\n",
    "elbow_frame = default_frame(elbow_body)\n",
    "wrist_frame = default_frame(wrist_body)\n",
    "base_frame = root_frame(mechanism_alpha)\n",
    "# setelement!(mvis_alpha, shoulder_frame) # shows the frame in the visualization\n",
    "\n",
    "println(\"URDFs parsed. Visualizers ready. \\n\")"
   ]
  },
  {
   "cell_type": "code",
   "execution_count": 5,
   "metadata": {},
   "outputs": [
    {
     "name": "stdout",
     "output_type": "stream",
     "text": [
      "Any["
     ]
    },
    {
     "name": "stdout",
     "output_type": "stream",
     "text": [
      "FreeVector3D in \"world\": [0.0, 0.0, 0.17605026], FreeVector3D in \"world\": [0.0, 0.0, 1.9854557100000003], FreeVector3D in \"world\": [0.0, 0.0, 0.24451425000000004], FreeVector3D in \"world\": [0.0, 0.0, 1.5159883500000002]]"
     ]
    }
   ],
   "source": [
    "# buoyancy & gravity setup\n",
    "# ------------------------------------------------------------------------\n",
    "#                  BUOYANCY & GRAVITY FORCE MAGNITUDES\n",
    "# ------------------------------------------------------------------------\n",
    "# f = rho * g * V\n",
    "# f = 997 (kg/m^3) * 9.81 (m/s^2) * V_in_L *.001 (m^3) = kg m / s^2\n",
    "# One time setup of buoyancy forces\n",
    "volumes = [.018, .203, .025, .155] #  shoulder, ua, elbow, wrist,\n",
    "buoy_force_mags = volumes * 997 * 9.81 * .001\n",
    "buoy_lin_forces = []\n",
    "for mag in buoy_force_mags\n",
    "    lin_force = FreeVector3D(base_frame, [0.0, 0.0, mag])\n",
    "    push!(buoy_lin_forces, lin_force)\n",
    "end\n",
    "print(buoy_lin_forces)\n",
    "\n",
    "masses = [.194, .429, .115, .333]\n",
    "grav_forces = masses*9.81\n",
    "grav_lin_forces = []\n",
    "for f_g in grav_forces\n",
    "    lin_force = FreeVector3D(base_frame, [0.0, 0.0, -f_g])\n",
    "    push!(grav_lin_forces, lin_force)\n",
    "end"
   ]
  },
  {
   "cell_type": "code",
   "execution_count": 6,
   "metadata": {},
   "outputs": [],
   "source": [
    "# Hydrodynamics calculator function\n",
    "# ------------------------------------------------------------------------\n",
    "#                HYDRODYNAMICS (Grav & Buoy) CALCULATOR\n",
    "# ------------------------------------------------------------------------\n",
    "function hydro_calc!(hydro_wrenches::Dict{BodyID, Wrench{Float64}}, t, state_alpha::MechanismState)\n",
    "    names = [\"cob1\", \"cob2\", \"cob3\", \"cob4\"]\n",
    "    # Iterate through buoyancy for each body\n",
    "    for i in 1:4\n",
    "        # Get the body\n",
    "        bod = bodies(mechanism_alpha)[i+1]\n",
    "        # Get default frame of te body\n",
    "        body_default_frame = default_frame(bod)\n",
    "        # Get transform between the defualt frame and the center of buoyancy\n",
    "        # TODO: don't use fixed_transform because it's bad for computation time\n",
    "        def_to_cob = fixed_transform(bod, body_default_frame, cob_frames[i])\n",
    "        def_to_com = fixed_transform(bod, body_default_frame, com_frames[i])\n",
    "        # Transform buoyancy force vector to the body's default frame (rotation only)\n",
    "        buoy_force_trans = transform(state_alpha, buoy_lin_forces[i], body_default_frame)\n",
    "        grav_force_trans = transform(state_alpha, grav_lin_forces[i], body_default_frame)\n",
    "        # Make the wrench: the buoyancy force through a point, the center of buoyancy.\n",
    "        buoy_wrench = Wrench(Point3D(body_default_frame, translation(inv(def_to_cob))), buoy_force_trans)\n",
    "        grav_wrench = Wrench(Point3D(body_default_frame, translation(inv(def_to_com))), grav_force_trans)\n",
    "        # Add the buoyancy wrench and grav wrench together\n",
    "        wrench = buoy_wrench + grav_wrench\n",
    "        # println(wrench)\n",
    "        # setelement!(mvis_alpha, Point3D(body_default_frame, translation(inv(def_to_cob))), 0.02, \"name\")\n",
    "        # Transform the wrench to the root frame and assign it to the body\n",
    "        hydro_wrenches[BodyID(bod)] = transform(state_alpha, wrench, root_frame(mechanism_alpha))\n",
    "    end\n",
    "end;\n"
   ]
  },
  {
   "cell_type": "code",
   "execution_count": 52,
   "metadata": {},
   "outputs": [],
   "source": [
    "function get_des_acc!(des_acc, t, state_alpha::MechanismState, vdot)\n",
    "    # TODO: implement a simple pt a to pt b trajectory generation\n",
    "    des_acc[base_joint][1] = 0.0\n",
    "    des_acc[shoulder_joint][1] = vdot[shoulder_joint][1]\n",
    "    des_acc[elbow_joint][1] = 0.5 #vdot[elbow_joint][1]\n",
    "    des_acc[wrist_joint][1] = 0.00\n",
    "end;"
   ]
  },
  {
   "cell_type": "code",
   "execution_count": 53,
   "metadata": {},
   "outputs": [],
   "source": [
    "# Controller function\n",
    "# ------------------------------------------------------------------------\n",
    "#                              CONTROLLER\n",
    "# ------------------------------------------------------------------------\n",
    "\n",
    "function simple_control!(torques::AbstractVector, t, state_alpha::MechanismState, hydro_wrenches::Dict{BodyID, Wrench{Float64}}, vdot)\n",
    "\n",
    "    # Calculate inverse dynamics of alpha arm (including buoyancy)\n",
    "    get_des_acc!(des_acc, t, state_alpha, vdot)\n",
    "    tau = inverse_dynamics(state_alpha, des_acc, hydro_wrenches)\n",
    "\n",
    "    # Set torques accordingly (controller)\n",
    "    torques[velocity_range(state_alpha, base_joint)] .= tau[base_joint][1]\n",
    "    torques[velocity_range(state_alpha, shoulder_joint)] .= 0 #tau[shoulder_joint][1]\n",
    "    torques[velocity_range(state_alpha, elbow_joint)] .= tau[elbow_joint][1]\n",
    "    torques[velocity_range(state_alpha, wrist_joint)] .= tau[wrist_joint][1]\n",
    "\n",
    "end;"
   ]
  },
  {
   "cell_type": "code",
   "execution_count": 10,
   "metadata": {},
   "outputs": [
    {
     "data": {
      "text/plain": [
       "0.0"
      ]
     },
     "metadata": {},
     "output_type": "display_data"
    }
   ],
   "source": [
    "# initial conditions\n",
    "# ------------------------------------------------------------------------\n",
    "#                          INITIAL CONDITIONS\n",
    "# ------------------------------------------------------------------------\n",
    "# Initialize state of alpha arm\n",
    "state_alpha = MechanismState(mechanism_alpha)\n",
    "zero!(state_alpha)\n",
    "set_configuration!(state_alpha, base_joint, 3.141)\n",
    "# set_configuration!(state, shoulder_joint, -.27079)\n",
    "# set_configuration!(state, elbow_joint, 3.1415/2+1.3)\n",
    "# set_configuration!(state, wrist_joint, 0.5)\n",
    "\n",
    "# Define desired velocities\n",
    "des_acc = similar(velocity(state_alpha))\n",
    "des_acc[base_joint][1] = 0.0\n",
    "des_acc[shoulder_joint][1] = 0.0\n",
    "des_acc[elbow_joint][1] = 0.0\n",
    "des_acc[wrist_joint][1] = 0.0\n",
    "# print(des_acc)\n"
   ]
  },
  {
   "cell_type": "code",
   "execution_count": 59,
   "metadata": {},
   "outputs": [
    {
     "name": "stdout",
     "output_type": "stream",
     "text": [
      "Simulation finished.\n"
     ]
    }
   ],
   "source": [
    "# simulation\n",
    "# ------------------------------------------------------------------------\n",
    "#                              SIMULATION\n",
    "# ------------------------------------------------------------------------\n",
    "final_time = 5\n",
    "ts, qs, vs = simulate_with_ext_forces(state_alpha, final_time, hydro_calc!, simple_control!; Δt = 5e-3)\n",
    "# ts, qs, vs = simulate(state_alpha, final_time, simple_control!; Δt = 1e-2)\n",
    "\n",
    "println(\"Simulation finished.\")"
   ]
  },
  {
   "cell_type": "code",
   "execution_count": 60,
   "metadata": {},
   "outputs": [
    {
     "name": "stdout",
     "output_type": "stream",
     "text": [
      "[NaN, NaN, NaN, NaN]\n",
      " done.\n"
     ]
    }
   ],
   "source": [
    "# ------------------------------------------------------------------------\n",
    "#                             VISUALIZATION\n",
    "# ------------------------------------------------------------------------\n",
    "MeshCatMechanisms.animate(mvis_alpha, ts, qs; realtimerate = 0.5)\n",
    "print(last(qs))\n",
    "\n",
    "println(\"\\n done.\")"
   ]
  },
  {
   "cell_type": "code",
   "execution_count": 61,
   "metadata": {},
   "outputs": [],
   "source": []
  }
 ],
 "metadata": {
  "interpreter": {
   "hash": "767d51c1340bd893661ea55ea3124f6de3c7a262a8b4abca0554b478b1e2ff90"
  },
  "kernelspec": {
   "display_name": "Julia 1.6.3",
   "language": "julia",
   "name": "julia-1.6"
  },
  "language_info": {
   "file_extension": ".jl",
   "mimetype": "application/julia",
   "name": "julia",
   "version": "1.6.3"
  },
  "orig_nbformat": 4
 },
 "nbformat": 4,
 "nbformat_minor": 2
}
